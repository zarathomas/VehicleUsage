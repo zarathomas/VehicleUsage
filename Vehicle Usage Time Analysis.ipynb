{
 "cells": [
  {
   "cell_type": "code",
   "execution_count": 1016,
   "metadata": {},
   "outputs": [],
   "source": [
    "#import required libraries \n",
    "library(ggplot2)\n",
    "library(plyr)\n",
    "library(broom)\n",
    "library(zoo)\n",
    "library(forecast)\n",
    "library(ggfortify)"
   ]
  },
  {
   "cell_type": "code",
   "execution_count": 1017,
   "metadata": {},
   "outputs": [],
   "source": [
    "#Read CSV files into R\n",
    "bookings = read.csv(\"bookings_data_data_analyst_test.csv\")"
   ]
  },
  {
   "cell_type": "code",
   "execution_count": 1018,
   "metadata": {},
   "outputs": [],
   "source": [
    "#Convert dates into date type\n",
    "bookings$start_time <- as.Date(bookings$start_time, format= \"%d/%m/%Y\")\n",
    "bookings$end_time <- as.Date(bookings$end_time, format= \"%d/%m/%Y\")"
   ]
  },
  {
   "cell_type": "code",
   "execution_count": 1019,
   "metadata": {},
   "outputs": [],
   "source": [
    "#Remove whitespaces from Vehicle model and Vehicle make names.\n",
    "bookings$vehicle_model <- gsub(\" \", \"\", bookings$vehicle_model, fixed = TRUE)\n",
    "bookings$vehicle_make <- gsub(\" \", \"\", bookings$vehicle_make, fixed = TRUE)"
   ]
  },
  {
   "cell_type": "code",
   "execution_count": 1020,
   "metadata": {},
   "outputs": [
    {
     "data": {
      "text/html": [
       "<table>\n",
       "<thead><tr><th></th><th scope=col>start_time</th><th scope=col>end_time</th><th scope=col>vehicle_id</th><th scope=col>vehicle_model</th><th scope=col>vehicle_make</th><th scope=col>weekly_gmv</th><th scope=col>weekly_commission</th></tr></thead>\n",
       "<tbody>\n",
       "\t<tr><th scope=row>1926</th><td>2018-04-16</td><td>2018-10-01</td><td>1926      </td><td>NA        </td><td>NA        </td><td>201       </td><td>41        </td></tr>\n",
       "</tbody>\n",
       "</table>\n"
      ],
      "text/latex": [
       "\\begin{tabular}{r|lllllll}\n",
       "  & start\\_time & end\\_time & vehicle\\_id & vehicle\\_model & vehicle\\_make & weekly\\_gmv & weekly\\_commission\\\\\n",
       "\\hline\n",
       "\t1926 & 2018-04-16 & 2018-10-01 & 1926       & NA         & NA         & 201        & 41        \\\\\n",
       "\\end{tabular}\n"
      ],
      "text/markdown": [
       "\n",
       "| <!--/--> | start_time | end_time | vehicle_id | vehicle_model | vehicle_make | weekly_gmv | weekly_commission | \n",
       "|---|\n",
       "| 1926 | 2018-04-16 | 2018-10-01 | 1926       | NA         | NA         | 201        | 41         | \n",
       "\n",
       "\n"
      ],
      "text/plain": [
       "     start_time end_time   vehicle_id vehicle_model vehicle_make weekly_gmv\n",
       "1926 2018-04-16 2018-10-01 1926       NA            NA           201       \n",
       "     weekly_commission\n",
       "1926 41               "
      ]
     },
     "metadata": {},
     "output_type": "display_data"
    }
   ],
   "source": [
    "# Find rows of data with missing values - Only vehicle model/make is missing - can still use other data\n",
    "new_DF <- bookings[rowSums(is.na(bookings)) > 0,]\n",
    "new_DF"
   ]
  },
  {
   "cell_type": "code",
   "execution_count": 1021,
   "metadata": {},
   "outputs": [
    {
     "name": "stdout",
     "output_type": "stream",
     "text": [
      "[1] \"The number of live bookings on the 12th January 2018: 462\"\n"
     ]
    }
   ],
   "source": [
    "# Thte total number of live bookings on the 12th January 2018 \n",
    "date = \"2018/01/12\"\n",
    "live_bookings <- subset(bookings, subset = (date >=start_time & date <= end_time))\n",
    "print(paste(\"The number of live bookings on the 12th January 2018:\",nrow(live_bookings)))"
   ]
  },
  {
   "cell_type": "code",
   "execution_count": 1022,
   "metadata": {},
   "outputs": [],
   "source": [
    "# Find the total duration in weeks for each booking and create new column \"no_weeks\"\n",
    "bookings <- transform(bookings, no_weeks = as.numeric(difftime(bookings$end_time, bookings$start_time, units = \"weeks\")))"
   ]
  },
  {
   "cell_type": "code",
   "execution_count": 1023,
   "metadata": {},
   "outputs": [],
   "source": [
    "#Create column entitled \"total_commission\" to find the highest commission rate as a percentage of gmv \n",
    "bookings <- transform(bookings, total_commission = (weekly_commission / weekly_gmv)*no_weeks)"
   ]
  },
  {
   "cell_type": "code",
   "execution_count": 1024,
   "metadata": {},
   "outputs": [
    {
     "data": {
      "text/html": [
       "<table>\n",
       "<thead><tr><th></th><th scope=col>start_time</th><th scope=col>end_time</th><th scope=col>vehicle_id</th><th scope=col>vehicle_model</th><th scope=col>vehicle_make</th><th scope=col>weekly_gmv</th><th scope=col>weekly_commission</th><th scope=col>no_weeks</th><th scope=col>total_commission</th></tr></thead>\n",
       "<tbody>\n",
       "\t<tr><th scope=row>441</th><td>2018-02-28</td><td>2019-02-27</td><td>441       </td><td>Galaxy    </td><td>Ford      </td><td>227       </td><td>67        </td><td>52        </td><td>15.34802  </td></tr>\n",
       "</tbody>\n",
       "</table>\n"
      ],
      "text/latex": [
       "\\begin{tabular}{r|lllllllll}\n",
       "  & start\\_time & end\\_time & vehicle\\_id & vehicle\\_model & vehicle\\_make & weekly\\_gmv & weekly\\_commission & no\\_weeks & total\\_commission\\\\\n",
       "\\hline\n",
       "\t441 & 2018-02-28 & 2019-02-27 & 441        & Galaxy     & Ford       & 227        & 67         & 52         & 15.34802  \\\\\n",
       "\\end{tabular}\n"
      ],
      "text/markdown": [
       "\n",
       "| <!--/--> | start_time | end_time | vehicle_id | vehicle_model | vehicle_make | weekly_gmv | weekly_commission | no_weeks | total_commission | \n",
       "|---|\n",
       "| 441 | 2018-02-28 | 2019-02-27 | 441        | Galaxy     | Ford       | 227        | 67         | 52         | 15.34802   | \n",
       "\n",
       "\n"
      ],
      "text/plain": [
       "    start_time end_time   vehicle_id vehicle_model vehicle_make weekly_gmv\n",
       "441 2018-02-28 2019-02-27 441        Galaxy        Ford         227       \n",
       "    weekly_commission no_weeks total_commission\n",
       "441 67                52       15.34802        "
      ]
     },
     "metadata": {},
     "output_type": "display_data"
    }
   ],
   "source": [
    "# Find highest commission rate as a percentage of GMV\n",
    "subset(bookings, subset = total_commission == max(bookings$total_commission))"
   ]
  },
  {
   "cell_type": "code",
   "execution_count": 1025,
   "metadata": {},
   "outputs": [
    {
     "data": {
      "text/html": [
       "<table>\n",
       "<thead><tr><th></th><th scope=col>start_time</th><th scope=col>end_time</th><th scope=col>vehicle_id</th><th scope=col>vehicle_model</th><th scope=col>vehicle_make</th><th scope=col>weekly_gmv</th><th scope=col>weekly_commission</th><th scope=col>no_weeks</th><th scope=col>total_commission</th><th scope=col>start_year</th><th scope=col>end_year</th><th scope=col>start_month</th><th scope=col>end_month</th></tr></thead>\n",
       "<tbody>\n",
       "\t<tr><th scope=row>5</th><td>2018-01-02   </td><td>2018-01-09   </td><td>  5          </td><td>IoniqHybrid  </td><td>Hyundai      </td><td>209          </td><td>49           </td><td> 1.0000000   </td><td>0.23444976   </td><td>2018         </td><td>2018         </td><td>Jan          </td><td>Jan          </td></tr>\n",
       "\t<tr><th scope=row>6</th><td>2017-01-06   </td><td>2017-01-12   </td><td>  6          </td><td>Prius        </td><td>Toyota       </td><td>212          </td><td>52           </td><td> 0.8571429   </td><td>0.21024259   </td><td>2017         </td><td>2017         </td><td>Jan          </td><td>Jan          </td></tr>\n",
       "\t<tr><th scope=row>10</th><td>2018-01-10   </td><td>2018-01-16   </td><td> 10          </td><td>Prius        </td><td>Toyota       </td><td>216          </td><td>56           </td><td> 0.8571429   </td><td>0.22222222   </td><td>2018         </td><td>2018         </td><td>Jan          </td><td>Jan          </td></tr>\n",
       "\t<tr><th scope=row>19</th><td>2018-01-30   </td><td>2018-02-13   </td><td> 19          </td><td>Auris        </td><td>Toyota       </td><td>213          </td><td>53           </td><td> 2.0000000   </td><td>0.49765258   </td><td>2018         </td><td>2018         </td><td>Jan          </td><td>Feb          </td></tr>\n",
       "\t<tr><th scope=row>30</th><td>2017-01-18   </td><td>2017-04-13   </td><td> 30          </td><td>Prius        </td><td>Toyota       </td><td>213          </td><td>53           </td><td>12.1428571   </td><td>3.02146211   </td><td>2017         </td><td>2017         </td><td>Jan          </td><td>Apr          </td></tr>\n",
       "\t<tr><th scope=row>34</th><td>2018-01-15   </td><td>2018-04-10   </td><td> 34          </td><td>Octavia      </td><td>Skoda        </td><td>210          </td><td>50           </td><td>12.1428571   </td><td>2.89115646   </td><td>2018         </td><td>2018         </td><td>Jan          </td><td>Apr          </td></tr>\n",
       "\t<tr><th scope=row>42</th><td>2017-01-05   </td><td>2017-02-02   </td><td> 42          </td><td>Superb       </td><td>Skoda        </td><td>202          </td><td>42           </td><td> 4.0000000   </td><td>0.83168317   </td><td>2017         </td><td>2017         </td><td>Jan          </td><td>Feb          </td></tr>\n",
       "\t<tr><th scope=row>60</th><td>2018-01-18   </td><td>2018-01-29   </td><td> 60          </td><td>Prius        </td><td>Toyota       </td><td>229          </td><td>69           </td><td> 1.5714286   </td><td>0.47348721   </td><td>2018         </td><td>2018         </td><td>Jan          </td><td>Jan          </td></tr>\n",
       "\t<tr><th scope=row>62</th><td>2018-01-26   </td><td>2018-04-23   </td><td> 62          </td><td>PriusNewShape</td><td>Toyota       </td><td>223          </td><td>63           </td><td>12.4285714   </td><td>3.51121076   </td><td>2018         </td><td>2018         </td><td>Jan          </td><td>Apr          </td></tr>\n",
       "\t<tr><th scope=row>71</th><td>2018-01-03   </td><td>2018-03-23   </td><td> 71          </td><td>PriusNewShape</td><td>Toyota       </td><td>223          </td><td>63           </td><td>11.2857143   </td><td>3.18834081   </td><td>2018         </td><td>2018         </td><td>Jan          </td><td>Mar          </td></tr>\n",
       "\t<tr><th scope=row>73</th><td>2018-01-08   </td><td>2018-01-15   </td><td> 73          </td><td>Prius        </td><td>Toyota       </td><td>215          </td><td>55           </td><td> 1.0000000   </td><td>0.25581395   </td><td>2018         </td><td>2018         </td><td>Jan          </td><td>Jan          </td></tr>\n",
       "\t<tr><th scope=row>86</th><td>2018-01-09   </td><td>2018-04-04   </td><td> 86          </td><td>Auris        </td><td>Toyota       </td><td>204          </td><td>44           </td><td>12.1428571   </td><td>2.61904762   </td><td>2018         </td><td>2018         </td><td>Jan          </td><td>Apr          </td></tr>\n",
       "\t<tr><th scope=row>95</th><td>2017-01-19   </td><td>2017-01-26   </td><td> 95          </td><td>Prius        </td><td>Toyota       </td><td>226          </td><td>66           </td><td> 1.0000000   </td><td>0.29203540   </td><td>2017         </td><td>2017         </td><td>Jan          </td><td>Jan          </td></tr>\n",
       "\t<tr><th scope=row>97</th><td>2018-01-31   </td><td>2018-02-07   </td><td> 97          </td><td>Prius        </td><td>Toyota       </td><td>207          </td><td>47           </td><td> 1.0000000   </td><td>0.22705314   </td><td>2018         </td><td>2018         </td><td>Jan          </td><td>Feb          </td></tr>\n",
       "\t<tr><th scope=row>99</th><td>2018-01-29   </td><td>2018-02-05   </td><td> 99          </td><td>Prius        </td><td>Toyota       </td><td>205          </td><td>45           </td><td> 1.0000000   </td><td>0.21951220   </td><td>2018         </td><td>2018         </td><td>Jan          </td><td>Feb          </td></tr>\n",
       "\t<tr><th scope=row>100</th><td>2018-01-04   </td><td>2018-02-01   </td><td>100          </td><td>Prius        </td><td>Toyota       </td><td>201          </td><td>41           </td><td> 4.0000000   </td><td>0.81592040   </td><td>2018         </td><td>2018         </td><td>Jan          </td><td>Feb          </td></tr>\n",
       "\t<tr><th scope=row>105</th><td>2018-01-30   </td><td>2018-01-31   </td><td>105          </td><td>XfSeries     </td><td>Jaguar       </td><td>231          </td><td>71           </td><td> 0.1428571   </td><td>0.04390847   </td><td>2018         </td><td>2018         </td><td>Jan          </td><td>Jan          </td></tr>\n",
       "\t<tr><th scope=row>114</th><td>2017-01-20   </td><td>2017-02-17   </td><td>114          </td><td>Prius        </td><td>Toyota       </td><td>217          </td><td>57           </td><td> 4.0000000   </td><td>1.05069124   </td><td>2017         </td><td>2017         </td><td>Jan          </td><td>Feb          </td></tr>\n",
       "\t<tr><th scope=row>115</th><td>2018-01-31   </td><td>2018-02-28   </td><td>115          </td><td>PriusNewShape</td><td>Toyota       </td><td>228          </td><td>68           </td><td> 4.0000000   </td><td>1.19298246   </td><td>2018         </td><td>2018         </td><td>Jan          </td><td>Feb          </td></tr>\n",
       "\t<tr><th scope=row>125</th><td>2018-01-23   </td><td>2018-02-13   </td><td>125          </td><td>Prius        </td><td>Toyota       </td><td>213          </td><td>53           </td><td> 3.0000000   </td><td>0.74647887   </td><td>2018         </td><td>2018         </td><td>Jan          </td><td>Feb          </td></tr>\n",
       "\t<tr><th scope=row>128</th><td>2018-01-30   </td><td>2018-02-06   </td><td>128          </td><td>Prius        </td><td>Toyota       </td><td>206          </td><td>46           </td><td> 1.0000000   </td><td>0.22330097   </td><td>2018         </td><td>2018         </td><td>Jan          </td><td>Feb          </td></tr>\n",
       "\t<tr><th scope=row>129</th><td>2018-01-29   </td><td>2018-03-26   </td><td>129          </td><td>Galaxy       </td><td>Ford         </td><td>226          </td><td>66           </td><td> 8.0000000   </td><td>2.33628319   </td><td>2018         </td><td>2018         </td><td>Jan          </td><td>Mar          </td></tr>\n",
       "\t<tr><th scope=row>130</th><td>2017-01-27   </td><td>2017-01-30   </td><td>130          </td><td>Prius        </td><td>Toyota       </td><td>230          </td><td>70           </td><td> 0.4285714   </td><td>0.13043478   </td><td>2017         </td><td>2017         </td><td>Jan          </td><td>Jan          </td></tr>\n",
       "\t<tr><th scope=row>139</th><td>2018-01-04   </td><td>2018-01-08   </td><td>139          </td><td>Galaxy       </td><td>Ford         </td><td>208          </td><td>48           </td><td> 0.5714286   </td><td>0.13186813   </td><td>2018         </td><td>2018         </td><td>Jan          </td><td>Jan          </td></tr>\n",
       "\t<tr><th scope=row>155</th><td>2018-01-31   </td><td>2018-07-18   </td><td>155          </td><td>Avensis      </td><td>Toyota       </td><td>218          </td><td>58           </td><td>24.0000000   </td><td>6.38532110   </td><td>2018         </td><td>2018         </td><td>Jan          </td><td>Jul          </td></tr>\n",
       "\t<tr><th scope=row>156</th><td>2017-01-13   </td><td>2017-01-20   </td><td>156          </td><td>3Series      </td><td>BMW          </td><td>220          </td><td>60           </td><td> 1.0000000   </td><td>0.27272727   </td><td>2017         </td><td>2017         </td><td>Jan          </td><td>Jan          </td></tr>\n",
       "\t<tr><th scope=row>160</th><td>2017-01-05   </td><td>2017-01-12   </td><td>160          </td><td>PriusPlug-in </td><td>Toyota       </td><td>212          </td><td>52           </td><td> 1.0000000   </td><td>0.24528302   </td><td>2017         </td><td>2017         </td><td>Jan          </td><td>Jan          </td></tr>\n",
       "\t<tr><th scope=row>167</th><td>2018-01-31   </td><td>2018-02-28   </td><td>167          </td><td>PriusNewShape</td><td>Toyota       </td><td>228          </td><td>68           </td><td> 4.0000000   </td><td>1.19298246   </td><td>2018         </td><td>2018         </td><td>Jan          </td><td>Feb          </td></tr>\n",
       "\t<tr><th scope=row>172</th><td>2018-01-11   </td><td>2018-01-31   </td><td>172          </td><td>XfSeries     </td><td>Jaguar       </td><td>231          </td><td>71           </td><td> 2.8571429   </td><td>0.87816945   </td><td>2018         </td><td>2018         </td><td>Jan          </td><td>Jan          </td></tr>\n",
       "\t<tr><th scope=row>185</th><td>2017-01-12   </td><td>2017-01-26   </td><td>185          </td><td>Prius        </td><td>Toyota       </td><td>226          </td><td>66           </td><td> 2.0000000   </td><td>0.58407080   </td><td>2017         </td><td>2017         </td><td>Jan          </td><td>Jan          </td></tr>\n",
       "\t<tr><th scope=row>...</th><td>...</td><td>...</td><td>...</td><td>...</td><td>...</td><td>...</td><td>...</td><td>...</td><td>...</td><td>...</td><td>...</td><td>...</td><td>...</td></tr>\n",
       "\t<tr><th scope=row>4558</th><td>2017-12-22   </td><td>2018-01-19   </td><td>4558         </td><td>Mondeo       </td><td>Ford         </td><td>219          </td><td>59           </td><td> 4.0000000   </td><td>1.07762557   </td><td>2017         </td><td>2018         </td><td>Dec          </td><td>Jan          </td></tr>\n",
       "\t<tr><th scope=row>4596</th><td>2017-12-01   </td><td>2017-12-15   </td><td>4596         </td><td>Prius        </td><td>Toyota       </td><td>215          </td><td>55           </td><td> 2.0000000   </td><td>0.51162791   </td><td>2017         </td><td>2017         </td><td>Dec          </td><td>Dec          </td></tr>\n",
       "\t<tr><th scope=row>4600</th><td>2017-12-20   </td><td>2018-01-17   </td><td>4600         </td><td>Galaxy       </td><td>Ford         </td><td>217          </td><td>57           </td><td> 4.0000000   </td><td>1.05069124   </td><td>2017         </td><td>2018         </td><td>Dec          </td><td>Jan          </td></tr>\n",
       "\t<tr><th scope=row>4628</th><td>2017-12-14   </td><td>2018-03-07   </td><td>4628         </td><td>Galaxy       </td><td>Ford         </td><td>207          </td><td>47           </td><td>11.8571429   </td><td>2.69220152   </td><td>2017         </td><td>2018         </td><td>Dec          </td><td>Mar          </td></tr>\n",
       "\t<tr><th scope=row>4636</th><td>2017-12-06   </td><td>2018-01-03   </td><td>4636         </td><td>Astra        </td><td>Vauxhall     </td><td>203          </td><td>43           </td><td> 4.0000000   </td><td>0.84729064   </td><td>2017         </td><td>2018         </td><td>Dec          </td><td>Jan          </td></tr>\n",
       "\t<tr><th scope=row>4664</th><td>2017-12-08   </td><td>2017-12-15   </td><td>4664         </td><td>EClass       </td><td>Mercedes     </td><td>215          </td><td>55           </td><td> 1.0000000   </td><td>0.25581395   </td><td>2017         </td><td>2017         </td><td>Dec          </td><td>Dec          </td></tr>\n",
       "\t<tr><th scope=row>4673</th><td>2017-12-12   </td><td>2017-12-19   </td><td>4673         </td><td>Rapid        </td><td>Skoda        </td><td>219          </td><td>59           </td><td> 1.0000000   </td><td>0.26940639   </td><td>2017         </td><td>2017         </td><td>Dec          </td><td>Dec          </td></tr>\n",
       "\t<tr><th scope=row>4681</th><td>2017-12-05   </td><td>2018-01-16   </td><td>4681         </td><td>Prius        </td><td>Toyota       </td><td>216          </td><td>56           </td><td> 6.0000000   </td><td>1.55555556   </td><td>2017         </td><td>2018         </td><td>Dec          </td><td>Jan          </td></tr>\n",
       "\t<tr><th scope=row>4696</th><td>2017-12-05   </td><td>2017-12-15   </td><td>4696         </td><td>Insignia     </td><td>Vauxhall     </td><td>215          </td><td>55           </td><td> 1.4285714   </td><td>0.36544850   </td><td>2017         </td><td>2017         </td><td>Dec          </td><td>Dec          </td></tr>\n",
       "\t<tr><th scope=row>4707</th><td>2017-12-14   </td><td>2018-01-11   </td><td>4707         </td><td>PriusNewShape</td><td>Toyota       </td><td>211          </td><td>51           </td><td> 4.0000000   </td><td>0.96682464   </td><td>2017         </td><td>2018         </td><td>Dec          </td><td>Jan          </td></tr>\n",
       "\t<tr><th scope=row>4711</th><td>2017-12-18   </td><td>2018-01-15   </td><td>4711         </td><td>Insignia     </td><td>Vauxhall     </td><td>215          </td><td>55           </td><td> 4.0000000   </td><td>1.02325581   </td><td>2017         </td><td>2018         </td><td>Dec          </td><td>Jan          </td></tr>\n",
       "\t<tr><th scope=row>4713</th><td>2017-12-28   </td><td>2017-12-29   </td><td>4713         </td><td>Prius        </td><td>Toyota       </td><td>229          </td><td>69           </td><td> 0.1428571   </td><td>0.04304429   </td><td>2017         </td><td>2017         </td><td>Dec          </td><td>Dec          </td></tr>\n",
       "\t<tr><th scope=row>4720</th><td>2017-12-28   </td><td>2018-01-11   </td><td>4720         </td><td>Auris        </td><td>Toyota       </td><td>211          </td><td>51           </td><td> 2.0000000   </td><td>0.48341232   </td><td>2017         </td><td>2018         </td><td>Dec          </td><td>Jan          </td></tr>\n",
       "\t<tr><th scope=row>4732</th><td>2017-12-18   </td><td>2018-01-02   </td><td>4732         </td><td>PriusNewShape</td><td>Toyota       </td><td>202          </td><td>42           </td><td> 2.1428571   </td><td>0.44554455   </td><td>2017         </td><td>2018         </td><td>Dec          </td><td>Jan          </td></tr>\n",
       "\t<tr><th scope=row>4806</th><td>2017-12-08   </td><td>2018-02-07   </td><td>4806         </td><td>Prius        </td><td>Toyota       </td><td>207          </td><td>47           </td><td> 8.7142857   </td><td>1.97860594   </td><td>2017         </td><td>2018         </td><td>Dec          </td><td>Feb          </td></tr>\n",
       "\t<tr><th scope=row>4810</th><td>2017-12-11   </td><td>2018-01-15   </td><td>4810         </td><td>Prius        </td><td>Toyota       </td><td>215          </td><td>55           </td><td> 5.0000000   </td><td>1.27906977   </td><td>2017         </td><td>2018         </td><td>Dec          </td><td>Jan          </td></tr>\n",
       "\t<tr><th scope=row>4815</th><td>2017-12-19   </td><td>2018-01-30   </td><td>4815         </td><td>Galaxy       </td><td>Ford         </td><td>230          </td><td>70           </td><td> 6.0000000   </td><td>1.82608696   </td><td>2017         </td><td>2018         </td><td>Dec          </td><td>Jan          </td></tr>\n",
       "\t<tr><th scope=row>4821</th><td>2017-12-22   </td><td>2018-03-16   </td><td>4821         </td><td>Insight      </td><td>Honda        </td><td>216          </td><td>56           </td><td>12.0000000   </td><td>3.11111111   </td><td>2017         </td><td>2018         </td><td>Dec          </td><td>Mar          </td></tr>\n",
       "\t<tr><th scope=row>4827</th><td>2017-12-21   </td><td>2018-01-18   </td><td>4827         </td><td>PriusPlug-in </td><td>Toyota       </td><td>218          </td><td>58           </td><td> 4.0000000   </td><td>1.06422018   </td><td>2017         </td><td>2018         </td><td>Dec          </td><td>Jan          </td></tr>\n",
       "\t<tr><th scope=row>4834</th><td>2017-12-15   </td><td>2017-12-19   </td><td>4834         </td><td>Insignia     </td><td>Vauxhall     </td><td>219          </td><td>59           </td><td> 0.5714286   </td><td>0.15394651   </td><td>2017         </td><td>2017         </td><td>Dec          </td><td>Dec          </td></tr>\n",
       "\t<tr><th scope=row>4870</th><td>2017-12-20   </td><td>2018-01-10   </td><td>4870         </td><td>Leon         </td><td>Seat         </td><td>210          </td><td>50           </td><td> 3.0000000   </td><td>0.71428571   </td><td>2017         </td><td>2018         </td><td>Dec          </td><td>Jan          </td></tr>\n",
       "\t<tr><th scope=row>4871</th><td>2017-12-20   </td><td>2018-01-17   </td><td>4871         </td><td>Prius        </td><td>Toyota       </td><td>217          </td><td>57           </td><td> 4.0000000   </td><td>1.05069124   </td><td>2017         </td><td>2018         </td><td>Dec          </td><td>Jan          </td></tr>\n",
       "\t<tr><th scope=row>4893</th><td>2017-12-11   </td><td>2018-01-29   </td><td>4893         </td><td>Prius        </td><td>Toyota       </td><td>229          </td><td>69           </td><td> 7.0000000   </td><td>2.10917031   </td><td>2017         </td><td>2018         </td><td>Dec          </td><td>Jan          </td></tr>\n",
       "\t<tr><th scope=row>4935</th><td>2017-12-20   </td><td>2018-01-17   </td><td>4935         </td><td>Octavia      </td><td>Skoda        </td><td>217          </td><td>57           </td><td> 4.0000000   </td><td>1.05069124   </td><td>2017         </td><td>2018         </td><td>Dec          </td><td>Jan          </td></tr>\n",
       "\t<tr><th scope=row>4943</th><td>2017-12-22   </td><td>2018-03-23   </td><td>4943         </td><td>Rapid        </td><td>Skoda        </td><td>223          </td><td>63           </td><td>13.0000000   </td><td>3.67264574   </td><td>2017         </td><td>2018         </td><td>Dec          </td><td>Mar          </td></tr>\n",
       "\t<tr><th scope=row>4947</th><td>2017-12-21   </td><td>2018-03-15   </td><td>4947         </td><td>Prius        </td><td>Toyota       </td><td>215          </td><td>55           </td><td>12.0000000   </td><td>3.06976744   </td><td>2017         </td><td>2018         </td><td>Dec          </td><td>Mar          </td></tr>\n",
       "\t<tr><th scope=row>4950</th><td>2017-12-07   </td><td>2018-01-04   </td><td>4950         </td><td>Prius        </td><td>Toyota       </td><td>204          </td><td>44           </td><td> 4.0000000   </td><td>0.86274510   </td><td>2017         </td><td>2018         </td><td>Dec          </td><td>Jan          </td></tr>\n",
       "\t<tr><th scope=row>4960</th><td>2017-12-27   </td><td>2017-12-29   </td><td>4960         </td><td>Prius        </td><td>Toyota       </td><td>229          </td><td>69           </td><td> 0.2857143   </td><td>0.08608858   </td><td>2017         </td><td>2017         </td><td>Dec          </td><td>Dec          </td></tr>\n",
       "\t<tr><th scope=row>4985</th><td>2017-12-14   </td><td>2017-12-19   </td><td>4985         </td><td>Prius        </td><td>Toyota       </td><td>219          </td><td>59           </td><td> 0.7142857   </td><td>0.19243314   </td><td>2017         </td><td>2017         </td><td>Dec          </td><td>Dec          </td></tr>\n",
       "\t<tr><th scope=row>4993</th><td>2017-12-06   </td><td>2017-12-29   </td><td>4993         </td><td>Prius        </td><td>Toyota       </td><td>229          </td><td>69           </td><td> 3.2857143   </td><td>0.99001871   </td><td>2017         </td><td>2017         </td><td>Dec          </td><td>Dec          </td></tr>\n",
       "</tbody>\n",
       "</table>\n"
      ],
      "text/latex": [
       "\\begin{tabular}{r|lllllllllllll}\n",
       "  & start\\_time & end\\_time & vehicle\\_id & vehicle\\_model & vehicle\\_make & weekly\\_gmv & weekly\\_commission & no\\_weeks & total\\_commission & start\\_year & end\\_year & start\\_month & end\\_month\\\\\n",
       "\\hline\n",
       "\t5 & 2018-01-02    & 2018-01-09    &   5           & IoniqHybrid   & Hyundai       & 209           & 49            &  1.0000000    & 0.23444976    & 2018          & 2018          & Jan           & Jan          \\\\\n",
       "\t6 & 2017-01-06    & 2017-01-12    &   6           & Prius         & Toyota        & 212           & 52            &  0.8571429    & 0.21024259    & 2017          & 2017          & Jan           & Jan          \\\\\n",
       "\t10 & 2018-01-10    & 2018-01-16    &  10           & Prius         & Toyota        & 216           & 56            &  0.8571429    & 0.22222222    & 2018          & 2018          & Jan           & Jan          \\\\\n",
       "\t19 & 2018-01-30    & 2018-02-13    &  19           & Auris         & Toyota        & 213           & 53            &  2.0000000    & 0.49765258    & 2018          & 2018          & Jan           & Feb          \\\\\n",
       "\t30 & 2017-01-18    & 2017-04-13    &  30           & Prius         & Toyota        & 213           & 53            & 12.1428571    & 3.02146211    & 2017          & 2017          & Jan           & Apr          \\\\\n",
       "\t34 & 2018-01-15    & 2018-04-10    &  34           & Octavia       & Skoda         & 210           & 50            & 12.1428571    & 2.89115646    & 2018          & 2018          & Jan           & Apr          \\\\\n",
       "\t42 & 2017-01-05    & 2017-02-02    &  42           & Superb        & Skoda         & 202           & 42            &  4.0000000    & 0.83168317    & 2017          & 2017          & Jan           & Feb          \\\\\n",
       "\t60 & 2018-01-18    & 2018-01-29    &  60           & Prius         & Toyota        & 229           & 69            &  1.5714286    & 0.47348721    & 2018          & 2018          & Jan           & Jan          \\\\\n",
       "\t62 & 2018-01-26    & 2018-04-23    &  62           & PriusNewShape & Toyota        & 223           & 63            & 12.4285714    & 3.51121076    & 2018          & 2018          & Jan           & Apr          \\\\\n",
       "\t71 & 2018-01-03    & 2018-03-23    &  71           & PriusNewShape & Toyota        & 223           & 63            & 11.2857143    & 3.18834081    & 2018          & 2018          & Jan           & Mar          \\\\\n",
       "\t73 & 2018-01-08    & 2018-01-15    &  73           & Prius         & Toyota        & 215           & 55            &  1.0000000    & 0.25581395    & 2018          & 2018          & Jan           & Jan          \\\\\n",
       "\t86 & 2018-01-09    & 2018-04-04    &  86           & Auris         & Toyota        & 204           & 44            & 12.1428571    & 2.61904762    & 2018          & 2018          & Jan           & Apr          \\\\\n",
       "\t95 & 2017-01-19    & 2017-01-26    &  95           & Prius         & Toyota        & 226           & 66            &  1.0000000    & 0.29203540    & 2017          & 2017          & Jan           & Jan          \\\\\n",
       "\t97 & 2018-01-31    & 2018-02-07    &  97           & Prius         & Toyota        & 207           & 47            &  1.0000000    & 0.22705314    & 2018          & 2018          & Jan           & Feb          \\\\\n",
       "\t99 & 2018-01-29    & 2018-02-05    &  99           & Prius         & Toyota        & 205           & 45            &  1.0000000    & 0.21951220    & 2018          & 2018          & Jan           & Feb          \\\\\n",
       "\t100 & 2018-01-04    & 2018-02-01    & 100           & Prius         & Toyota        & 201           & 41            &  4.0000000    & 0.81592040    & 2018          & 2018          & Jan           & Feb          \\\\\n",
       "\t105 & 2018-01-30    & 2018-01-31    & 105           & XfSeries      & Jaguar        & 231           & 71            &  0.1428571    & 0.04390847    & 2018          & 2018          & Jan           & Jan          \\\\\n",
       "\t114 & 2017-01-20    & 2017-02-17    & 114           & Prius         & Toyota        & 217           & 57            &  4.0000000    & 1.05069124    & 2017          & 2017          & Jan           & Feb          \\\\\n",
       "\t115 & 2018-01-31    & 2018-02-28    & 115           & PriusNewShape & Toyota        & 228           & 68            &  4.0000000    & 1.19298246    & 2018          & 2018          & Jan           & Feb          \\\\\n",
       "\t125 & 2018-01-23    & 2018-02-13    & 125           & Prius         & Toyota        & 213           & 53            &  3.0000000    & 0.74647887    & 2018          & 2018          & Jan           & Feb          \\\\\n",
       "\t128 & 2018-01-30    & 2018-02-06    & 128           & Prius         & Toyota        & 206           & 46            &  1.0000000    & 0.22330097    & 2018          & 2018          & Jan           & Feb          \\\\\n",
       "\t129 & 2018-01-29    & 2018-03-26    & 129           & Galaxy        & Ford          & 226           & 66            &  8.0000000    & 2.33628319    & 2018          & 2018          & Jan           & Mar          \\\\\n",
       "\t130 & 2017-01-27    & 2017-01-30    & 130           & Prius         & Toyota        & 230           & 70            &  0.4285714    & 0.13043478    & 2017          & 2017          & Jan           & Jan          \\\\\n",
       "\t139 & 2018-01-04    & 2018-01-08    & 139           & Galaxy        & Ford          & 208           & 48            &  0.5714286    & 0.13186813    & 2018          & 2018          & Jan           & Jan          \\\\\n",
       "\t155 & 2018-01-31    & 2018-07-18    & 155           & Avensis       & Toyota        & 218           & 58            & 24.0000000    & 6.38532110    & 2018          & 2018          & Jan           & Jul          \\\\\n",
       "\t156 & 2017-01-13    & 2017-01-20    & 156           & 3Series       & BMW           & 220           & 60            &  1.0000000    & 0.27272727    & 2017          & 2017          & Jan           & Jan          \\\\\n",
       "\t160 & 2017-01-05    & 2017-01-12    & 160           & PriusPlug-in  & Toyota        & 212           & 52            &  1.0000000    & 0.24528302    & 2017          & 2017          & Jan           & Jan          \\\\\n",
       "\t167 & 2018-01-31    & 2018-02-28    & 167           & PriusNewShape & Toyota        & 228           & 68            &  4.0000000    & 1.19298246    & 2018          & 2018          & Jan           & Feb          \\\\\n",
       "\t172 & 2018-01-11    & 2018-01-31    & 172           & XfSeries      & Jaguar        & 231           & 71            &  2.8571429    & 0.87816945    & 2018          & 2018          & Jan           & Jan          \\\\\n",
       "\t185 & 2017-01-12    & 2017-01-26    & 185           & Prius         & Toyota        & 226           & 66            &  2.0000000    & 0.58407080    & 2017          & 2017          & Jan           & Jan          \\\\\n",
       "\t... & ... & ... & ... & ... & ... & ... & ... & ... & ... & ... & ... & ... & ...\\\\\n",
       "\t4558 & 2017-12-22    & 2018-01-19    & 4558          & Mondeo        & Ford          & 219           & 59            &  4.0000000    & 1.07762557    & 2017          & 2018          & Dec           & Jan          \\\\\n",
       "\t4596 & 2017-12-01    & 2017-12-15    & 4596          & Prius         & Toyota        & 215           & 55            &  2.0000000    & 0.51162791    & 2017          & 2017          & Dec           & Dec          \\\\\n",
       "\t4600 & 2017-12-20    & 2018-01-17    & 4600          & Galaxy        & Ford          & 217           & 57            &  4.0000000    & 1.05069124    & 2017          & 2018          & Dec           & Jan          \\\\\n",
       "\t4628 & 2017-12-14    & 2018-03-07    & 4628          & Galaxy        & Ford          & 207           & 47            & 11.8571429    & 2.69220152    & 2017          & 2018          & Dec           & Mar          \\\\\n",
       "\t4636 & 2017-12-06    & 2018-01-03    & 4636          & Astra         & Vauxhall      & 203           & 43            &  4.0000000    & 0.84729064    & 2017          & 2018          & Dec           & Jan          \\\\\n",
       "\t4664 & 2017-12-08    & 2017-12-15    & 4664          & EClass        & Mercedes      & 215           & 55            &  1.0000000    & 0.25581395    & 2017          & 2017          & Dec           & Dec          \\\\\n",
       "\t4673 & 2017-12-12    & 2017-12-19    & 4673          & Rapid         & Skoda         & 219           & 59            &  1.0000000    & 0.26940639    & 2017          & 2017          & Dec           & Dec          \\\\\n",
       "\t4681 & 2017-12-05    & 2018-01-16    & 4681          & Prius         & Toyota        & 216           & 56            &  6.0000000    & 1.55555556    & 2017          & 2018          & Dec           & Jan          \\\\\n",
       "\t4696 & 2017-12-05    & 2017-12-15    & 4696          & Insignia      & Vauxhall      & 215           & 55            &  1.4285714    & 0.36544850    & 2017          & 2017          & Dec           & Dec          \\\\\n",
       "\t4707 & 2017-12-14    & 2018-01-11    & 4707          & PriusNewShape & Toyota        & 211           & 51            &  4.0000000    & 0.96682464    & 2017          & 2018          & Dec           & Jan          \\\\\n",
       "\t4711 & 2017-12-18    & 2018-01-15    & 4711          & Insignia      & Vauxhall      & 215           & 55            &  4.0000000    & 1.02325581    & 2017          & 2018          & Dec           & Jan          \\\\\n",
       "\t4713 & 2017-12-28    & 2017-12-29    & 4713          & Prius         & Toyota        & 229           & 69            &  0.1428571    & 0.04304429    & 2017          & 2017          & Dec           & Dec          \\\\\n",
       "\t4720 & 2017-12-28    & 2018-01-11    & 4720          & Auris         & Toyota        & 211           & 51            &  2.0000000    & 0.48341232    & 2017          & 2018          & Dec           & Jan          \\\\\n",
       "\t4732 & 2017-12-18    & 2018-01-02    & 4732          & PriusNewShape & Toyota        & 202           & 42            &  2.1428571    & 0.44554455    & 2017          & 2018          & Dec           & Jan          \\\\\n",
       "\t4806 & 2017-12-08    & 2018-02-07    & 4806          & Prius         & Toyota        & 207           & 47            &  8.7142857    & 1.97860594    & 2017          & 2018          & Dec           & Feb          \\\\\n",
       "\t4810 & 2017-12-11    & 2018-01-15    & 4810          & Prius         & Toyota        & 215           & 55            &  5.0000000    & 1.27906977    & 2017          & 2018          & Dec           & Jan          \\\\\n",
       "\t4815 & 2017-12-19    & 2018-01-30    & 4815          & Galaxy        & Ford          & 230           & 70            &  6.0000000    & 1.82608696    & 2017          & 2018          & Dec           & Jan          \\\\\n",
       "\t4821 & 2017-12-22    & 2018-03-16    & 4821          & Insight       & Honda         & 216           & 56            & 12.0000000    & 3.11111111    & 2017          & 2018          & Dec           & Mar          \\\\\n",
       "\t4827 & 2017-12-21    & 2018-01-18    & 4827          & PriusPlug-in  & Toyota        & 218           & 58            &  4.0000000    & 1.06422018    & 2017          & 2018          & Dec           & Jan          \\\\\n",
       "\t4834 & 2017-12-15    & 2017-12-19    & 4834          & Insignia      & Vauxhall      & 219           & 59            &  0.5714286    & 0.15394651    & 2017          & 2017          & Dec           & Dec          \\\\\n",
       "\t4870 & 2017-12-20    & 2018-01-10    & 4870          & Leon          & Seat          & 210           & 50            &  3.0000000    & 0.71428571    & 2017          & 2018          & Dec           & Jan          \\\\\n",
       "\t4871 & 2017-12-20    & 2018-01-17    & 4871          & Prius         & Toyota        & 217           & 57            &  4.0000000    & 1.05069124    & 2017          & 2018          & Dec           & Jan          \\\\\n",
       "\t4893 & 2017-12-11    & 2018-01-29    & 4893          & Prius         & Toyota        & 229           & 69            &  7.0000000    & 2.10917031    & 2017          & 2018          & Dec           & Jan          \\\\\n",
       "\t4935 & 2017-12-20    & 2018-01-17    & 4935          & Octavia       & Skoda         & 217           & 57            &  4.0000000    & 1.05069124    & 2017          & 2018          & Dec           & Jan          \\\\\n",
       "\t4943 & 2017-12-22    & 2018-03-23    & 4943          & Rapid         & Skoda         & 223           & 63            & 13.0000000    & 3.67264574    & 2017          & 2018          & Dec           & Mar          \\\\\n",
       "\t4947 & 2017-12-21    & 2018-03-15    & 4947          & Prius         & Toyota        & 215           & 55            & 12.0000000    & 3.06976744    & 2017          & 2018          & Dec           & Mar          \\\\\n",
       "\t4950 & 2017-12-07    & 2018-01-04    & 4950          & Prius         & Toyota        & 204           & 44            &  4.0000000    & 0.86274510    & 2017          & 2018          & Dec           & Jan          \\\\\n",
       "\t4960 & 2017-12-27    & 2017-12-29    & 4960          & Prius         & Toyota        & 229           & 69            &  0.2857143    & 0.08608858    & 2017          & 2017          & Dec           & Dec          \\\\\n",
       "\t4985 & 2017-12-14    & 2017-12-19    & 4985          & Prius         & Toyota        & 219           & 59            &  0.7142857    & 0.19243314    & 2017          & 2017          & Dec           & Dec          \\\\\n",
       "\t4993 & 2017-12-06    & 2017-12-29    & 4993          & Prius         & Toyota        & 229           & 69            &  3.2857143    & 0.99001871    & 2017          & 2017          & Dec           & Dec          \\\\\n",
       "\\end{tabular}\n"
      ],
      "text/markdown": [
       "\n",
       "| <!--/--> | start_time | end_time | vehicle_id | vehicle_model | vehicle_make | weekly_gmv | weekly_commission | no_weeks | total_commission | start_year | end_year | start_month | end_month | \n",
       "|---|---|---|---|---|---|---|---|---|---|---|---|---|---|---|---|---|---|---|---|---|---|---|---|---|---|---|---|---|---|---|---|---|---|---|---|---|---|---|---|---|---|---|---|---|---|---|---|---|---|---|---|---|---|---|---|---|---|---|---|---|\n",
       "| 5 | 2018-01-02    | 2018-01-09    |   5           | IoniqHybrid   | Hyundai       | 209           | 49            |  1.0000000    | 0.23444976    | 2018          | 2018          | Jan           | Jan           | \n",
       "| 6 | 2017-01-06    | 2017-01-12    |   6           | Prius         | Toyota        | 212           | 52            |  0.8571429    | 0.21024259    | 2017          | 2017          | Jan           | Jan           | \n",
       "| 10 | 2018-01-10    | 2018-01-16    |  10           | Prius         | Toyota        | 216           | 56            |  0.8571429    | 0.22222222    | 2018          | 2018          | Jan           | Jan           | \n",
       "| 19 | 2018-01-30    | 2018-02-13    |  19           | Auris         | Toyota        | 213           | 53            |  2.0000000    | 0.49765258    | 2018          | 2018          | Jan           | Feb           | \n",
       "| 30 | 2017-01-18    | 2017-04-13    |  30           | Prius         | Toyota        | 213           | 53            | 12.1428571    | 3.02146211    | 2017          | 2017          | Jan           | Apr           | \n",
       "| 34 | 2018-01-15    | 2018-04-10    |  34           | Octavia       | Skoda         | 210           | 50            | 12.1428571    | 2.89115646    | 2018          | 2018          | Jan           | Apr           | \n",
       "| 42 | 2017-01-05    | 2017-02-02    |  42           | Superb        | Skoda         | 202           | 42            |  4.0000000    | 0.83168317    | 2017          | 2017          | Jan           | Feb           | \n",
       "| 60 | 2018-01-18    | 2018-01-29    |  60           | Prius         | Toyota        | 229           | 69            |  1.5714286    | 0.47348721    | 2018          | 2018          | Jan           | Jan           | \n",
       "| 62 | 2018-01-26    | 2018-04-23    |  62           | PriusNewShape | Toyota        | 223           | 63            | 12.4285714    | 3.51121076    | 2018          | 2018          | Jan           | Apr           | \n",
       "| 71 | 2018-01-03    | 2018-03-23    |  71           | PriusNewShape | Toyota        | 223           | 63            | 11.2857143    | 3.18834081    | 2018          | 2018          | Jan           | Mar           | \n",
       "| 73 | 2018-01-08    | 2018-01-15    |  73           | Prius         | Toyota        | 215           | 55            |  1.0000000    | 0.25581395    | 2018          | 2018          | Jan           | Jan           | \n",
       "| 86 | 2018-01-09    | 2018-04-04    |  86           | Auris         | Toyota        | 204           | 44            | 12.1428571    | 2.61904762    | 2018          | 2018          | Jan           | Apr           | \n",
       "| 95 | 2017-01-19    | 2017-01-26    |  95           | Prius         | Toyota        | 226           | 66            |  1.0000000    | 0.29203540    | 2017          | 2017          | Jan           | Jan           | \n",
       "| 97 | 2018-01-31    | 2018-02-07    |  97           | Prius         | Toyota        | 207           | 47            |  1.0000000    | 0.22705314    | 2018          | 2018          | Jan           | Feb           | \n",
       "| 99 | 2018-01-29    | 2018-02-05    |  99           | Prius         | Toyota        | 205           | 45            |  1.0000000    | 0.21951220    | 2018          | 2018          | Jan           | Feb           | \n",
       "| 100 | 2018-01-04    | 2018-02-01    | 100           | Prius         | Toyota        | 201           | 41            |  4.0000000    | 0.81592040    | 2018          | 2018          | Jan           | Feb           | \n",
       "| 105 | 2018-01-30    | 2018-01-31    | 105           | XfSeries      | Jaguar        | 231           | 71            |  0.1428571    | 0.04390847    | 2018          | 2018          | Jan           | Jan           | \n",
       "| 114 | 2017-01-20    | 2017-02-17    | 114           | Prius         | Toyota        | 217           | 57            |  4.0000000    | 1.05069124    | 2017          | 2017          | Jan           | Feb           | \n",
       "| 115 | 2018-01-31    | 2018-02-28    | 115           | PriusNewShape | Toyota        | 228           | 68            |  4.0000000    | 1.19298246    | 2018          | 2018          | Jan           | Feb           | \n",
       "| 125 | 2018-01-23    | 2018-02-13    | 125           | Prius         | Toyota        | 213           | 53            |  3.0000000    | 0.74647887    | 2018          | 2018          | Jan           | Feb           | \n",
       "| 128 | 2018-01-30    | 2018-02-06    | 128           | Prius         | Toyota        | 206           | 46            |  1.0000000    | 0.22330097    | 2018          | 2018          | Jan           | Feb           | \n",
       "| 129 | 2018-01-29    | 2018-03-26    | 129           | Galaxy        | Ford          | 226           | 66            |  8.0000000    | 2.33628319    | 2018          | 2018          | Jan           | Mar           | \n",
       "| 130 | 2017-01-27    | 2017-01-30    | 130           | Prius         | Toyota        | 230           | 70            |  0.4285714    | 0.13043478    | 2017          | 2017          | Jan           | Jan           | \n",
       "| 139 | 2018-01-04    | 2018-01-08    | 139           | Galaxy        | Ford          | 208           | 48            |  0.5714286    | 0.13186813    | 2018          | 2018          | Jan           | Jan           | \n",
       "| 155 | 2018-01-31    | 2018-07-18    | 155           | Avensis       | Toyota        | 218           | 58            | 24.0000000    | 6.38532110    | 2018          | 2018          | Jan           | Jul           | \n",
       "| 156 | 2017-01-13    | 2017-01-20    | 156           | 3Series       | BMW           | 220           | 60            |  1.0000000    | 0.27272727    | 2017          | 2017          | Jan           | Jan           | \n",
       "| 160 | 2017-01-05    | 2017-01-12    | 160           | PriusPlug-in  | Toyota        | 212           | 52            |  1.0000000    | 0.24528302    | 2017          | 2017          | Jan           | Jan           | \n",
       "| 167 | 2018-01-31    | 2018-02-28    | 167           | PriusNewShape | Toyota        | 228           | 68            |  4.0000000    | 1.19298246    | 2018          | 2018          | Jan           | Feb           | \n",
       "| 172 | 2018-01-11    | 2018-01-31    | 172           | XfSeries      | Jaguar        | 231           | 71            |  2.8571429    | 0.87816945    | 2018          | 2018          | Jan           | Jan           | \n",
       "| 185 | 2017-01-12    | 2017-01-26    | 185           | Prius         | Toyota        | 226           | 66            |  2.0000000    | 0.58407080    | 2017          | 2017          | Jan           | Jan           | \n",
       "| ... | ... | ... | ... | ... | ... | ... | ... | ... | ... | ... | ... | ... | ... | \n",
       "| 4558 | 2017-12-22    | 2018-01-19    | 4558          | Mondeo        | Ford          | 219           | 59            |  4.0000000    | 1.07762557    | 2017          | 2018          | Dec           | Jan           | \n",
       "| 4596 | 2017-12-01    | 2017-12-15    | 4596          | Prius         | Toyota        | 215           | 55            |  2.0000000    | 0.51162791    | 2017          | 2017          | Dec           | Dec           | \n",
       "| 4600 | 2017-12-20    | 2018-01-17    | 4600          | Galaxy        | Ford          | 217           | 57            |  4.0000000    | 1.05069124    | 2017          | 2018          | Dec           | Jan           | \n",
       "| 4628 | 2017-12-14    | 2018-03-07    | 4628          | Galaxy        | Ford          | 207           | 47            | 11.8571429    | 2.69220152    | 2017          | 2018          | Dec           | Mar           | \n",
       "| 4636 | 2017-12-06    | 2018-01-03    | 4636          | Astra         | Vauxhall      | 203           | 43            |  4.0000000    | 0.84729064    | 2017          | 2018          | Dec           | Jan           | \n",
       "| 4664 | 2017-12-08    | 2017-12-15    | 4664          | EClass        | Mercedes      | 215           | 55            |  1.0000000    | 0.25581395    | 2017          | 2017          | Dec           | Dec           | \n",
       "| 4673 | 2017-12-12    | 2017-12-19    | 4673          | Rapid         | Skoda         | 219           | 59            |  1.0000000    | 0.26940639    | 2017          | 2017          | Dec           | Dec           | \n",
       "| 4681 | 2017-12-05    | 2018-01-16    | 4681          | Prius         | Toyota        | 216           | 56            |  6.0000000    | 1.55555556    | 2017          | 2018          | Dec           | Jan           | \n",
       "| 4696 | 2017-12-05    | 2017-12-15    | 4696          | Insignia      | Vauxhall      | 215           | 55            |  1.4285714    | 0.36544850    | 2017          | 2017          | Dec           | Dec           | \n",
       "| 4707 | 2017-12-14    | 2018-01-11    | 4707          | PriusNewShape | Toyota        | 211           | 51            |  4.0000000    | 0.96682464    | 2017          | 2018          | Dec           | Jan           | \n",
       "| 4711 | 2017-12-18    | 2018-01-15    | 4711          | Insignia      | Vauxhall      | 215           | 55            |  4.0000000    | 1.02325581    | 2017          | 2018          | Dec           | Jan           | \n",
       "| 4713 | 2017-12-28    | 2017-12-29    | 4713          | Prius         | Toyota        | 229           | 69            |  0.1428571    | 0.04304429    | 2017          | 2017          | Dec           | Dec           | \n",
       "| 4720 | 2017-12-28    | 2018-01-11    | 4720          | Auris         | Toyota        | 211           | 51            |  2.0000000    | 0.48341232    | 2017          | 2018          | Dec           | Jan           | \n",
       "| 4732 | 2017-12-18    | 2018-01-02    | 4732          | PriusNewShape | Toyota        | 202           | 42            |  2.1428571    | 0.44554455    | 2017          | 2018          | Dec           | Jan           | \n",
       "| 4806 | 2017-12-08    | 2018-02-07    | 4806          | Prius         | Toyota        | 207           | 47            |  8.7142857    | 1.97860594    | 2017          | 2018          | Dec           | Feb           | \n",
       "| 4810 | 2017-12-11    | 2018-01-15    | 4810          | Prius         | Toyota        | 215           | 55            |  5.0000000    | 1.27906977    | 2017          | 2018          | Dec           | Jan           | \n",
       "| 4815 | 2017-12-19    | 2018-01-30    | 4815          | Galaxy        | Ford          | 230           | 70            |  6.0000000    | 1.82608696    | 2017          | 2018          | Dec           | Jan           | \n",
       "| 4821 | 2017-12-22    | 2018-03-16    | 4821          | Insight       | Honda         | 216           | 56            | 12.0000000    | 3.11111111    | 2017          | 2018          | Dec           | Mar           | \n",
       "| 4827 | 2017-12-21    | 2018-01-18    | 4827          | PriusPlug-in  | Toyota        | 218           | 58            |  4.0000000    | 1.06422018    | 2017          | 2018          | Dec           | Jan           | \n",
       "| 4834 | 2017-12-15    | 2017-12-19    | 4834          | Insignia      | Vauxhall      | 219           | 59            |  0.5714286    | 0.15394651    | 2017          | 2017          | Dec           | Dec           | \n",
       "| 4870 | 2017-12-20    | 2018-01-10    | 4870          | Leon          | Seat          | 210           | 50            |  3.0000000    | 0.71428571    | 2017          | 2018          | Dec           | Jan           | \n",
       "| 4871 | 2017-12-20    | 2018-01-17    | 4871          | Prius         | Toyota        | 217           | 57            |  4.0000000    | 1.05069124    | 2017          | 2018          | Dec           | Jan           | \n",
       "| 4893 | 2017-12-11    | 2018-01-29    | 4893          | Prius         | Toyota        | 229           | 69            |  7.0000000    | 2.10917031    | 2017          | 2018          | Dec           | Jan           | \n",
       "| 4935 | 2017-12-20    | 2018-01-17    | 4935          | Octavia       | Skoda         | 217           | 57            |  4.0000000    | 1.05069124    | 2017          | 2018          | Dec           | Jan           | \n",
       "| 4943 | 2017-12-22    | 2018-03-23    | 4943          | Rapid         | Skoda         | 223           | 63            | 13.0000000    | 3.67264574    | 2017          | 2018          | Dec           | Mar           | \n",
       "| 4947 | 2017-12-21    | 2018-03-15    | 4947          | Prius         | Toyota        | 215           | 55            | 12.0000000    | 3.06976744    | 2017          | 2018          | Dec           | Mar           | \n",
       "| 4950 | 2017-12-07    | 2018-01-04    | 4950          | Prius         | Toyota        | 204           | 44            |  4.0000000    | 0.86274510    | 2017          | 2018          | Dec           | Jan           | \n",
       "| 4960 | 2017-12-27    | 2017-12-29    | 4960          | Prius         | Toyota        | 229           | 69            |  0.2857143    | 0.08608858    | 2017          | 2017          | Dec           | Dec           | \n",
       "| 4985 | 2017-12-14    | 2017-12-19    | 4985          | Prius         | Toyota        | 219           | 59            |  0.7142857    | 0.19243314    | 2017          | 2017          | Dec           | Dec           | \n",
       "| 4993 | 2017-12-06    | 2017-12-29    | 4993          | Prius         | Toyota        | 229           | 69            |  3.2857143    | 0.99001871    | 2017          | 2017          | Dec           | Dec           | \n",
       "\n",
       "\n"
      ],
      "text/plain": [
       "     start_time end_time   vehicle_id vehicle_model vehicle_make weekly_gmv\n",
       "5    2018-01-02 2018-01-09   5        IoniqHybrid   Hyundai      209       \n",
       "6    2017-01-06 2017-01-12   6        Prius         Toyota       212       \n",
       "10   2018-01-10 2018-01-16  10        Prius         Toyota       216       \n",
       "19   2018-01-30 2018-02-13  19        Auris         Toyota       213       \n",
       "30   2017-01-18 2017-04-13  30        Prius         Toyota       213       \n",
       "34   2018-01-15 2018-04-10  34        Octavia       Skoda        210       \n",
       "42   2017-01-05 2017-02-02  42        Superb        Skoda        202       \n",
       "60   2018-01-18 2018-01-29  60        Prius         Toyota       229       \n",
       "62   2018-01-26 2018-04-23  62        PriusNewShape Toyota       223       \n",
       "71   2018-01-03 2018-03-23  71        PriusNewShape Toyota       223       \n",
       "73   2018-01-08 2018-01-15  73        Prius         Toyota       215       \n",
       "86   2018-01-09 2018-04-04  86        Auris         Toyota       204       \n",
       "95   2017-01-19 2017-01-26  95        Prius         Toyota       226       \n",
       "97   2018-01-31 2018-02-07  97        Prius         Toyota       207       \n",
       "99   2018-01-29 2018-02-05  99        Prius         Toyota       205       \n",
       "100  2018-01-04 2018-02-01 100        Prius         Toyota       201       \n",
       "105  2018-01-30 2018-01-31 105        XfSeries      Jaguar       231       \n",
       "114  2017-01-20 2017-02-17 114        Prius         Toyota       217       \n",
       "115  2018-01-31 2018-02-28 115        PriusNewShape Toyota       228       \n",
       "125  2018-01-23 2018-02-13 125        Prius         Toyota       213       \n",
       "128  2018-01-30 2018-02-06 128        Prius         Toyota       206       \n",
       "129  2018-01-29 2018-03-26 129        Galaxy        Ford         226       \n",
       "130  2017-01-27 2017-01-30 130        Prius         Toyota       230       \n",
       "139  2018-01-04 2018-01-08 139        Galaxy        Ford         208       \n",
       "155  2018-01-31 2018-07-18 155        Avensis       Toyota       218       \n",
       "156  2017-01-13 2017-01-20 156        3Series       BMW          220       \n",
       "160  2017-01-05 2017-01-12 160        PriusPlug-in  Toyota       212       \n",
       "167  2018-01-31 2018-02-28 167        PriusNewShape Toyota       228       \n",
       "172  2018-01-11 2018-01-31 172        XfSeries      Jaguar       231       \n",
       "185  2017-01-12 2017-01-26 185        Prius         Toyota       226       \n",
       "...  ...        ...        ...        ...           ...          ...       \n",
       "4558 2017-12-22 2018-01-19 4558       Mondeo        Ford         219       \n",
       "4596 2017-12-01 2017-12-15 4596       Prius         Toyota       215       \n",
       "4600 2017-12-20 2018-01-17 4600       Galaxy        Ford         217       \n",
       "4628 2017-12-14 2018-03-07 4628       Galaxy        Ford         207       \n",
       "4636 2017-12-06 2018-01-03 4636       Astra         Vauxhall     203       \n",
       "4664 2017-12-08 2017-12-15 4664       EClass        Mercedes     215       \n",
       "4673 2017-12-12 2017-12-19 4673       Rapid         Skoda        219       \n",
       "4681 2017-12-05 2018-01-16 4681       Prius         Toyota       216       \n",
       "4696 2017-12-05 2017-12-15 4696       Insignia      Vauxhall     215       \n",
       "4707 2017-12-14 2018-01-11 4707       PriusNewShape Toyota       211       \n",
       "4711 2017-12-18 2018-01-15 4711       Insignia      Vauxhall     215       \n",
       "4713 2017-12-28 2017-12-29 4713       Prius         Toyota       229       \n",
       "4720 2017-12-28 2018-01-11 4720       Auris         Toyota       211       \n",
       "4732 2017-12-18 2018-01-02 4732       PriusNewShape Toyota       202       \n",
       "4806 2017-12-08 2018-02-07 4806       Prius         Toyota       207       \n",
       "4810 2017-12-11 2018-01-15 4810       Prius         Toyota       215       \n",
       "4815 2017-12-19 2018-01-30 4815       Galaxy        Ford         230       \n",
       "4821 2017-12-22 2018-03-16 4821       Insight       Honda        216       \n",
       "4827 2017-12-21 2018-01-18 4827       PriusPlug-in  Toyota       218       \n",
       "4834 2017-12-15 2017-12-19 4834       Insignia      Vauxhall     219       \n",
       "4870 2017-12-20 2018-01-10 4870       Leon          Seat         210       \n",
       "4871 2017-12-20 2018-01-17 4871       Prius         Toyota       217       \n",
       "4893 2017-12-11 2018-01-29 4893       Prius         Toyota       229       \n",
       "4935 2017-12-20 2018-01-17 4935       Octavia       Skoda        217       \n",
       "4943 2017-12-22 2018-03-23 4943       Rapid         Skoda        223       \n",
       "4947 2017-12-21 2018-03-15 4947       Prius         Toyota       215       \n",
       "4950 2017-12-07 2018-01-04 4950       Prius         Toyota       204       \n",
       "4960 2017-12-27 2017-12-29 4960       Prius         Toyota       229       \n",
       "4985 2017-12-14 2017-12-19 4985       Prius         Toyota       219       \n",
       "4993 2017-12-06 2017-12-29 4993       Prius         Toyota       229       \n",
       "     weekly_commission no_weeks   total_commission start_year end_year\n",
       "5    49                 1.0000000 0.23444976       2018       2018    \n",
       "6    52                 0.8571429 0.21024259       2017       2017    \n",
       "10   56                 0.8571429 0.22222222       2018       2018    \n",
       "19   53                 2.0000000 0.49765258       2018       2018    \n",
       "30   53                12.1428571 3.02146211       2017       2017    \n",
       "34   50                12.1428571 2.89115646       2018       2018    \n",
       "42   42                 4.0000000 0.83168317       2017       2017    \n",
       "60   69                 1.5714286 0.47348721       2018       2018    \n",
       "62   63                12.4285714 3.51121076       2018       2018    \n",
       "71   63                11.2857143 3.18834081       2018       2018    \n",
       "73   55                 1.0000000 0.25581395       2018       2018    \n",
       "86   44                12.1428571 2.61904762       2018       2018    \n",
       "95   66                 1.0000000 0.29203540       2017       2017    \n",
       "97   47                 1.0000000 0.22705314       2018       2018    \n",
       "99   45                 1.0000000 0.21951220       2018       2018    \n",
       "100  41                 4.0000000 0.81592040       2018       2018    \n",
       "105  71                 0.1428571 0.04390847       2018       2018    \n",
       "114  57                 4.0000000 1.05069124       2017       2017    \n",
       "115  68                 4.0000000 1.19298246       2018       2018    \n",
       "125  53                 3.0000000 0.74647887       2018       2018    \n",
       "128  46                 1.0000000 0.22330097       2018       2018    \n",
       "129  66                 8.0000000 2.33628319       2018       2018    \n",
       "130  70                 0.4285714 0.13043478       2017       2017    \n",
       "139  48                 0.5714286 0.13186813       2018       2018    \n",
       "155  58                24.0000000 6.38532110       2018       2018    \n",
       "156  60                 1.0000000 0.27272727       2017       2017    \n",
       "160  52                 1.0000000 0.24528302       2017       2017    \n",
       "167  68                 4.0000000 1.19298246       2018       2018    \n",
       "172  71                 2.8571429 0.87816945       2018       2018    \n",
       "185  66                 2.0000000 0.58407080       2017       2017    \n",
       "...  ...               ...        ...              ...        ...     \n",
       "4558 59                 4.0000000 1.07762557       2017       2018    \n",
       "4596 55                 2.0000000 0.51162791       2017       2017    \n",
       "4600 57                 4.0000000 1.05069124       2017       2018    \n",
       "4628 47                11.8571429 2.69220152       2017       2018    \n",
       "4636 43                 4.0000000 0.84729064       2017       2018    \n",
       "4664 55                 1.0000000 0.25581395       2017       2017    \n",
       "4673 59                 1.0000000 0.26940639       2017       2017    \n",
       "4681 56                 6.0000000 1.55555556       2017       2018    \n",
       "4696 55                 1.4285714 0.36544850       2017       2017    \n",
       "4707 51                 4.0000000 0.96682464       2017       2018    \n",
       "4711 55                 4.0000000 1.02325581       2017       2018    \n",
       "4713 69                 0.1428571 0.04304429       2017       2017    \n",
       "4720 51                 2.0000000 0.48341232       2017       2018    \n",
       "4732 42                 2.1428571 0.44554455       2017       2018    \n",
       "4806 47                 8.7142857 1.97860594       2017       2018    \n",
       "4810 55                 5.0000000 1.27906977       2017       2018    \n",
       "4815 70                 6.0000000 1.82608696       2017       2018    \n",
       "4821 56                12.0000000 3.11111111       2017       2018    \n",
       "4827 58                 4.0000000 1.06422018       2017       2018    \n",
       "4834 59                 0.5714286 0.15394651       2017       2017    \n",
       "4870 50                 3.0000000 0.71428571       2017       2018    \n",
       "4871 57                 4.0000000 1.05069124       2017       2018    \n",
       "4893 69                 7.0000000 2.10917031       2017       2018    \n",
       "4935 57                 4.0000000 1.05069124       2017       2018    \n",
       "4943 63                13.0000000 3.67264574       2017       2018    \n",
       "4947 55                12.0000000 3.06976744       2017       2018    \n",
       "4950 44                 4.0000000 0.86274510       2017       2018    \n",
       "4960 69                 0.2857143 0.08608858       2017       2017    \n",
       "4985 59                 0.7142857 0.19243314       2017       2017    \n",
       "4993 69                 3.2857143 0.99001871       2017       2017    \n",
       "     start_month end_month\n",
       "5    Jan         Jan      \n",
       "6    Jan         Jan      \n",
       "10   Jan         Jan      \n",
       "19   Jan         Feb      \n",
       "30   Jan         Apr      \n",
       "34   Jan         Apr      \n",
       "42   Jan         Feb      \n",
       "60   Jan         Jan      \n",
       "62   Jan         Apr      \n",
       "71   Jan         Mar      \n",
       "73   Jan         Jan      \n",
       "86   Jan         Apr      \n",
       "95   Jan         Jan      \n",
       "97   Jan         Feb      \n",
       "99   Jan         Feb      \n",
       "100  Jan         Feb      \n",
       "105  Jan         Jan      \n",
       "114  Jan         Feb      \n",
       "115  Jan         Feb      \n",
       "125  Jan         Feb      \n",
       "128  Jan         Feb      \n",
       "129  Jan         Mar      \n",
       "130  Jan         Jan      \n",
       "139  Jan         Jan      \n",
       "155  Jan         Jul      \n",
       "156  Jan         Jan      \n",
       "160  Jan         Jan      \n",
       "167  Jan         Feb      \n",
       "172  Jan         Jan      \n",
       "185  Jan         Jan      \n",
       "...  ...         ...      \n",
       "4558 Dec         Jan      \n",
       "4596 Dec         Dec      \n",
       "4600 Dec         Jan      \n",
       "4628 Dec         Mar      \n",
       "4636 Dec         Jan      \n",
       "4664 Dec         Dec      \n",
       "4673 Dec         Dec      \n",
       "4681 Dec         Jan      \n",
       "4696 Dec         Dec      \n",
       "4707 Dec         Jan      \n",
       "4711 Dec         Jan      \n",
       "4713 Dec         Dec      \n",
       "4720 Dec         Jan      \n",
       "4732 Dec         Jan      \n",
       "4806 Dec         Feb      \n",
       "4810 Dec         Jan      \n",
       "4815 Dec         Jan      \n",
       "4821 Dec         Mar      \n",
       "4827 Dec         Jan      \n",
       "4834 Dec         Dec      \n",
       "4870 Dec         Jan      \n",
       "4871 Dec         Jan      \n",
       "4893 Dec         Jan      \n",
       "4935 Dec         Jan      \n",
       "4943 Dec         Mar      \n",
       "4947 Dec         Mar      \n",
       "4950 Dec         Jan      \n",
       "4960 Dec         Dec      \n",
       "4985 Dec         Dec      \n",
       "4993 Dec         Dec      "
      ]
     },
     "metadata": {},
     "output_type": "display_data"
    }
   ],
   "source": [
    "# Format start year and end year columns to create new columns with respective years only\n",
    "bookings <- transform(bookings, start_year = as.numeric(format(start_time,'%Y')))\n",
    "bookings <- transform(bookings, end_year = as.numeric(format(end_time,'%Y')))\n",
    "\n",
    "# Format start year and end year columns to create new columns with respective years only\n",
    "bookings <- transform(bookings, start_month = format(start_time,'%b'))\n",
    "bookings <- transform(bookings, end_month = format(end_time,'%b'))\n",
    "\n",
    "# lock in factor level order\n",
    "bookings$start_month <- factor(bookings$start_month, month.abb, ordered=TRUE)\n",
    "bookings[order(bookings$start_month), ]"
   ]
  },
  {
   "cell_type": "code",
   "execution_count": 1026,
   "metadata": {
    "scrolled": false
   },
   "outputs": [
    {
     "name": "stdout",
     "output_type": "stream",
     "text": [
      "[1] \"The number of Toyota Prius' that were hired at some point during 2017: 1630 vehicles.\"\n"
     ]
    }
   ],
   "source": [
    "# Find Toyota Prius' that were on hire at any point during 2017 i.e. either start year or end year = 2017\n",
    "Prius <- subset(bookings, vehicle_model == \"Prius\" & vehicle_make == \"Toyota\" & (start_year == 2017 | end_year == 2017))\n",
    "print(paste(\"The number of Toyota Prius' that were hired at some point during 2017:\",nrow(Prius), \"vehicles.\"))"
   ]
  },
  {
   "cell_type": "code",
   "execution_count": 1095,
   "metadata": {},
   "outputs": [],
   "source": [
    "#Convert dates into 1st month date type for frequency calculations\n",
    "bookings$date  <- as.Date(cut(bookings$start_time,breaks = \"month\"))"
   ]
  },
  {
   "cell_type": "code",
   "execution_count": 1028,
   "metadata": {},
   "outputs": [],
   "source": [
    "#Remove NA Value - Vehicle Name/Vehicle Model is missing, hence only one datapoint for this row. This datapoint contributes towards\n",
    "#the correlation analysis but not to trend observations between different vehicle makes and models.\n",
    "bookings <- na.omit(bookings)"
   ]
  },
  {
   "cell_type": "code",
   "execution_count": 1029,
   "metadata": {},
   "outputs": [
    {
     "data": {},
     "metadata": {},
     "output_type": "display_data"
    },
    {
     "data": {
      "image/png": "[encoded data removed]",
      "text/plain": [
       "plot without title"
      ]
     },
     "metadata": {},
     "output_type": "display_data"
    }
   ],
   "source": [
    "# Use the Boxplot function to see any seasonal effects - seems as though bookings are highest from September to April. During\n",
    "#these months, the highest variances and median values are observed. \n",
    "#High numbers of outliers are seen on a monthly basis. Given only a years worth of data, cannot be entirely certain whether\n",
    "# these datapoints are truly outliers. \n",
    "p <- ggplot(bookings, aes(group=start_month, y=total_commission,fill=start_month)) + geom_boxplot()\n",
    "p + theme(plot.title = element_text(color=\"black\", size=11, hjust=0.5),panel.grid.major = element_blank(), \n",
    "         panel.grid.minor = element_blank(),\n",
    "         panel.background = element_blank(),\n",
    "         axis.text.x=element_blank(),\n",
    "         axis.line = element_line(colour = \"black\"),\n",
    "          legend.position=\"bottom\",\n",
    "         axis.ticks.x=element_blank())  + ggtitle(\"Boxplot showing distribution of total_commission data throughout the year\")  "
   ]
  },
  {
   "cell_type": "code",
   "execution_count": 1030,
   "metadata": {},
   "outputs": [
    {
     "data": {},
     "metadata": {},
     "output_type": "display_data"
    },
    {
     "data": {
      "image/png": "[encoded data removed]",
      "text/plain": [
       "plot without title"
      ]
     },
     "metadata": {},
     "output_type": "display_data"
    }
   ],
   "source": [
    "#Boxplot showing distribution of weekly gmv data for different vehicle makes \n",
    "p <- ggplot(bookings, aes(group=vehicle_make, y=weekly_gmv,fill=vehicle_make)) + geom_boxplot()\n",
    "p + theme(plot.title = element_text(color=\"black\", size=11, hjust=0.5),panel.grid.major = element_blank(), \n",
    "         panel.grid.minor = element_blank(),\n",
    "         panel.background = element_blank(),\n",
    "         axis.text.x=element_blank(),\n",
    "         axis.line = element_line(colour = \"black\"),\n",
    "          legend.position=\"bottom\",\n",
    "         axis.ticks.x=element_blank())  + ggtitle(\"Boxplot showing distribution of weekly gmv data throughout the year for Vehicle Makes\")  "
   ]
  },
  {
   "cell_type": "code",
   "execution_count": 1031,
   "metadata": {},
   "outputs": [
    {
     "data": {},
     "metadata": {},
     "output_type": "display_data"
    },
    {
     "data": {
      "image/png": "[encoded data removed]",
      "text/plain": [
       "plot without title"
      ]
     },
     "metadata": {},
     "output_type": "display_data"
    }
   ],
   "source": [
    "#Boxplot showing distribution of weekly commission data for different vehicle makes. Similar results as the weekly gmv boxplots\n",
    "p <- ggplot(bookings, aes(group=vehicle_make, y=weekly_commission,fill=vehicle_make)) + geom_boxplot()\n",
    "p + theme(plot.title = element_text(color=\"black\", size=11, hjust=0.5),panel.grid.major = element_blank(), \n",
    "         panel.grid.minor = element_blank(),\n",
    "         panel.background = element_blank(),\n",
    "         axis.text.x=element_blank(),\n",
    "         axis.line = element_line(colour = \"black\"),\n",
    "         legend.position=\"bottom\",\n",
    "         axis.ticks.x=element_blank())  + ggtitle(\"Boxplot showing distribution of weekly commission data throughout the year for Vehicle Makes\")  "
   ]
  },
  {
   "cell_type": "code",
   "execution_count": 1032,
   "metadata": {},
   "outputs": [
    {
     "data": {},
     "metadata": {},
     "output_type": "display_data"
    },
    {
     "data": {
      "image/png": "[encoded data removed]",
      "text/plain": [
       "plot without title"
      ]
     },
     "metadata": {},
     "output_type": "display_data"
    }
   ],
   "source": [
    "#Boxplot showing distribution of total commission data for different vehicle makes \n",
    "p <- ggplot(bookings, aes(group=vehicle_make, y=total_commission,fill=vehicle_make)) + geom_boxplot()\n",
    "p + theme(plot.title = element_text(color=\"black\", size=11, hjust=0.5),panel.grid.major = element_blank(), \n",
    "         panel.grid.minor = element_blank(),\n",
    "         panel.background = element_blank(),\n",
    "         axis.text.x=element_blank(),\n",
    "         axis.line = element_line(colour = \"black\"),\n",
    "         legend.position=\"bottom\",\n",
    "         axis.ticks.x=element_blank())  + ggtitle(\"Boxplot showing distribution of total commission data throughout the year for Vehicle Makes\")  "
   ]
  },
  {
   "cell_type": "code",
   "execution_count": 1033,
   "metadata": {},
   "outputs": [
    {
     "data": {
      "text/html": [
       "<table>\n",
       "<thead><tr><th></th><th scope=col>start_time</th><th scope=col>end_time</th><th scope=col>vehicle_id</th><th scope=col>vehicle_model</th><th scope=col>vehicle_make</th><th scope=col>weekly_gmv</th><th scope=col>weekly_commission</th><th scope=col>no_weeks</th><th scope=col>total_commission</th><th scope=col>start_year</th><th scope=col>end_year</th><th scope=col>start_month</th><th scope=col>end_month</th><th scope=col>date</th></tr></thead>\n",
       "<tbody>\n",
       "\t<tr><th scope=row>4633</th><td>2019-01-14</td><td>2019-04-09</td><td>4633      </td><td>Auris     </td><td>Toyota    </td><td>209       </td><td>49        </td><td>12.14286  </td><td>2.84689   </td><td>2019      </td><td>2019      </td><td>Jan       </td><td>Apr       </td><td>2019-01-01</td></tr>\n",
       "</tbody>\n",
       "</table>\n"
      ],
      "text/latex": [
       "\\begin{tabular}{r|llllllllllllll}\n",
       "  & start\\_time & end\\_time & vehicle\\_id & vehicle\\_model & vehicle\\_make & weekly\\_gmv & weekly\\_commission & no\\_weeks & total\\_commission & start\\_year & end\\_year & start\\_month & end\\_month & date\\\\\n",
       "\\hline\n",
       "\t4633 & 2019-01-14 & 2019-04-09 & 4633       & Auris      & Toyota     & 209        & 49         & 12.14286   & 2.84689    & 2019       & 2019       & Jan        & Apr        & 2019-01-01\\\\\n",
       "\\end{tabular}\n"
      ],
      "text/markdown": [
       "\n",
       "| <!--/--> | start_time | end_time | vehicle_id | vehicle_model | vehicle_make | weekly_gmv | weekly_commission | no_weeks | total_commission | start_year | end_year | start_month | end_month | date | \n",
       "|---|\n",
       "| 4633 | 2019-01-14 | 2019-04-09 | 4633       | Auris      | Toyota     | 209        | 49         | 12.14286   | 2.84689    | 2019       | 2019       | Jan        | Apr        | 2019-01-01 | \n",
       "\n",
       "\n"
      ],
      "text/plain": [
       "     start_time end_time   vehicle_id vehicle_model vehicle_make weekly_gmv\n",
       "4633 2019-01-14 2019-04-09 4633       Auris         Toyota       209       \n",
       "     weekly_commission no_weeks total_commission start_year end_year\n",
       "4633 49                12.14286 2.84689          2019       2019    \n",
       "     start_month end_month date      \n",
       "4633 Jan         Apr       2019-01-01"
      ]
     },
     "metadata": {},
     "output_type": "display_data"
    }
   ],
   "source": [
    "#Assume that this booking is an error - there are no other future bookings in the dataset - remove\n",
    "#datapoint as it will affect the correlation analysis significantly.\n",
    "subset(bookings, subset = start_time == max(bookings$start_time))"
   ]
  },
  {
   "cell_type": "code",
   "execution_count": 1034,
   "metadata": {},
   "outputs": [],
   "source": [
    "# Remove outlier data point and observe total commission per day\n",
    "bookings<-bookings[!(bookings$start_time==\"2019-01-14\"),]"
   ]
  },
  {
   "cell_type": "code",
   "execution_count": 1035,
   "metadata": {},
   "outputs": [],
   "source": [
    "# Groupby dataset using total_commission calculated previously \n",
    "df <- ddply(bookings,.(start_time),summarize,total_commission = sum(total_commission))"
   ]
  },
  {
   "cell_type": "code",
   "execution_count": 1036,
   "metadata": {},
   "outputs": [
    {
     "data": {},
     "metadata": {},
     "output_type": "display_data"
    },
    {
     "data": {
      "image/png": "[encoded data removed]",
      "text/plain": [
       "plot without title"
      ]
     },
     "metadata": {},
     "output_type": "display_data"
    }
   ],
   "source": [
    "# Scatterplot with regression line for start time vs total commission \n",
    "p <- ggplot(data = df, aes(x = start_time, y = total_commission)) + geom_point() + geom_smooth(method = \"lm\", se = FALSE)\n",
    "p + theme(plot.title = element_text(color=\"black\", size=11, hjust=0.5),panel.grid.major = element_blank(), \n",
    "         panel.grid.minor = element_blank(),\n",
    "         panel.background = element_blank(),\n",
    "         axis.text.x=element_blank(),\n",
    "         axis.line = element_line(colour = \"black\"),\n",
    "         legend.position=\"bottom\",\n",
    "         axis.ticks.x=element_blank())  + ggtitle(\"Scatter plot showing distribution of total commission data vs time\") "
   ]
  },
  {
   "cell_type": "code",
   "execution_count": 1037,
   "metadata": {},
   "outputs": [
    {
     "data": {
      "text/html": [
       "<table>\n",
       "<thead><tr><th></th><th scope=col>start_time</th><th scope=col>total_commission</th></tr></thead>\n",
       "<tbody>\n",
       "\t<tr><th scope=row>196</th><td>2017-08-25</td><td>138.3952  </td></tr>\n",
       "</tbody>\n",
       "</table>\n"
      ],
      "text/latex": [
       "\\begin{tabular}{r|ll}\n",
       "  & start\\_time & total\\_commission\\\\\n",
       "\\hline\n",
       "\t196 & 2017-08-25 & 138.3952  \\\\\n",
       "\\end{tabular}\n"
      ],
      "text/markdown": [
       "\n",
       "| <!--/--> | start_time | total_commission | \n",
       "|---|\n",
       "| 196 | 2017-08-25 | 138.3952   | \n",
       "\n",
       "\n"
      ],
      "text/plain": [
       "    start_time total_commission\n",
       "196 2017-08-25 138.3952        "
      ]
     },
     "metadata": {},
     "output_type": "display_data"
    }
   ],
   "source": [
    "# Find highest total commission datapoint - could be an outlier\n",
    "subset(df, subset = total_commission == max(df$total_commission))"
   ]
  },
  {
   "cell_type": "code",
   "execution_count": 1038,
   "metadata": {},
   "outputs": [
    {
     "data": {
      "text/html": [
       "<table>\n",
       "<thead><tr><th scope=col>n</th></tr></thead>\n",
       "<tbody>\n",
       "\t<tr><td>90</td></tr>\n",
       "</tbody>\n",
       "</table>\n"
      ],
      "text/latex": [
       "\\begin{tabular}{r|l}\n",
       " n\\\\\n",
       "\\hline\n",
       "\t 90\\\\\n",
       "\\end{tabular}\n"
      ],
      "text/markdown": [
       "\n",
       "n | \n",
       "|---|\n",
       "| 90 | \n",
       "\n",
       "\n"
      ],
      "text/plain": [
       "  n \n",
       "1 90"
      ]
     },
     "metadata": {},
     "output_type": "display_data"
    }
   ],
   "source": [
    "# 90 bookings observed during this day \n",
    "count(subset(bookings, subset = start_time == \"2017/08/25\"))"
   ]
  },
  {
   "cell_type": "code",
   "execution_count": 1039,
   "metadata": {},
   "outputs": [],
   "source": [
    "# Sum up total commission in every month to carry out forecasting analysis. \n",
    "df <- ddply(bookings,.(date),summarize,total_commission = sum(total_commission))"
   ]
  },
  {
   "cell_type": "code",
   "execution_count": 1040,
   "metadata": {},
   "outputs": [],
   "source": [
    "data <- df[df$total_commission == max(df$total_commission),]"
   ]
  },
  {
   "cell_type": "code",
   "execution_count": 1041,
   "metadata": {
    "scrolled": true
   },
   "outputs": [],
   "source": [
    "# Same day where high value of weekly gmv was observed\n",
    "data <- bookings[bookings$date == \"2017-08-25\",]"
   ]
  },
  {
   "cell_type": "code",
   "execution_count": 1042,
   "metadata": {},
   "outputs": [],
   "source": [
    "# Create timeseries object for forecasting model\n",
    "all_dates = seq(as.Date(as.yearmon(min(df$date))), as.Date(as.yearmon(max(df$date))), by=\"month\")\n",
    "df_clean = merge(data.frame(date = all_dates),\n",
    "                            df,\n",
    "                            by.x='date',\n",
    "                            by.y='date',\n",
    "                            all.x=T,\n",
    "                            all.y=T)\n",
    "df_clean$total_commission[is.na(df_clean$total_commission)] = 0\n",
    "timeSeriesObj = ts(df_clean$total_commission,start=c(2017,1,1),frequency=12)"
   ]
  },
  {
   "cell_type": "code",
   "execution_count": 1043,
   "metadata": {},
   "outputs": [
    {
     "data": {},
     "metadata": {},
     "output_type": "display_data"
    },
    {
     "data": {
      "image/png": "[encoded data removed]",
      "text/plain": [
       "plot without title"
      ]
     },
     "metadata": {},
     "output_type": "display_data"
    }
   ],
   "source": [
    "#Plot the time series data. Seems odd to see such a dramatic drop. \n",
    "p <- autoplot(timeSeriesObj) + geom_smooth(method=\"lm\")+ labs(x =\"Date\", y = \"Total Commission\")\n",
    "\n",
    "p + theme(plot.title = element_text(color=\"black\", size=11, hjust=0.5),panel.grid.major = element_blank(), \n",
    "         panel.grid.minor = element_blank(),\n",
    "         panel.background = element_blank(),\n",
    "         axis.text.x=element_blank(),\n",
    "         axis.line = element_line(colour = \"black\"),\n",
    "         legend.position=\"bottom\",\n",
    "         axis.ticks.x=element_blank())  + ggtitle(\"Linear Regression Line fitted to total commission vs time at 95% Confidence Interval \") "
   ]
  },
  {
   "cell_type": "code",
   "execution_count": 1044,
   "metadata": {},
   "outputs": [
    {
     "data": {
      "text/html": [
       "<table>\n",
       "<thead><tr><th></th><th scope=col>start_time</th><th scope=col>end_time</th><th scope=col>vehicle_id</th><th scope=col>vehicle_model</th><th scope=col>vehicle_make</th><th scope=col>weekly_gmv</th><th scope=col>weekly_commission</th><th scope=col>no_weeks</th><th scope=col>total_commission</th><th scope=col>start_year</th><th scope=col>end_year</th><th scope=col>start_month</th><th scope=col>end_month</th><th scope=col>date</th></tr></thead>\n",
       "<tbody>\n",
       "\t<tr><th scope=row>664</th><td>2018-05-04 </td><td>2018-07-27 </td><td> 664       </td><td>AurisEstate</td><td>Toyota     </td><td>227        </td><td>67         </td><td>12         </td><td>3.541850   </td><td>2018       </td><td>2018       </td><td>May        </td><td>Jul        </td><td>2018-05-01 </td></tr>\n",
       "\t<tr><th scope=row>3375</th><td>2018-05-11 </td><td>2018-08-03 </td><td>3375       </td><td>AurisEstate</td><td>Toyota     </td><td>203        </td><td>43         </td><td>12         </td><td>2.541872   </td><td>2018       </td><td>2018       </td><td>May        </td><td>Aug        </td><td>2018-05-01 </td></tr>\n",
       "</tbody>\n",
       "</table>\n"
      ],
      "text/latex": [
       "\\begin{tabular}{r|llllllllllllll}\n",
       "  & start\\_time & end\\_time & vehicle\\_id & vehicle\\_model & vehicle\\_make & weekly\\_gmv & weekly\\_commission & no\\_weeks & total\\_commission & start\\_year & end\\_year & start\\_month & end\\_month & date\\\\\n",
       "\\hline\n",
       "\t664 & 2018-05-04  & 2018-07-27  &  664        & AurisEstate & Toyota      & 227         & 67          & 12          & 3.541850    & 2018        & 2018        & May         & Jul         & 2018-05-01 \\\\\n",
       "\t3375 & 2018-05-11  & 2018-08-03  & 3375        & AurisEstate & Toyota      & 203         & 43          & 12          & 2.541872    & 2018        & 2018        & May         & Aug         & 2018-05-01 \\\\\n",
       "\\end{tabular}\n"
      ],
      "text/markdown": [
       "\n",
       "| <!--/--> | start_time | end_time | vehicle_id | vehicle_model | vehicle_make | weekly_gmv | weekly_commission | no_weeks | total_commission | start_year | end_year | start_month | end_month | date | \n",
       "|---|---|\n",
       "| 664 | 2018-05-04  | 2018-07-27  |  664        | AurisEstate | Toyota      | 227         | 67          | 12          | 3.541850    | 2018        | 2018        | May         | Jul         | 2018-05-01  | \n",
       "| 3375 | 2018-05-11  | 2018-08-03  | 3375        | AurisEstate | Toyota      | 203         | 43          | 12          | 2.541872    | 2018        | 2018        | May         | Aug         | 2018-05-01  | \n",
       "\n",
       "\n"
      ],
      "text/plain": [
       "     start_time end_time   vehicle_id vehicle_model vehicle_make weekly_gmv\n",
       "664  2018-05-04 2018-07-27  664       AurisEstate   Toyota       227       \n",
       "3375 2018-05-11 2018-08-03 3375       AurisEstate   Toyota       203       \n",
       "     weekly_commission no_weeks total_commission start_year end_year\n",
       "664  67                12       3.541850         2018       2018    \n",
       "3375 43                12       2.541872         2018       2018    \n",
       "     start_month end_month date      \n",
       "664  May         Jul       2018-05-01\n",
       "3375 May         Aug       2018-05-01"
      ]
     },
     "metadata": {},
     "output_type": "display_data"
    }
   ],
   "source": [
    "#Only two bookings observed during this month hence drop in total_commission\n",
    "bookings[bookings$date == \"2018-05-01\",]"
   ]
  },
  {
   "cell_type": "code",
   "execution_count": 1045,
   "metadata": {},
   "outputs": [],
   "source": [
    "all_dates = seq(as.Date(as.yearmon(min(df$date))), as.Date(as.yearmon(max(df$date))), by=\"month\")\n",
    "df_clean = merge(data.frame(date = all_dates),\n",
    "                            df,\n",
    "                            by.x='date',\n",
    "                            by.y='date',\n",
    "                            all.x=T,\n",
    "                            all.y=T)\n",
    "df_clean$total_commission[is.na(df_clean$total_commission)] = 0\n",
    "df_clean<-df_clean[!(df_clean$date==\"2018-05-01\"),]\n",
    "timeSeriesObj = ts(df_clean$total_commission,start=c(2017,1,1),frequency=12)"
   ]
  },
  {
   "cell_type": "code",
   "execution_count": 1046,
   "metadata": {},
   "outputs": [
    {
     "data": {},
     "metadata": {},
     "output_type": "display_data"
    },
    {
     "data": {
      "image/png": "[encoded data removed]",
      "text/plain": [
       "plot without title"
      ]
     },
     "metadata": {},
     "output_type": "display_data"
    }
   ],
   "source": [
    "p <- autoplot(timeSeriesObj) + geom_smooth(method=\"lm\")+ labs(x =\"Date\", y = \"Total Commission\")\n",
    "\n",
    "p + theme(plot.title = element_text(color=\"black\", size=11, hjust=0.5),panel.grid.major = element_blank(), \n",
    "         panel.grid.minor = element_blank(),\n",
    "         panel.background = element_blank(),\n",
    "         axis.line = element_line(colour = \"black\"),\n",
    "         legend.position=\"bottom\")  + ggtitle(\"Linear Regression Line for total commission vs time (without May 2018) at 95% Confidence Interval \")"
   ]
  },
  {
   "cell_type": "code",
   "execution_count": 1047,
   "metadata": {},
   "outputs": [
    {
     "data": {},
     "metadata": {},
     "output_type": "display_data"
    },
    {
     "data": {
      "image/png": "[encoded data removed]",
      "text/plain": [
       "plot without title"
      ]
     },
     "metadata": {},
     "output_type": "display_data"
    }
   ],
   "source": [
    "m_ets <- ets(timeSeriesObj)\n",
    "f_ets <- forecast(m_ets, h=8)\n",
    "p <- autoplot(f_ets) + labs(x =\"Date\", y = \"Total Commission\")\n",
    "p + theme(plot.title = element_text(color=\"black\", size=11, hjust=0.5),panel.grid.major = element_blank(), \n",
    "         panel.grid.minor = element_blank(),\n",
    "         panel.background = element_blank(),\n",
    "         axis.line = element_line(colour = \"black\"),\n",
    "         legend.position=\"bottom\")  + ggtitle(\"ETS model for total commission vs time\")"
   ]
  },
  {
   "cell_type": "code",
   "execution_count": 1048,
   "metadata": {},
   "outputs": [
    {
     "data": {},
     "metadata": {},
     "output_type": "display_data"
    },
    {
     "data": {
      "image/png": "[encoded data removed]",
      "text/plain": [
       "plot without title"
      ]
     },
     "metadata": {},
     "output_type": "display_data"
    }
   ],
   "source": [
    "#TBATS seems to fit the data better but that does not necesarilly mean that the model will outperform ETS in practice\n",
    "m_tbats <- tbats(timeSeriesObj)\n",
    "f_tbats <- forecast(m_tbats, h=8)\n",
    "p <- autoplot(f_tbats) + labs(x =\"Date\", y = \"Total Commission\") \n",
    "p + theme(plot.title = element_text(color=\"black\", size=11, hjust=0.5),panel.grid.major = element_blank(), \n",
    "         panel.grid.minor = element_blank(),\n",
    "         panel.background = element_blank(),\n",
    "         axis.line = element_line(colour = \"black\"),\n",
    "         legend.position=\"bottom\")  + ggtitle(\"TBATs model for total commission vs time\")"
   ]
  },
  {
   "cell_type": "code",
   "execution_count": 1049,
   "metadata": {},
   "outputs": [
    {
     "name": "stdout",
     "output_type": "stream",
     "text": [
      "\n",
      "\tLjung-Box test\n",
      "\n",
      "data:  Residuals from ETS(M,A,N)\n",
      "Q* = 9.7657, df = 3, p-value = 0.02067\n",
      "\n",
      "Model df: 4.   Total lags used: 7\n",
      "\n"
     ]
    },
    {
     "data": {
      "image/png": "[encoded data removed]",
      "text/plain": [
       "plot without title"
      ]
     },
     "metadata": {},
     "output_type": "display_data"
    }
   ],
   "source": [
    "# Residuals more normally distributed around 0. Residuals limit [~0.45,0.35]\n",
    "checkresiduals(m_ets)"
   ]
  },
  {
   "cell_type": "code",
   "execution_count": 1050,
   "metadata": {},
   "outputs": [
    {
     "name": "stdout",
     "output_type": "stream",
     "text": [
      "\n",
      "\tLjung-Box test\n",
      "\n",
      "data:  Residuals from TBATS\n",
      "Q* = 13.223, df = 3, p-value = 0.004179\n",
      "\n",
      "Model df: 10.   Total lags used: 13\n",
      "\n"
     ]
    },
    {
     "data": {
      "image/png": "[encoded data removed]",
      "text/plain": [
       "plot without title"
      ]
     },
     "metadata": {},
     "output_type": "display_data"
    }
   ],
   "source": [
    "# Slight positive skew observed with tbats residuals. Limits/fluctuations of residuals far greater in TBATs model \n",
    "# vs ETS model [~115,75]\n",
    "checkresiduals(m_tbats)"
   ]
  },
  {
   "cell_type": "code",
   "execution_count": 1051,
   "metadata": {},
   "outputs": [
    {
     "data": {
      "image/png": "[encoded data removed]",
      "text/plain": [
       "plot without title"
      ]
     },
     "metadata": {},
     "output_type": "display_data"
    }
   ],
   "source": [
    "# AIC values of both models though, AIC is not a consistent model selection method. It cannot be used to compare different types\n",
    "# of forecasting models \n",
    "\n",
    "barplot(c(ETS=m_ets$aic, TBATS=m_tbats$AIC), \n",
    "       col=\"light blue\",\n",
    "       ylab=\"AIC\")"
   ]
  },
  {
   "cell_type": "code",
   "execution_count": 1052,
   "metadata": {},
   "outputs": [],
   "source": [
    "# Use time series cross validation for tbats model to enable comparison with ets\n",
    "f  <- function(y, h) forecast(tbats(y), h = h)\n",
    "e <- tsCV(timeSeriesObj, f, h=8)"
   ]
  },
  {
   "cell_type": "code",
   "execution_count": 1053,
   "metadata": {},
   "outputs": [
    {
     "name": "stdout",
     "output_type": "stream",
     "text": [
      "[1] \"Cross Validation Error:720, Without Cross Validation:47.8\"\n"
     ]
    }
   ],
   "source": [
    "cv <- sqrt(mean(e^2, na.rm=TRUE))\n",
    "mod <- sqrt(mean(residuals(f_tbats)^2, na.rm=TRUE))\n",
    "print(paste(\"Cross Validation Error:\",signif(cv,3),\", Without Cross Validation:\",signif(mod,3),sep=\"\"))"
   ]
  },
  {
   "cell_type": "code",
   "execution_count": 1054,
   "metadata": {},
   "outputs": [],
   "source": [
    "# Create function to carry out time series cross valdiation for ets model\n",
    "f  <- function(y, h) forecast(ets(y), h = h)\n",
    "e <- tsCV(timeSeriesObj, f, h=8)"
   ]
  },
  {
   "cell_type": "code",
   "execution_count": 1055,
   "metadata": {},
   "outputs": [
    {
     "name": "stdout",
     "output_type": "stream",
     "text": [
      "[1] \"Cross Validation Error:188, Without Cross Validation:0.206\"\n"
     ]
    }
   ],
   "source": [
    "# Cross Validation RMSE is much higher than \"Without CV\" model. Expected as \"Without CV\" model is trained on the entire dataset. \n",
    "# CV RMSE is much higher for tbats model vs ets model hence, higher probability of being able to generalise to new data i.e work in practice\n",
    "\n",
    "cv <- sqrt(mean(e^2, na.rm=TRUE))\n",
    "mod <- sqrt(mean(residuals(f_ets)^2, na.rm=TRUE))\n",
    "print(paste(\"Cross Validation Error:\",signif(cv,3),\", Without Cross Validation:\",signif(mod,3),sep=\"\"))"
   ]
  },
  {
   "cell_type": "code",
   "execution_count": 1056,
   "metadata": {},
   "outputs": [],
   "source": [
    "start_2018 <- subset(df_clean, subset = date == \"2018/01/01\")$total_commission"
   ]
  },
  {
   "cell_type": "code",
   "execution_count": 1057,
   "metadata": {},
   "outputs": [
    {
     "name": "stdout",
     "output_type": "stream",
     "text": [
      "[1] \"Expected Percentage Growth in 2018(TBATS):33.2% (Upper: 58.8% - Lower:7.62%) - 95% confidence\"\n"
     ]
    }
   ],
   "source": [
    "growth_ <- (as.numeric(f_tbats$mean)[8] - start_2018)*100/start_2018\n",
    "upper_ <- (as.numeric(f_tbats$upper[8,2]) - start_2018)*100/start_2018\n",
    "lower_ <- (as.numeric(f_tbats$lower[8,2]) - start_2018)*100/start_2018\n",
    "print(paste(\"Expected Percentage Growth in 2018(TBATS):\", signif(growth_,3),\"%\", \" (Upper: \",signif(upper_,3),\"% - Lower:\",signif(lower_,3),\"%) - 95% confidence\",sep=\"\"))"
   ]
  },
  {
   "cell_type": "code",
   "execution_count": 1058,
   "metadata": {},
   "outputs": [
    {
     "name": "stdout",
     "output_type": "stream",
     "text": [
      "[1] \"Expected Percentage Growth in 2018(ETS):26.2% (Upper: 84.9% - Lower:-32.6%) - 95% confidence\"\n"
     ]
    }
   ],
   "source": [
    "# ETS model is less conservative in terms of range of values predicted for percentage growth in 2018. Howver, the mean expected\n",
    "# percentage growth of 26.2% is lower than 33.2% obtained by the TBATS model. Howver, both mean values are fairly close in magnitude. \n",
    "growth <- (as.numeric(f_ets$mean)[8] - start_2018)*100/start_2018\n",
    "upper <- (as.numeric(f_ets$upper[8,2]) - start_2018)*100/start_2018\n",
    "lower <- (as.numeric(f_ets$lower[8,2]) - start_2018)*100/start_2018\n",
    "print(paste(\"Expected Percentage Growth in 2018(ETS):\", signif(growth,3),\"%\", \" (Upper: \",signif(upper,3),\"% - Lower:\",signif(lower,3),\"%) - 95% confidence\",sep=\"\"))"
   ]
  },
  {
   "cell_type": "code",
   "execution_count": 1059,
   "metadata": {},
   "outputs": [
    {
     "name": "stdout",
     "output_type": "stream",
     "text": [
      "[1] \"Expected Percentage Growth in 2018(Combo):29.7% (Upper: 71.8% - Lower:-12.5%) - 95% confidence\"\n"
     ]
    }
   ],
   "source": [
    "# Combining both models may be an optimum solution in forecasting growth. The combined means is similar to the means obtained for the \n",
    "# individual models as expexted. Combining the TBATs model with the ETS model, brings a more consersative outlook in comparison to \n",
    "# the ets model alone. However, the upper and lower limits are still extreme at 71.8% and -12.5% respectively. \n",
    "growth_com <- (growth_+growth)/2\n",
    "upper_com <- (upper_+upper)/2\n",
    "lower_com <- (lower+lower_)/2\n",
    "print(paste(\"Expected Percentage Growth in 2018(Combo):\", signif(growth_com,3),\"%\", \" (Upper: \",signif(upper_com,3),\"% - Lower:\",signif(lower_com,3),\"%) - 95% confidence\",sep=\"\"))"
   ]
  },
  {
   "cell_type": "code",
   "execution_count": 1060,
   "metadata": {},
   "outputs": [],
   "source": [
    "## Vehicle Models we can expect to be in bookings the most/longest\n",
    "\n",
    "#Convert dates into 1st month date type for frequency calculations\n",
    "bookings<-bookings[!(bookings$date==\"2018-05-01\"),]\n",
    "bookings$date  <- as.Date(cut(bookings$start_time,breaks = \"month\"))"
   ]
  },
  {
   "cell_type": "code",
   "execution_count": 1061,
   "metadata": {},
   "outputs": [],
   "source": [
    "library(dplyr)"
   ]
  },
  {
   "cell_type": "code",
   "execution_count": 1062,
   "metadata": {},
   "outputs": [],
   "source": [
    "#Group data by date, vehicle model and make and find frequency\n",
    "df2 <- ddply(bookings,.(date,vehicle_model,vehicle_make),summarize,Frequency = n())"
   ]
  },
  {
   "cell_type": "code",
   "execution_count": 1063,
   "metadata": {},
   "outputs": [
    {
     "data": {
      "text/html": [
       "<table>\n",
       "<thead><tr><th></th><th scope=col>date</th><th scope=col>vehicle_model</th><th scope=col>vehicle_make</th><th scope=col>Frequency</th></tr></thead>\n",
       "<tbody>\n",
       "\t<tr><th scope=row>324</th><td>2017-11-01   </td><td>Prius        </td><td>Toyota       </td><td>197          </td></tr>\n",
       "\t<tr><th scope=row>220</th><td>2017-08-01   </td><td>Prius        </td><td>Toyota       </td><td>179          </td></tr>\n",
       "\t<tr><th scope=row>287</th><td>2017-10-01   </td><td>Prius        </td><td>Toyota       </td><td>159          </td></tr>\n",
       "\t<tr><th scope=row>397</th><td>2018-01-01   </td><td>Prius        </td><td>Toyota       </td><td>148          </td></tr>\n",
       "\t<tr><th scope=row>253</th><td>2017-09-01   </td><td>Prius        </td><td>Toyota       </td><td>141          </td></tr>\n",
       "\t<tr><th scope=row>431</th><td>2018-02-01   </td><td>Prius        </td><td>Toyota       </td><td>135          </td></tr>\n",
       "\t<tr><th scope=row>360</th><td>2017-12-01   </td><td>Prius        </td><td>Toyota       </td><td>133          </td></tr>\n",
       "\t<tr><th scope=row>462</th><td>2018-03-01   </td><td>Prius        </td><td>Toyota       </td><td>133          </td></tr>\n",
       "\t<tr><th scope=row>131</th><td>2017-05-01   </td><td>Prius        </td><td>Toyota       </td><td>131          </td></tr>\n",
       "\t<tr><th scope=row>69</th><td>2017-03-01   </td><td>Prius        </td><td>Toyota       </td><td>129          </td></tr>\n",
       "\t<tr><th scope=row>161</th><td>2017-06-01   </td><td>Prius        </td><td>Toyota       </td><td>125          </td></tr>\n",
       "\t<tr><th scope=row>17</th><td>2017-01-01   </td><td>Prius        </td><td>Toyota       </td><td>121          </td></tr>\n",
       "\t<tr><th scope=row>189</th><td>2017-07-01   </td><td>Prius        </td><td>Toyota       </td><td>114          </td></tr>\n",
       "\t<tr><th scope=row>99</th><td>2017-04-01   </td><td>Prius        </td><td>Toyota       </td><td>109          </td></tr>\n",
       "\t<tr><th scope=row>45</th><td>2017-02-01   </td><td>Prius        </td><td>Toyota       </td><td> 92          </td></tr>\n",
       "\t<tr><th scope=row>399</th><td>2018-01-01   </td><td>PriusNewShape</td><td>Toyota       </td><td> 87          </td></tr>\n",
       "\t<tr><th scope=row>447</th><td>2018-03-01   </td><td>AurisEstate  </td><td>Toyota       </td><td> 73          </td></tr>\n",
       "\t<tr><th scope=row>492</th><td>2018-04-01   </td><td>Prius        </td><td>Toyota       </td><td> 70          </td></tr>\n",
       "\t<tr><th scope=row>414</th><td>2018-02-01   </td><td>AurisEstate  </td><td>Toyota       </td><td> 59          </td></tr>\n",
       "\t<tr><th scope=row>464</th><td>2018-03-01   </td><td>PriusNewShape</td><td>Toyota       </td><td> 52          </td></tr>\n",
       "\t<tr><th scope=row>312</th><td>2017-11-01   </td><td>Galaxy       </td><td>Ford         </td><td> 43          </td></tr>\n",
       "\t<tr><th scope=row>433</th><td>2018-02-01   </td><td>PriusNewShape</td><td>Toyota       </td><td> 40          </td></tr>\n",
       "\t<tr><th scope=row>348</th><td>2017-12-01   </td><td>Galaxy       </td><td>Ford         </td><td> 37          </td></tr>\n",
       "\t<tr><th scope=row>420</th><td>2018-02-01   </td><td>Galaxy       </td><td>Ford         </td><td> 35          </td></tr>\n",
       "\t<tr><th scope=row>454</th><td>2018-03-01   </td><td>Galaxy       </td><td>Ford         </td><td> 33          </td></tr>\n",
       "\t<tr><th scope=row>480</th><td>2018-04-01   </td><td>AurisEstate  </td><td>Toyota       </td><td> 33          </td></tr>\n",
       "\t<tr><th scope=row>387</th><td>2018-01-01   </td><td>Galaxy       </td><td>Ford         </td><td> 32          </td></tr>\n",
       "\t<tr><th scope=row>242</th><td>2017-09-01   </td><td>Galaxy       </td><td>Ford         </td><td> 31          </td></tr>\n",
       "\t<tr><th scope=row>221</th><td>2017-08-01   </td><td>PriusNewShape</td><td>Toyota       </td><td> 30          </td></tr>\n",
       "\t<tr><th scope=row>277</th><td>2017-10-01   </td><td>Galaxy       </td><td>Ford         </td><td> 25          </td></tr>\n",
       "\t<tr><th scope=row>...</th><td>...</td><td>...</td><td>...</td><td>...</td></tr>\n",
       "\t<tr><th scope=row>411</th><td>2018-02-01  </td><td>Alhambra    </td><td>Seat        </td><td>1           </td></tr>\n",
       "\t<tr><th scope=row>416</th><td>2018-02-01  </td><td>Caddy       </td><td>Volkswagen  </td><td>1           </td></tr>\n",
       "\t<tr><th scope=row>417</th><td>2018-02-01  </td><td>CClass      </td><td>Mercedes    </td><td>1           </td></tr>\n",
       "\t<tr><th scope=row>421</th><td>2018-02-01  </td><td>GS300H      </td><td>Volkswagen  </td><td>1           </td></tr>\n",
       "\t<tr><th scope=row>425</th><td>2018-02-01  </td><td>Is300       </td><td>Lexus       </td><td>1           </td></tr>\n",
       "\t<tr><th scope=row>426</th><td>2018-02-01  </td><td>Leon        </td><td>Seat        </td><td>1           </td></tr>\n",
       "\t<tr><th scope=row>427</th><td>2018-02-01  </td><td>ModelS      </td><td>Tesla       </td><td>1           </td></tr>\n",
       "\t<tr><th scope=row>436</th><td>2018-02-01  </td><td>Q3          </td><td>Audi        </td><td>1           </td></tr>\n",
       "\t<tr><th scope=row>437</th><td>2018-02-01  </td><td>Rapid       </td><td>Skoda       </td><td>1           </td></tr>\n",
       "\t<tr><th scope=row>439</th><td>2018-02-01  </td><td>SMax        </td><td>Ford        </td><td>1           </td></tr>\n",
       "\t<tr><th scope=row>440</th><td>2018-02-01  </td><td>Toledo      </td><td>Seat        </td><td>1           </td></tr>\n",
       "\t<tr><th scope=row>444</th><td>2018-03-01  </td><td>Alhambra    </td><td>Seat        </td><td>1           </td></tr>\n",
       "\t<tr><th scope=row>449</th><td>2018-03-01  </td><td>CC          </td><td>Volkswagen  </td><td>1           </td></tr>\n",
       "\t<tr><th scope=row>453</th><td>2018-03-01  </td><td>Exeo        </td><td>Seat        </td><td>1           </td></tr>\n",
       "\t<tr><th scope=row>457</th><td>2018-03-01  </td><td>Is300       </td><td>Lexus       </td><td>1           </td></tr>\n",
       "\t<tr><th scope=row>458</th><td>2018-03-01  </td><td>Jetta       </td><td>Volkswagen  </td><td>1           </td></tr>\n",
       "\t<tr><th scope=row>463</th><td>2018-03-01  </td><td>PriusImport </td><td>Toyota      </td><td>1           </td></tr>\n",
       "\t<tr><th scope=row>467</th><td>2018-03-01  </td><td>Qashqai     </td><td>Nissan      </td><td>1           </td></tr>\n",
       "\t<tr><th scope=row>469</th><td>2018-03-01  </td><td>S60         </td><td>Volvo       </td><td>1           </td></tr>\n",
       "\t<tr><th scope=row>470</th><td>2018-03-01  </td><td>SClass      </td><td>Mercedes    </td><td>1           </td></tr>\n",
       "\t<tr><th scope=row>471</th><td>2018-03-01  </td><td>SClass      </td><td>MercedesBenz</td><td>1           </td></tr>\n",
       "\t<tr><th scope=row>473</th><td>2018-03-01  </td><td>SMax        </td><td>Ford        </td><td>1           </td></tr>\n",
       "\t<tr><th scope=row>476</th><td>2018-04-01  </td><td>508         </td><td>Peugeot     </td><td>1           </td></tr>\n",
       "\t<tr><th scope=row>487</th><td>2018-04-01  </td><td>IoniqHybrid </td><td>Hyundai     </td><td>1           </td></tr>\n",
       "\t<tr><th scope=row>488</th><td>2018-04-01  </td><td>Is300       </td><td>Lexus       </td><td>1           </td></tr>\n",
       "\t<tr><th scope=row>496</th><td>2018-04-01  </td><td>SClass      </td><td>MercedesBenz</td><td>1           </td></tr>\n",
       "\t<tr><th scope=row>498</th><td>2018-04-01  </td><td>SMax        </td><td>Ford        </td><td>1           </td></tr>\n",
       "\t<tr><th scope=row>499</th><td>2018-04-01  </td><td>Toledo      </td><td>Seat        </td><td>1           </td></tr>\n",
       "\t<tr><th scope=row>500</th><td>2018-04-01  </td><td>XfSeries    </td><td>Jaguar      </td><td>1           </td></tr>\n",
       "\t<tr><th scope=row>501</th><td>2018-04-01  </td><td>Zafira      </td><td>Vauxhall    </td><td>1           </td></tr>\n",
       "</tbody>\n",
       "</table>\n"
      ],
      "text/latex": [
       "\\begin{tabular}{r|llll}\n",
       "  & date & vehicle\\_model & vehicle\\_make & Frequency\\\\\n",
       "\\hline\n",
       "\t324 & 2017-11-01    & Prius         & Toyota        & 197          \\\\\n",
       "\t220 & 2017-08-01    & Prius         & Toyota        & 179          \\\\\n",
       "\t287 & 2017-10-01    & Prius         & Toyota        & 159          \\\\\n",
       "\t397 & 2018-01-01    & Prius         & Toyota        & 148          \\\\\n",
       "\t253 & 2017-09-01    & Prius         & Toyota        & 141          \\\\\n",
       "\t431 & 2018-02-01    & Prius         & Toyota        & 135          \\\\\n",
       "\t360 & 2017-12-01    & Prius         & Toyota        & 133          \\\\\n",
       "\t462 & 2018-03-01    & Prius         & Toyota        & 133          \\\\\n",
       "\t131 & 2017-05-01    & Prius         & Toyota        & 131          \\\\\n",
       "\t69 & 2017-03-01    & Prius         & Toyota        & 129          \\\\\n",
       "\t161 & 2017-06-01    & Prius         & Toyota        & 125          \\\\\n",
       "\t17 & 2017-01-01    & Prius         & Toyota        & 121          \\\\\n",
       "\t189 & 2017-07-01    & Prius         & Toyota        & 114          \\\\\n",
       "\t99 & 2017-04-01    & Prius         & Toyota        & 109          \\\\\n",
       "\t45 & 2017-02-01    & Prius         & Toyota        &  92          \\\\\n",
       "\t399 & 2018-01-01    & PriusNewShape & Toyota        &  87          \\\\\n",
       "\t447 & 2018-03-01    & AurisEstate   & Toyota        &  73          \\\\\n",
       "\t492 & 2018-04-01    & Prius         & Toyota        &  70          \\\\\n",
       "\t414 & 2018-02-01    & AurisEstate   & Toyota        &  59          \\\\\n",
       "\t464 & 2018-03-01    & PriusNewShape & Toyota        &  52          \\\\\n",
       "\t312 & 2017-11-01    & Galaxy        & Ford          &  43          \\\\\n",
       "\t433 & 2018-02-01    & PriusNewShape & Toyota        &  40          \\\\\n",
       "\t348 & 2017-12-01    & Galaxy        & Ford          &  37          \\\\\n",
       "\t420 & 2018-02-01    & Galaxy        & Ford          &  35          \\\\\n",
       "\t454 & 2018-03-01    & Galaxy        & Ford          &  33          \\\\\n",
       "\t480 & 2018-04-01    & AurisEstate   & Toyota        &  33          \\\\\n",
       "\t387 & 2018-01-01    & Galaxy        & Ford          &  32          \\\\\n",
       "\t242 & 2017-09-01    & Galaxy        & Ford          &  31          \\\\\n",
       "\t221 & 2017-08-01    & PriusNewShape & Toyota        &  30          \\\\\n",
       "\t277 & 2017-10-01    & Galaxy        & Ford          &  25          \\\\\n",
       "\t... & ... & ... & ... & ...\\\\\n",
       "\t411 & 2018-02-01   & Alhambra     & Seat         & 1           \\\\\n",
       "\t416 & 2018-02-01   & Caddy        & Volkswagen   & 1           \\\\\n",
       "\t417 & 2018-02-01   & CClass       & Mercedes     & 1           \\\\\n",
       "\t421 & 2018-02-01   & GS300H       & Volkswagen   & 1           \\\\\n",
       "\t425 & 2018-02-01   & Is300        & Lexus        & 1           \\\\\n",
       "\t426 & 2018-02-01   & Leon         & Seat         & 1           \\\\\n",
       "\t427 & 2018-02-01   & ModelS       & Tesla        & 1           \\\\\n",
       "\t436 & 2018-02-01   & Q3           & Audi         & 1           \\\\\n",
       "\t437 & 2018-02-01   & Rapid        & Skoda        & 1           \\\\\n",
       "\t439 & 2018-02-01   & SMax         & Ford         & 1           \\\\\n",
       "\t440 & 2018-02-01   & Toledo       & Seat         & 1           \\\\\n",
       "\t444 & 2018-03-01   & Alhambra     & Seat         & 1           \\\\\n",
       "\t449 & 2018-03-01   & CC           & Volkswagen   & 1           \\\\\n",
       "\t453 & 2018-03-01   & Exeo         & Seat         & 1           \\\\\n",
       "\t457 & 2018-03-01   & Is300        & Lexus        & 1           \\\\\n",
       "\t458 & 2018-03-01   & Jetta        & Volkswagen   & 1           \\\\\n",
       "\t463 & 2018-03-01   & PriusImport  & Toyota       & 1           \\\\\n",
       "\t467 & 2018-03-01   & Qashqai      & Nissan       & 1           \\\\\n",
       "\t469 & 2018-03-01   & S60          & Volvo        & 1           \\\\\n",
       "\t470 & 2018-03-01   & SClass       & Mercedes     & 1           \\\\\n",
       "\t471 & 2018-03-01   & SClass       & MercedesBenz & 1           \\\\\n",
       "\t473 & 2018-03-01   & SMax         & Ford         & 1           \\\\\n",
       "\t476 & 2018-04-01   & 508          & Peugeot      & 1           \\\\\n",
       "\t487 & 2018-04-01   & IoniqHybrid  & Hyundai      & 1           \\\\\n",
       "\t488 & 2018-04-01   & Is300        & Lexus        & 1           \\\\\n",
       "\t496 & 2018-04-01   & SClass       & MercedesBenz & 1           \\\\\n",
       "\t498 & 2018-04-01   & SMax         & Ford         & 1           \\\\\n",
       "\t499 & 2018-04-01   & Toledo       & Seat         & 1           \\\\\n",
       "\t500 & 2018-04-01   & XfSeries     & Jaguar       & 1           \\\\\n",
       "\t501 & 2018-04-01   & Zafira       & Vauxhall     & 1           \\\\\n",
       "\\end{tabular}\n"
      ],
      "text/markdown": [
       "\n",
       "| <!--/--> | date | vehicle_model | vehicle_make | Frequency | \n",
       "|---|---|---|---|---|---|---|---|---|---|---|---|---|---|---|---|---|---|---|---|---|---|---|---|---|---|---|---|---|---|---|---|---|---|---|---|---|---|---|---|---|---|---|---|---|---|---|---|---|---|---|---|---|---|---|---|---|---|---|---|---|\n",
       "| 324 | 2017-11-01    | Prius         | Toyota        | 197           | \n",
       "| 220 | 2017-08-01    | Prius         | Toyota        | 179           | \n",
       "| 287 | 2017-10-01    | Prius         | Toyota        | 159           | \n",
       "| 397 | 2018-01-01    | Prius         | Toyota        | 148           | \n",
       "| 253 | 2017-09-01    | Prius         | Toyota        | 141           | \n",
       "| 431 | 2018-02-01    | Prius         | Toyota        | 135           | \n",
       "| 360 | 2017-12-01    | Prius         | Toyota        | 133           | \n",
       "| 462 | 2018-03-01    | Prius         | Toyota        | 133           | \n",
       "| 131 | 2017-05-01    | Prius         | Toyota        | 131           | \n",
       "| 69 | 2017-03-01    | Prius         | Toyota        | 129           | \n",
       "| 161 | 2017-06-01    | Prius         | Toyota        | 125           | \n",
       "| 17 | 2017-01-01    | Prius         | Toyota        | 121           | \n",
       "| 189 | 2017-07-01    | Prius         | Toyota        | 114           | \n",
       "| 99 | 2017-04-01    | Prius         | Toyota        | 109           | \n",
       "| 45 | 2017-02-01    | Prius         | Toyota        |  92           | \n",
       "| 399 | 2018-01-01    | PriusNewShape | Toyota        |  87           | \n",
       "| 447 | 2018-03-01    | AurisEstate   | Toyota        |  73           | \n",
       "| 492 | 2018-04-01    | Prius         | Toyota        |  70           | \n",
       "| 414 | 2018-02-01    | AurisEstate   | Toyota        |  59           | \n",
       "| 464 | 2018-03-01    | PriusNewShape | Toyota        |  52           | \n",
       "| 312 | 2017-11-01    | Galaxy        | Ford          |  43           | \n",
       "| 433 | 2018-02-01    | PriusNewShape | Toyota        |  40           | \n",
       "| 348 | 2017-12-01    | Galaxy        | Ford          |  37           | \n",
       "| 420 | 2018-02-01    | Galaxy        | Ford          |  35           | \n",
       "| 454 | 2018-03-01    | Galaxy        | Ford          |  33           | \n",
       "| 480 | 2018-04-01    | AurisEstate   | Toyota        |  33           | \n",
       "| 387 | 2018-01-01    | Galaxy        | Ford          |  32           | \n",
       "| 242 | 2017-09-01    | Galaxy        | Ford          |  31           | \n",
       "| 221 | 2017-08-01    | PriusNewShape | Toyota        |  30           | \n",
       "| 277 | 2017-10-01    | Galaxy        | Ford          |  25           | \n",
       "| ... | ... | ... | ... | ... | \n",
       "| 411 | 2018-02-01   | Alhambra     | Seat         | 1            | \n",
       "| 416 | 2018-02-01   | Caddy        | Volkswagen   | 1            | \n",
       "| 417 | 2018-02-01   | CClass       | Mercedes     | 1            | \n",
       "| 421 | 2018-02-01   | GS300H       | Volkswagen   | 1            | \n",
       "| 425 | 2018-02-01   | Is300        | Lexus        | 1            | \n",
       "| 426 | 2018-02-01   | Leon         | Seat         | 1            | \n",
       "| 427 | 2018-02-01   | ModelS       | Tesla        | 1            | \n",
       "| 436 | 2018-02-01   | Q3           | Audi         | 1            | \n",
       "| 437 | 2018-02-01   | Rapid        | Skoda        | 1            | \n",
       "| 439 | 2018-02-01   | SMax         | Ford         | 1            | \n",
       "| 440 | 2018-02-01   | Toledo       | Seat         | 1            | \n",
       "| 444 | 2018-03-01   | Alhambra     | Seat         | 1            | \n",
       "| 449 | 2018-03-01   | CC           | Volkswagen   | 1            | \n",
       "| 453 | 2018-03-01   | Exeo         | Seat         | 1            | \n",
       "| 457 | 2018-03-01   | Is300        | Lexus        | 1            | \n",
       "| 458 | 2018-03-01   | Jetta        | Volkswagen   | 1            | \n",
       "| 463 | 2018-03-01   | PriusImport  | Toyota       | 1            | \n",
       "| 467 | 2018-03-01   | Qashqai      | Nissan       | 1            | \n",
       "| 469 | 2018-03-01   | S60          | Volvo        | 1            | \n",
       "| 470 | 2018-03-01   | SClass       | Mercedes     | 1            | \n",
       "| 471 | 2018-03-01   | SClass       | MercedesBenz | 1            | \n",
       "| 473 | 2018-03-01   | SMax         | Ford         | 1            | \n",
       "| 476 | 2018-04-01   | 508          | Peugeot      | 1            | \n",
       "| 487 | 2018-04-01   | IoniqHybrid  | Hyundai      | 1            | \n",
       "| 488 | 2018-04-01   | Is300        | Lexus        | 1            | \n",
       "| 496 | 2018-04-01   | SClass       | MercedesBenz | 1            | \n",
       "| 498 | 2018-04-01   | SMax         | Ford         | 1            | \n",
       "| 499 | 2018-04-01   | Toledo       | Seat         | 1            | \n",
       "| 500 | 2018-04-01   | XfSeries     | Jaguar       | 1            | \n",
       "| 501 | 2018-04-01   | Zafira       | Vauxhall     | 1            | \n",
       "\n",
       "\n"
      ],
      "text/plain": [
       "    date       vehicle_model vehicle_make Frequency\n",
       "324 2017-11-01 Prius         Toyota       197      \n",
       "220 2017-08-01 Prius         Toyota       179      \n",
       "287 2017-10-01 Prius         Toyota       159      \n",
       "397 2018-01-01 Prius         Toyota       148      \n",
       "253 2017-09-01 Prius         Toyota       141      \n",
       "431 2018-02-01 Prius         Toyota       135      \n",
       "360 2017-12-01 Prius         Toyota       133      \n",
       "462 2018-03-01 Prius         Toyota       133      \n",
       "131 2017-05-01 Prius         Toyota       131      \n",
       "69  2017-03-01 Prius         Toyota       129      \n",
       "161 2017-06-01 Prius         Toyota       125      \n",
       "17  2017-01-01 Prius         Toyota       121      \n",
       "189 2017-07-01 Prius         Toyota       114      \n",
       "99  2017-04-01 Prius         Toyota       109      \n",
       "45  2017-02-01 Prius         Toyota        92      \n",
       "399 2018-01-01 PriusNewShape Toyota        87      \n",
       "447 2018-03-01 AurisEstate   Toyota        73      \n",
       "492 2018-04-01 Prius         Toyota        70      \n",
       "414 2018-02-01 AurisEstate   Toyota        59      \n",
       "464 2018-03-01 PriusNewShape Toyota        52      \n",
       "312 2017-11-01 Galaxy        Ford          43      \n",
       "433 2018-02-01 PriusNewShape Toyota        40      \n",
       "348 2017-12-01 Galaxy        Ford          37      \n",
       "420 2018-02-01 Galaxy        Ford          35      \n",
       "454 2018-03-01 Galaxy        Ford          33      \n",
       "480 2018-04-01 AurisEstate   Toyota        33      \n",
       "387 2018-01-01 Galaxy        Ford          32      \n",
       "242 2017-09-01 Galaxy        Ford          31      \n",
       "221 2017-08-01 PriusNewShape Toyota        30      \n",
       "277 2017-10-01 Galaxy        Ford          25      \n",
       "... ...        ...           ...          ...      \n",
       "411 2018-02-01 Alhambra      Seat         1        \n",
       "416 2018-02-01 Caddy         Volkswagen   1        \n",
       "417 2018-02-01 CClass        Mercedes     1        \n",
       "421 2018-02-01 GS300H        Volkswagen   1        \n",
       "425 2018-02-01 Is300         Lexus        1        \n",
       "426 2018-02-01 Leon          Seat         1        \n",
       "427 2018-02-01 ModelS        Tesla        1        \n",
       "436 2018-02-01 Q3            Audi         1        \n",
       "437 2018-02-01 Rapid         Skoda        1        \n",
       "439 2018-02-01 SMax          Ford         1        \n",
       "440 2018-02-01 Toledo        Seat         1        \n",
       "444 2018-03-01 Alhambra      Seat         1        \n",
       "449 2018-03-01 CC            Volkswagen   1        \n",
       "453 2018-03-01 Exeo          Seat         1        \n",
       "457 2018-03-01 Is300         Lexus        1        \n",
       "458 2018-03-01 Jetta         Volkswagen   1        \n",
       "463 2018-03-01 PriusImport   Toyota       1        \n",
       "467 2018-03-01 Qashqai       Nissan       1        \n",
       "469 2018-03-01 S60           Volvo        1        \n",
       "470 2018-03-01 SClass        Mercedes     1        \n",
       "471 2018-03-01 SClass        MercedesBenz 1        \n",
       "473 2018-03-01 SMax          Ford         1        \n",
       "476 2018-04-01 508           Peugeot      1        \n",
       "487 2018-04-01 IoniqHybrid   Hyundai      1        \n",
       "488 2018-04-01 Is300         Lexus        1        \n",
       "496 2018-04-01 SClass        MercedesBenz 1        \n",
       "498 2018-04-01 SMax          Ford         1        \n",
       "499 2018-04-01 Toledo        Seat         1        \n",
       "500 2018-04-01 XfSeries      Jaguar       1        \n",
       "501 2018-04-01 Zafira        Vauxhall     1        "
      ]
     },
     "metadata": {},
     "output_type": "display_data"
    }
   ],
   "source": [
    "#Table clearly shows that Toyota Prius tops the leaderboard in terms of highest number of bookings per month \n",
    "df2[order(-df2$Frequency),] "
   ]
  },
  {
   "cell_type": "code",
   "execution_count": 1064,
   "metadata": {},
   "outputs": [
    {
     "data": {},
     "metadata": {},
     "output_type": "display_data"
    },
    {
     "data": {
      "image/png": "[encoded data removed]",
      "text/plain": [
       "plot without title"
      ]
     },
     "metadata": {},
     "output_type": "display_data"
    }
   ],
   "source": [
    "# Line plot with most frequently booked groups on average - Toyota Prius by far the most frequently used vehicle.\n",
    "# However, it seems as though the frequency of prius usage is decreasing from the fourth quarter of 2017 onwards. \n",
    "\n",
    "p <- ggplot(data=df2, aes(x=date, y=Frequency, group=vehicle_model)) +\n",
    "  geom_line(aes(color=vehicle_make))+\n",
    "  geom_point() + scale_x_date(date_breaks = \"months\" , date_labels = \"%b-%y\")\n",
    "p + theme(plot.title = element_text(color=\"black\", size=11, hjust=0.5),\n",
    "          panel.grid.major = element_blank(), \n",
    "          panel.grid.minor = element_blank(),\n",
    "          panel.background = element_blank(), \n",
    "          axis.line = element_line(colour = \"black\"), \n",
    "          legend.position=\"bottom\", \n",
    "          axis.text.x = element_text(angle = 90, hjust = 0),) + ggtitle(\"Frequency of bookings vs time grouped by Vehicle Makes\")\n",
    "          "
   ]
  },
  {
   "cell_type": "code",
   "execution_count": 1065,
   "metadata": {},
   "outputs": [],
   "source": [
    "#Observe overall median frequency for each vehicle type - Toyota Prius still leading with the use of median values, less \n",
    "#susceptible to outliers \n",
    "df3 <- ddply(df2,.(vehicle_model,vehicle_make),summarize,Avg_Frequency = median(Frequency))"
   ]
  },
  {
   "cell_type": "code",
   "execution_count": 1066,
   "metadata": {
    "scrolled": true
   },
   "outputs": [
    {
     "data": {
      "text/html": [
       "<table>\n",
       "<thead><tr><th></th><th scope=col>vehicle_model</th><th scope=col>vehicle_make</th><th scope=col>Avg_Frequency</th></tr></thead>\n",
       "<tbody>\n",
       "\t<tr><th scope=row>43</th><td>Prius         </td><td>Toyota        </td><td>132.0         </td></tr>\n",
       "\t<tr><th scope=row>24</th><td>Galaxy        </td><td>Ford          </td><td> 22.5         </td></tr>\n",
       "\t<tr><th scope=row>45</th><td>PriusNewShape </td><td>Toyota        </td><td> 15.0         </td></tr>\n",
       "\t<tr><th scope=row>10</th><td>Auris         </td><td>Toyota        </td><td> 13.0         </td></tr>\n",
       "\t<tr><th scope=row>29</th><td>Insight       </td><td>Honda         </td><td> 12.0         </td></tr>\n",
       "\t<tr><th scope=row>21</th><td>EClass        </td><td>Mercedes      </td><td>  9.0         </td></tr>\n",
       "\t<tr><th scope=row>30</th><td>Insignia      </td><td>Vauxhall      </td><td>  8.0         </td></tr>\n",
       "\t<tr><th scope=row>56</th><td>Sharan        </td><td>Volkswagen    </td><td>  7.0         </td></tr>\n",
       "\t<tr><th scope=row>11</th><td>AurisEstate   </td><td>Toyota        </td><td>  6.0         </td></tr>\n",
       "\t<tr><th scope=row>66</th><td>XfSeries      </td><td>Jaguar        </td><td>  6.0         </td></tr>\n",
       "\t<tr><th scope=row>40</th><td>Octavia       </td><td>Skoda         </td><td>  5.5         </td></tr>\n",
       "\t<tr><th scope=row>42</th><td>Passat        </td><td>Volkswagen    </td><td>  5.5         </td></tr>\n",
       "\t<tr><th scope=row>46</th><td>PriusPlug-in  </td><td>Toyota        </td><td>  5.0         </td></tr>\n",
       "\t<tr><th scope=row>8</th><td>Alhambra      </td><td>Seat          </td><td>  4.5         </td></tr>\n",
       "\t<tr><th scope=row>17</th><td>CClass        </td><td>Mercedes      </td><td>  4.5         </td></tr>\n",
       "\t<tr><th scope=row>51</th><td>Rapid         </td><td>Skoda         </td><td>  4.5         </td></tr>\n",
       "\t<tr><th scope=row>39</th><td>Mondeo        </td><td>Ford          </td><td>  4.0         </td></tr>\n",
       "\t<tr><th scope=row>47</th><td>PriusPlus     </td><td>Toyota        </td><td>  4.0         </td></tr>\n",
       "\t<tr><th scope=row>58</th><td>Superb        </td><td>Skoda         </td><td>  4.0         </td></tr>\n",
       "\t<tr><th scope=row>16</th><td>CC            </td><td>Volkswagen    </td><td>  3.0         </td></tr>\n",
       "\t<tr><th scope=row>41</th><td>Partner       </td><td>Peugeot       </td><td>  3.0         </td></tr>\n",
       "\t<tr><th scope=row>65</th><td>XeType        </td><td>Jaguar        </td><td>  2.5         </td></tr>\n",
       "\t<tr><th scope=row>9</th><td>Astra         </td><td>Vauxhall      </td><td>  2.0         </td></tr>\n",
       "\t<tr><th scope=row>14</th><td>C4GrandPicasso</td><td>Citroen       </td><td>  2.0         </td></tr>\n",
       "\t<tr><th scope=row>15</th><td>Caddy         </td><td>Volkswagen    </td><td>  2.0         </td></tr>\n",
       "\t<tr><th scope=row>18</th><td>CMax          </td><td>Ford          </td><td>  2.0         </td></tr>\n",
       "\t<tr><th scope=row>19</th><td>E-ClassHybrid </td><td>Mercedes      </td><td>  2.0         </td></tr>\n",
       "\t<tr><th scope=row>20</th><td>E6            </td><td>BYD           </td><td>  2.0         </td></tr>\n",
       "\t<tr><th scope=row>27</th><td>GS300H        </td><td>Volkswagen    </td><td>  2.0         </td></tr>\n",
       "\t<tr><th scope=row>34</th><td>Kodiaq        </td><td>Skoda         </td><td>  2.0         </td></tr>\n",
       "\t<tr><th scope=row>...</th><td>...</td><td>...</td><td>...</td></tr>\n",
       "\t<tr><th scope=row>60</th><td>Transit     </td><td>Ford        </td><td>1.5         </td></tr>\n",
       "\t<tr><th scope=row>68</th><td>Yeti        </td><td>Skoda       </td><td>1.5         </td></tr>\n",
       "\t<tr><th scope=row>1</th><td>2Series     </td><td>BMW         </td><td>1.0         </td></tr>\n",
       "\t<tr><th scope=row>3</th><td>5008        </td><td>Peugeot     </td><td>1.0         </td></tr>\n",
       "\t<tr><th scope=row>5</th><td>5Series     </td><td>BMW         </td><td>1.0         </td></tr>\n",
       "\t<tr><th scope=row>6</th><td>A4          </td><td>Audi        </td><td>1.0         </td></tr>\n",
       "\t<tr><th scope=row>7</th><td>A8          </td><td>Audi        </td><td>1.0         </td></tr>\n",
       "\t<tr><th scope=row>13</th><td>Berlingo    </td><td>Citroen     </td><td>1.0         </td></tr>\n",
       "\t<tr><th scope=row>22</th><td>Exeo        </td><td>Seat        </td><td>1.0         </td></tr>\n",
       "\t<tr><th scope=row>23</th><td>Focus       </td><td>Ford        </td><td>1.0         </td></tr>\n",
       "\t<tr><th scope=row>25</th><td>Golf        </td><td>Volkswagen  </td><td>1.0         </td></tr>\n",
       "\t<tr><th scope=row>26</th><td>GS300H      </td><td>Lexus       </td><td>1.0         </td></tr>\n",
       "\t<tr><th scope=row>28</th><td>I40         </td><td>Hyundai     </td><td>1.0         </td></tr>\n",
       "\t<tr><th scope=row>31</th><td>IoniqHybrid </td><td>Hyundai     </td><td>1.0         </td></tr>\n",
       "\t<tr><th scope=row>32</th><td>Is300       </td><td>Lexus       </td><td>1.0         </td></tr>\n",
       "\t<tr><th scope=row>33</th><td>Jetta       </td><td>Volkswagen  </td><td>1.0         </td></tr>\n",
       "\t<tr><th scope=row>35</th><td>Laguna      </td><td>Renault     </td><td>1.0         </td></tr>\n",
       "\t<tr><th scope=row>38</th><td>ModelS      </td><td>Tesla       </td><td>1.0         </td></tr>\n",
       "\t<tr><th scope=row>48</th><td>Q3          </td><td>Audi        </td><td>1.0         </td></tr>\n",
       "\t<tr><th scope=row>49</th><td>Qashqai     </td><td>Nissan      </td><td>1.0         </td></tr>\n",
       "\t<tr><th scope=row>50</th><td>RangeRover  </td><td>LandRover   </td><td>1.0         </td></tr>\n",
       "\t<tr><th scope=row>52</th><td>S60         </td><td>Volvo       </td><td>1.0         </td></tr>\n",
       "\t<tr><th scope=row>53</th><td>Scenic      </td><td>Renault     </td><td>1.0         </td></tr>\n",
       "\t<tr><th scope=row>55</th><td>SClass      </td><td>MercedesBenz</td><td>1.0         </td></tr>\n",
       "\t<tr><th scope=row>57</th><td>SMax        </td><td>Ford        </td><td>1.0         </td></tr>\n",
       "\t<tr><th scope=row>59</th><td>Toledo      </td><td>Seat        </td><td>1.0         </td></tr>\n",
       "\t<tr><th scope=row>62</th><td>VClass      </td><td>Mercedes    </td><td>1.0         </td></tr>\n",
       "\t<tr><th scope=row>63</th><td>Viano       </td><td>Mercedes    </td><td>1.0         </td></tr>\n",
       "\t<tr><th scope=row>64</th><td>Vito        </td><td>Mercedes    </td><td>1.0         </td></tr>\n",
       "\t<tr><th scope=row>67</th><td>XJL         </td><td>Jaguar      </td><td>1.0         </td></tr>\n",
       "</tbody>\n",
       "</table>\n"
      ],
      "text/latex": [
       "\\begin{tabular}{r|lll}\n",
       "  & vehicle\\_model & vehicle\\_make & Avg\\_Frequency\\\\\n",
       "\\hline\n",
       "\t43 & Prius          & Toyota         & 132.0         \\\\\n",
       "\t24 & Galaxy         & Ford           &  22.5         \\\\\n",
       "\t45 & PriusNewShape  & Toyota         &  15.0         \\\\\n",
       "\t10 & Auris          & Toyota         &  13.0         \\\\\n",
       "\t29 & Insight        & Honda          &  12.0         \\\\\n",
       "\t21 & EClass         & Mercedes       &   9.0         \\\\\n",
       "\t30 & Insignia       & Vauxhall       &   8.0         \\\\\n",
       "\t56 & Sharan         & Volkswagen     &   7.0         \\\\\n",
       "\t11 & AurisEstate    & Toyota         &   6.0         \\\\\n",
       "\t66 & XfSeries       & Jaguar         &   6.0         \\\\\n",
       "\t40 & Octavia        & Skoda          &   5.5         \\\\\n",
       "\t42 & Passat         & Volkswagen     &   5.5         \\\\\n",
       "\t46 & PriusPlug-in   & Toyota         &   5.0         \\\\\n",
       "\t8 & Alhambra       & Seat           &   4.5         \\\\\n",
       "\t17 & CClass         & Mercedes       &   4.5         \\\\\n",
       "\t51 & Rapid          & Skoda          &   4.5         \\\\\n",
       "\t39 & Mondeo         & Ford           &   4.0         \\\\\n",
       "\t47 & PriusPlus      & Toyota         &   4.0         \\\\\n",
       "\t58 & Superb         & Skoda          &   4.0         \\\\\n",
       "\t16 & CC             & Volkswagen     &   3.0         \\\\\n",
       "\t41 & Partner        & Peugeot        &   3.0         \\\\\n",
       "\t65 & XeType         & Jaguar         &   2.5         \\\\\n",
       "\t9 & Astra          & Vauxhall       &   2.0         \\\\\n",
       "\t14 & C4GrandPicasso & Citroen        &   2.0         \\\\\n",
       "\t15 & Caddy          & Volkswagen     &   2.0         \\\\\n",
       "\t18 & CMax           & Ford           &   2.0         \\\\\n",
       "\t19 & E-ClassHybrid  & Mercedes       &   2.0         \\\\\n",
       "\t20 & E6             & BYD            &   2.0         \\\\\n",
       "\t27 & GS300H         & Volkswagen     &   2.0         \\\\\n",
       "\t34 & Kodiaq         & Skoda          &   2.0         \\\\\n",
       "\t... & ... & ... & ...\\\\\n",
       "\t60 & Transit      & Ford         & 1.5         \\\\\n",
       "\t68 & Yeti         & Skoda        & 1.5         \\\\\n",
       "\t1 & 2Series      & BMW          & 1.0         \\\\\n",
       "\t3 & 5008         & Peugeot      & 1.0         \\\\\n",
       "\t5 & 5Series      & BMW          & 1.0         \\\\\n",
       "\t6 & A4           & Audi         & 1.0         \\\\\n",
       "\t7 & A8           & Audi         & 1.0         \\\\\n",
       "\t13 & Berlingo     & Citroen      & 1.0         \\\\\n",
       "\t22 & Exeo         & Seat         & 1.0         \\\\\n",
       "\t23 & Focus        & Ford         & 1.0         \\\\\n",
       "\t25 & Golf         & Volkswagen   & 1.0         \\\\\n",
       "\t26 & GS300H       & Lexus        & 1.0         \\\\\n",
       "\t28 & I40          & Hyundai      & 1.0         \\\\\n",
       "\t31 & IoniqHybrid  & Hyundai      & 1.0         \\\\\n",
       "\t32 & Is300        & Lexus        & 1.0         \\\\\n",
       "\t33 & Jetta        & Volkswagen   & 1.0         \\\\\n",
       "\t35 & Laguna       & Renault      & 1.0         \\\\\n",
       "\t38 & ModelS       & Tesla        & 1.0         \\\\\n",
       "\t48 & Q3           & Audi         & 1.0         \\\\\n",
       "\t49 & Qashqai      & Nissan       & 1.0         \\\\\n",
       "\t50 & RangeRover   & LandRover    & 1.0         \\\\\n",
       "\t52 & S60          & Volvo        & 1.0         \\\\\n",
       "\t53 & Scenic       & Renault      & 1.0         \\\\\n",
       "\t55 & SClass       & MercedesBenz & 1.0         \\\\\n",
       "\t57 & SMax         & Ford         & 1.0         \\\\\n",
       "\t59 & Toledo       & Seat         & 1.0         \\\\\n",
       "\t62 & VClass       & Mercedes     & 1.0         \\\\\n",
       "\t63 & Viano        & Mercedes     & 1.0         \\\\\n",
       "\t64 & Vito         & Mercedes     & 1.0         \\\\\n",
       "\t67 & XJL          & Jaguar       & 1.0         \\\\\n",
       "\\end{tabular}\n"
      ],
      "text/markdown": [
       "\n",
       "| <!--/--> | vehicle_model | vehicle_make | Avg_Frequency | \n",
       "|---|---|---|---|---|---|---|---|---|---|---|---|---|---|---|---|---|---|---|---|---|---|---|---|---|---|---|---|---|---|---|---|---|---|---|---|---|---|---|---|---|---|---|---|---|---|---|---|---|---|---|---|---|---|---|---|---|---|---|---|---|\n",
       "| 43 | Prius          | Toyota         | 132.0          | \n",
       "| 24 | Galaxy         | Ford           |  22.5          | \n",
       "| 45 | PriusNewShape  | Toyota         |  15.0          | \n",
       "| 10 | Auris          | Toyota         |  13.0          | \n",
       "| 29 | Insight        | Honda          |  12.0          | \n",
       "| 21 | EClass         | Mercedes       |   9.0          | \n",
       "| 30 | Insignia       | Vauxhall       |   8.0          | \n",
       "| 56 | Sharan         | Volkswagen     |   7.0          | \n",
       "| 11 | AurisEstate    | Toyota         |   6.0          | \n",
       "| 66 | XfSeries       | Jaguar         |   6.0          | \n",
       "| 40 | Octavia        | Skoda          |   5.5          | \n",
       "| 42 | Passat         | Volkswagen     |   5.5          | \n",
       "| 46 | PriusPlug-in   | Toyota         |   5.0          | \n",
       "| 8 | Alhambra       | Seat           |   4.5          | \n",
       "| 17 | CClass         | Mercedes       |   4.5          | \n",
       "| 51 | Rapid          | Skoda          |   4.5          | \n",
       "| 39 | Mondeo         | Ford           |   4.0          | \n",
       "| 47 | PriusPlus      | Toyota         |   4.0          | \n",
       "| 58 | Superb         | Skoda          |   4.0          | \n",
       "| 16 | CC             | Volkswagen     |   3.0          | \n",
       "| 41 | Partner        | Peugeot        |   3.0          | \n",
       "| 65 | XeType         | Jaguar         |   2.5          | \n",
       "| 9 | Astra          | Vauxhall       |   2.0          | \n",
       "| 14 | C4GrandPicasso | Citroen        |   2.0          | \n",
       "| 15 | Caddy          | Volkswagen     |   2.0          | \n",
       "| 18 | CMax           | Ford           |   2.0          | \n",
       "| 19 | E-ClassHybrid  | Mercedes       |   2.0          | \n",
       "| 20 | E6             | BYD            |   2.0          | \n",
       "| 27 | GS300H         | Volkswagen     |   2.0          | \n",
       "| 34 | Kodiaq         | Skoda          |   2.0          | \n",
       "| ... | ... | ... | ... | \n",
       "| 60 | Transit      | Ford         | 1.5          | \n",
       "| 68 | Yeti         | Skoda        | 1.5          | \n",
       "| 1 | 2Series      | BMW          | 1.0          | \n",
       "| 3 | 5008         | Peugeot      | 1.0          | \n",
       "| 5 | 5Series      | BMW          | 1.0          | \n",
       "| 6 | A4           | Audi         | 1.0          | \n",
       "| 7 | A8           | Audi         | 1.0          | \n",
       "| 13 | Berlingo     | Citroen      | 1.0          | \n",
       "| 22 | Exeo         | Seat         | 1.0          | \n",
       "| 23 | Focus        | Ford         | 1.0          | \n",
       "| 25 | Golf         | Volkswagen   | 1.0          | \n",
       "| 26 | GS300H       | Lexus        | 1.0          | \n",
       "| 28 | I40          | Hyundai      | 1.0          | \n",
       "| 31 | IoniqHybrid  | Hyundai      | 1.0          | \n",
       "| 32 | Is300        | Lexus        | 1.0          | \n",
       "| 33 | Jetta        | Volkswagen   | 1.0          | \n",
       "| 35 | Laguna       | Renault      | 1.0          | \n",
       "| 38 | ModelS       | Tesla        | 1.0          | \n",
       "| 48 | Q3           | Audi         | 1.0          | \n",
       "| 49 | Qashqai      | Nissan       | 1.0          | \n",
       "| 50 | RangeRover   | LandRover    | 1.0          | \n",
       "| 52 | S60          | Volvo        | 1.0          | \n",
       "| 53 | Scenic       | Renault      | 1.0          | \n",
       "| 55 | SClass       | MercedesBenz | 1.0          | \n",
       "| 57 | SMax         | Ford         | 1.0          | \n",
       "| 59 | Toledo       | Seat         | 1.0          | \n",
       "| 62 | VClass       | Mercedes     | 1.0          | \n",
       "| 63 | Viano        | Mercedes     | 1.0          | \n",
       "| 64 | Vito         | Mercedes     | 1.0          | \n",
       "| 67 | XJL          | Jaguar       | 1.0          | \n",
       "\n",
       "\n"
      ],
      "text/plain": [
       "    vehicle_model  vehicle_make Avg_Frequency\n",
       "43  Prius          Toyota       132.0        \n",
       "24  Galaxy         Ford          22.5        \n",
       "45  PriusNewShape  Toyota        15.0        \n",
       "10  Auris          Toyota        13.0        \n",
       "29  Insight        Honda         12.0        \n",
       "21  EClass         Mercedes       9.0        \n",
       "30  Insignia       Vauxhall       8.0        \n",
       "56  Sharan         Volkswagen     7.0        \n",
       "11  AurisEstate    Toyota         6.0        \n",
       "66  XfSeries       Jaguar         6.0        \n",
       "40  Octavia        Skoda          5.5        \n",
       "42  Passat         Volkswagen     5.5        \n",
       "46  PriusPlug-in   Toyota         5.0        \n",
       "8   Alhambra       Seat           4.5        \n",
       "17  CClass         Mercedes       4.5        \n",
       "51  Rapid          Skoda          4.5        \n",
       "39  Mondeo         Ford           4.0        \n",
       "47  PriusPlus      Toyota         4.0        \n",
       "58  Superb         Skoda          4.0        \n",
       "16  CC             Volkswagen     3.0        \n",
       "41  Partner        Peugeot        3.0        \n",
       "65  XeType         Jaguar         2.5        \n",
       "9   Astra          Vauxhall       2.0        \n",
       "14  C4GrandPicasso Citroen        2.0        \n",
       "15  Caddy          Volkswagen     2.0        \n",
       "18  CMax           Ford           2.0        \n",
       "19  E-ClassHybrid  Mercedes       2.0        \n",
       "20  E6             BYD            2.0        \n",
       "27  GS300H         Volkswagen     2.0        \n",
       "34  Kodiaq         Skoda          2.0        \n",
       "... ...            ...          ...          \n",
       "60  Transit        Ford         1.5          \n",
       "68  Yeti           Skoda        1.5          \n",
       "1   2Series        BMW          1.0          \n",
       "3   5008           Peugeot      1.0          \n",
       "5   5Series        BMW          1.0          \n",
       "6   A4             Audi         1.0          \n",
       "7   A8             Audi         1.0          \n",
       "13  Berlingo       Citroen      1.0          \n",
       "22  Exeo           Seat         1.0          \n",
       "23  Focus          Ford         1.0          \n",
       "25  Golf           Volkswagen   1.0          \n",
       "26  GS300H         Lexus        1.0          \n",
       "28  I40            Hyundai      1.0          \n",
       "31  IoniqHybrid    Hyundai      1.0          \n",
       "32  Is300          Lexus        1.0          \n",
       "33  Jetta          Volkswagen   1.0          \n",
       "35  Laguna         Renault      1.0          \n",
       "38  ModelS         Tesla        1.0          \n",
       "48  Q3             Audi         1.0          \n",
       "49  Qashqai        Nissan       1.0          \n",
       "50  RangeRover     LandRover    1.0          \n",
       "52  S60            Volvo        1.0          \n",
       "53  Scenic         Renault      1.0          \n",
       "55  SClass         MercedesBenz 1.0          \n",
       "57  SMax           Ford         1.0          \n",
       "59  Toledo         Seat         1.0          \n",
       "62  VClass         Mercedes     1.0          \n",
       "63  Viano          Mercedes     1.0          \n",
       "64  Vito           Mercedes     1.0          \n",
       "67  XJL            Jaguar       1.0          "
      ]
     },
     "metadata": {},
     "output_type": "display_data"
    }
   ],
   "source": [
    "df3[order(-df3$Avg_Frequency),] "
   ]
  },
  {
   "cell_type": "code",
   "execution_count": 1067,
   "metadata": {},
   "outputs": [],
   "source": [
    "#Limit data to top 5 vehicles in order to visualise trends over time \n",
    "data <- df2[df2$vehicle_model == 'Prius'|df2$vehicle_model == 'Galaxy'|df2$vehicle_model == 'Prius New Shape'|df2$vehicle_model == 'Auris'| df2$vehicle_model == 'Insight'| df2$vehicle_model == 'EClass',]"
   ]
  },
  {
   "cell_type": "code",
   "execution_count": 1068,
   "metadata": {
    "scrolled": false
   },
   "outputs": [
    {
     "data": {},
     "metadata": {},
     "output_type": "display_data"
    },
    {
     "data": {
      "image/png": "[encoded data removed]",
      "text/plain": [
       "plot without title"
      ]
     },
     "metadata": {},
     "output_type": "display_data"
    }
   ],
   "source": [
    "# Line plot with most frequently booked groups on average - Toyota Prius by far the most frequently used vehicle.\n",
    "# However, it seems as though the frequency of prius usage is decreasing from the fourth quarter of 2017 onwards. \n",
    "p <- ggplot(data=data, aes(x=date, y=Frequency, group=vehicle_model)) +\n",
    "  geom_line(aes(color=vehicle_model))+\n",
    "  geom_point() + scale_x_date(date_breaks = \"months\" , date_labels = \"%b-%y\")\n",
    "p + theme(plot.title = element_text(color=\"black\", size=11,hjust=0.5),\n",
    "          panel.grid.major = element_blank(), \n",
    "          panel.grid.minor = element_blank(),\n",
    "          panel.background = element_blank(), \n",
    "          axis.line = element_line(colour = \"black\"), \n",
    "          legend.position=\"bottom\", \n",
    "          axis.text.x = element_text(angle = 90, hjust = 0),) + ggtitle(\"Frequency of bookings vs time for top 5 frequently booked Vehicle Models\")"
   ]
  },
  {
   "cell_type": "code",
   "execution_count": 1069,
   "metadata": {
    "scrolled": true
   },
   "outputs": [],
   "source": [
    "#Subset data only concerning Toyota\n",
    "data <- df2[df2$vehicle_make == \"Toyota\",]"
   ]
  },
  {
   "cell_type": "code",
   "execution_count": 1070,
   "metadata": {},
   "outputs": [
    {
     "data": {},
     "metadata": {},
     "output_type": "display_data"
    },
    {
     "data": {
      "image/png": "[encoded data removed]",
      "text/plain": [
       "plot without title"
      ]
     },
     "metadata": {},
     "output_type": "display_data"
    }
   ],
   "source": [
    "# Graph showing trends within the Toyota models over time. Decrease in Toyota Prius maybe due to customers choosing to opt for\n",
    "# the prius new shape and auris estate instead. Is there a reason behind this increase - a deal/promotion offer? Shortly after peak, \n",
    "# a significant decrease is observed for all models especially the top 3 - Prius, Prius New Shape and Auris - however, frequency of Prius\n",
    "# is still double the next highest model - Prius New Shape from March 2018 onwards. \n",
    "\n",
    "p <- ggplot(data=data, aes(x=date, y=Frequency, group=vehicle_model)) +\n",
    "  geom_line(aes(color=vehicle_model))+\n",
    "  geom_point() + scale_x_date(date_breaks = \"months\" , date_labels = \"%b-%y\")\n",
    "p + theme(plot.title = element_text(color=\"black\", size=11,hjust=0.5),\n",
    "          panel.grid.major = element_blank(), \n",
    "          panel.grid.minor = element_blank(),\n",
    "          panel.background = element_blank(), \n",
    "          axis.line = element_line(colour = \"black\"), \n",
    "          legend.position=\"bottom\", \n",
    "          axis.text.x = element_text(angle = 90, hjust = 0),) + ggtitle(\"Frequency of bookings vs time for Toyota Models\")"
   ]
  },
  {
   "cell_type": "code",
   "execution_count": 1071,
   "metadata": {},
   "outputs": [],
   "source": [
    "#Group data by date and vehicle make and find frequency\n",
    "df4 <- ddply(bookings,.(date,vehicle_make),summarize,Frequency = n())"
   ]
  },
  {
   "cell_type": "code",
   "execution_count": 1072,
   "metadata": {},
   "outputs": [
    {
     "data": {},
     "metadata": {},
     "output_type": "display_data"
    },
    {
     "data": {
      "image/png": "[encoded data removed]",
      "text/plain": [
       "plot without title"
      ]
     },
     "metadata": {},
     "output_type": "display_data"
    }
   ],
   "source": [
    "# Line plot with most frequently booked groups on average - Toyota Prius by far the most frequently used vehicle.\n",
    "# However, it seems as though the frequency of prius usage is decreasing from the fourth quarter of 2017 onwards. \n",
    "p <- ggplot(data=df4, aes(x=date, y=Frequency, group=vehicle_make)) +\n",
    "  geom_line(aes(color=vehicle_make))+\n",
    "  geom_point() + scale_x_date(date_breaks = \"months\" , date_labels = \"%b-%y\")\n",
    "p + theme(plot.title = element_text(color=\"black\", size=11, hjust=0.5),\n",
    "          panel.grid.major = element_blank(), \n",
    "          panel.grid.minor = element_blank(),\n",
    "          panel.background = element_blank(), \n",
    "          axis.line = element_line(colour = \"black\"), \n",
    "          legend.position=\"bottom\", \n",
    "          axis.text.x = element_text(angle = 90, hjust = 0),) + ggtitle(\"Frequency of bookings vs time grouped by Vehicle Makes\")\n",
    "          "
   ]
  },
  {
   "cell_type": "code",
   "execution_count": 1073,
   "metadata": {
    "scrolled": true
   },
   "outputs": [
    {
     "data": {
      "text/html": [
       "<table>\n",
       "<thead><tr><th></th><th scope=col>start_time</th><th scope=col>end_time</th><th scope=col>vehicle_id</th><th scope=col>vehicle_model</th><th scope=col>vehicle_make</th><th scope=col>weekly_gmv</th><th scope=col>weekly_commission</th><th scope=col>no_weeks</th><th scope=col>total_commission</th><th scope=col>start_year</th><th scope=col>end_year</th><th scope=col>start_month</th><th scope=col>end_month</th><th scope=col>date</th></tr></thead>\n",
       "<tbody>\n",
       "\t<tr><th scope=row>2629</th><td>2017-09-27 </td><td>2017-08-08 </td><td>2629       </td><td>Prius      </td><td>Toyota     </td><td>208        </td><td>48         </td><td>-7.1428571 </td><td>-1.64835165</td><td>2017       </td><td>2017       </td><td>Sep        </td><td>Aug        </td><td>2017-09-01 </td></tr>\n",
       "\t<tr><th scope=row>1217</th><td>2017-11-14 </td><td>2017-11-14 </td><td>1217       </td><td>Sharan     </td><td>Volkswagen </td><td>214        </td><td>54         </td><td> 0.0000000 </td><td> 0.00000000</td><td>2017       </td><td>2017       </td><td>Nov        </td><td>Nov        </td><td>2017-11-01 </td></tr>\n",
       "\t<tr><th scope=row>1706</th><td>2017-06-26 </td><td>2017-06-26 </td><td>1706       </td><td>Prius      </td><td>Toyota     </td><td>226        </td><td>66         </td><td> 0.0000000 </td><td> 0.00000000</td><td>2017       </td><td>2017       </td><td>Jun        </td><td>Jun        </td><td>2017-06-01 </td></tr>\n",
       "\t<tr><th scope=row>4490</th><td>2018-01-02 </td><td>2018-01-02 </td><td>4490       </td><td>XfSeries   </td><td>Jaguar     </td><td>202        </td><td>42         </td><td> 0.0000000 </td><td> 0.00000000</td><td>2018       </td><td>2018       </td><td>Jan        </td><td>Jan        </td><td>2018-01-01 </td></tr>\n",
       "\t<tr><th scope=row>24</th><td>2018-02-07 </td><td>2018-02-08 </td><td>  24       </td><td>AurisEstate</td><td>Toyota     </td><td>208        </td><td>48         </td><td> 0.1428571 </td><td> 0.03296703</td><td>2018       </td><td>2018       </td><td>Feb        </td><td>Feb        </td><td>2018-02-01 </td></tr>\n",
       "\t<tr><th scope=row>90</th><td>2017-12-21 </td><td>2017-12-22 </td><td>  90       </td><td>Prius      </td><td>Toyota     </td><td>222        </td><td>62         </td><td> 0.1428571 </td><td> 0.03989704</td><td>2017       </td><td>2017       </td><td>Dec        </td><td>Dec        </td><td>2017-12-01 </td></tr>\n",
       "\t<tr><th scope=row>105</th><td>2018-01-30 </td><td>2018-01-31 </td><td> 105       </td><td>XfSeries   </td><td>Jaguar     </td><td>231        </td><td>71         </td><td> 0.1428571 </td><td> 0.04390847</td><td>2018       </td><td>2018       </td><td>Jan        </td><td>Jan        </td><td>2018-01-01 </td></tr>\n",
       "\t<tr><th scope=row>163</th><td>2017-08-15 </td><td>2017-08-16 </td><td> 163       </td><td>Prius      </td><td>Toyota     </td><td>216        </td><td>56         </td><td> 0.1428571 </td><td> 0.03703704</td><td>2017       </td><td>2017       </td><td>Aug        </td><td>Aug        </td><td>2017-08-01 </td></tr>\n",
       "\t<tr><th scope=row>356</th><td>2017-06-28 </td><td>2017-06-29 </td><td> 356       </td><td>Prius      </td><td>Toyota     </td><td>229        </td><td>69         </td><td> 0.1428571 </td><td> 0.04304429</td><td>2017       </td><td>2017       </td><td>Jun        </td><td>Jun        </td><td>2017-06-01 </td></tr>\n",
       "\t<tr><th scope=row>363</th><td>2017-05-24 </td><td>2017-05-25 </td><td> 363       </td><td>XeType     </td><td>Jaguar     </td><td>225        </td><td>65         </td><td> 0.1428571 </td><td> 0.04126984</td><td>2017       </td><td>2017       </td><td>May        </td><td>May        </td><td>2017-05-01 </td></tr>\n",
       "\t<tr><th scope=row>381</th><td>2017-09-28 </td><td>2017-09-29 </td><td> 381       </td><td>AurisEstate</td><td>Toyota     </td><td>229        </td><td>69         </td><td> 0.1428571 </td><td> 0.04304429</td><td>2017       </td><td>2017       </td><td>Sep        </td><td>Sep        </td><td>2017-09-01 </td></tr>\n",
       "\t<tr><th scope=row>414</th><td>2017-09-21 </td><td>2017-09-22 </td><td> 414       </td><td>Mondeo     </td><td>Ford       </td><td>222        </td><td>62         </td><td> 0.1428571 </td><td> 0.03989704</td><td>2017       </td><td>2017       </td><td>Sep        </td><td>Sep        </td><td>2017-09-01 </td></tr>\n",
       "\t<tr><th scope=row>454</th><td>2017-12-13 </td><td>2017-12-14 </td><td> 454       </td><td>Galaxy     </td><td>Ford       </td><td>214        </td><td>54         </td><td> 0.1428571 </td><td> 0.03604806</td><td>2017       </td><td>2017       </td><td>Dec        </td><td>Dec        </td><td>2017-12-01 </td></tr>\n",
       "\t<tr><th scope=row>456</th><td>2018-01-22 </td><td>2018-01-23 </td><td> 456       </td><td>Galaxy     </td><td>Ford       </td><td>223        </td><td>63         </td><td> 0.1428571 </td><td> 0.04035874</td><td>2018       </td><td>2018       </td><td>Jan        </td><td>Jan        </td><td>2018-01-01 </td></tr>\n",
       "\t<tr><th scope=row>474</th><td>2017-10-24 </td><td>2017-10-25 </td><td> 474       </td><td>Galaxy     </td><td>Ford       </td><td>225        </td><td>65         </td><td> 0.1428571 </td><td> 0.04126984</td><td>2017       </td><td>2017       </td><td>Oct        </td><td>Oct        </td><td>2017-10-01 </td></tr>\n",
       "\t<tr><th scope=row>484</th><td>2017-12-21 </td><td>2017-12-22 </td><td> 484       </td><td>Galaxy     </td><td>Ford       </td><td>222        </td><td>62         </td><td> 0.1428571 </td><td> 0.03989704</td><td>2017       </td><td>2017       </td><td>Dec        </td><td>Dec        </td><td>2017-12-01 </td></tr>\n",
       "\t<tr><th scope=row>570</th><td>2017-09-04 </td><td>2017-09-05 </td><td> 570       </td><td>E6         </td><td>BYD        </td><td>205        </td><td>45         </td><td> 0.1428571 </td><td> 0.03135889</td><td>2017       </td><td>2017       </td><td>Sep        </td><td>Sep        </td><td>2017-09-01 </td></tr>\n",
       "\t<tr><th scope=row>582</th><td>2018-03-22 </td><td>2018-03-23 </td><td> 582       </td><td>EClass     </td><td>Mercedes   </td><td>223        </td><td>63         </td><td> 0.1428571 </td><td> 0.04035874</td><td>2018       </td><td>2018       </td><td>Mar        </td><td>Mar        </td><td>2018-03-01 </td></tr>\n",
       "\t<tr><th scope=row>711</th><td>2018-01-29 </td><td>2018-01-30 </td><td> 711       </td><td>Auris      </td><td>Toyota     </td><td>230        </td><td>70         </td><td> 0.1428571 </td><td> 0.04347826</td><td>2018       </td><td>2018       </td><td>Jan        </td><td>Jan        </td><td>2018-01-01 </td></tr>\n",
       "\t<tr><th scope=row>737</th><td>2018-03-15 </td><td>2018-03-16 </td><td> 737       </td><td>Galaxy     </td><td>Ford       </td><td>216        </td><td>56         </td><td> 0.1428571 </td><td> 0.03703704</td><td>2018       </td><td>2018       </td><td>Mar        </td><td>Mar        </td><td>2018-03-01 </td></tr>\n",
       "\t<tr><th scope=row>754</th><td>2017-02-23 </td><td>2017-02-24 </td><td> 754       </td><td>Galaxy     </td><td>Ford       </td><td>224        </td><td>64         </td><td> 0.1428571 </td><td> 0.04081633</td><td>2017       </td><td>2017       </td><td>Feb        </td><td>Feb        </td><td>2017-02-01 </td></tr>\n",
       "\t<tr><th scope=row>767</th><td>2017-09-07 </td><td>2017-09-08 </td><td> 767       </td><td>SClass     </td><td>Mercedes   </td><td>208        </td><td>48         </td><td> 0.1428571 </td><td> 0.03296703</td><td>2017       </td><td>2017       </td><td>Sep        </td><td>Sep        </td><td>2017-09-01 </td></tr>\n",
       "\t<tr><th scope=row>793</th><td>2017-06-12 </td><td>2017-06-13 </td><td> 793       </td><td>Prius      </td><td>Toyota     </td><td>213        </td><td>53         </td><td> 0.1428571 </td><td> 0.03554661</td><td>2017       </td><td>2017       </td><td>Jun        </td><td>Jun        </td><td>2017-06-01 </td></tr>\n",
       "\t<tr><th scope=row>836</th><td>2017-01-05 </td><td>2017-01-06 </td><td> 836       </td><td>Prius      </td><td>Toyota     </td><td>206        </td><td>46         </td><td> 0.1428571 </td><td> 0.03190014</td><td>2017       </td><td>2017       </td><td>Jan        </td><td>Jan        </td><td>2017-01-01 </td></tr>\n",
       "\t<tr><th scope=row>871</th><td>2017-08-28 </td><td>2017-08-29 </td><td> 871       </td><td>Prius      </td><td>Toyota     </td><td>229        </td><td>69         </td><td> 0.1428571 </td><td> 0.04304429</td><td>2017       </td><td>2017       </td><td>Aug        </td><td>Aug        </td><td>2017-08-01 </td></tr>\n",
       "\t<tr><th scope=row>896</th><td>2017-10-19 </td><td>2017-10-20 </td><td> 896       </td><td>Galaxy     </td><td>Ford       </td><td>220        </td><td>60         </td><td> 0.1428571 </td><td> 0.03896104</td><td>2017       </td><td>2017       </td><td>Oct        </td><td>Oct        </td><td>2017-10-01 </td></tr>\n",
       "\t<tr><th scope=row>904</th><td>2018-01-15 </td><td>2018-01-16 </td><td> 904       </td><td>Insight    </td><td>Honda      </td><td>216        </td><td>56         </td><td> 0.1428571 </td><td> 0.03703704</td><td>2018       </td><td>2018       </td><td>Jan        </td><td>Jan        </td><td>2018-01-01 </td></tr>\n",
       "\t<tr><th scope=row>927</th><td>2018-02-20 </td><td>2018-02-21 </td><td> 927       </td><td>Galaxy     </td><td>Ford       </td><td>221        </td><td>61         </td><td> 0.1428571 </td><td> 0.03943116</td><td>2018       </td><td>2018       </td><td>Feb        </td><td>Feb        </td><td>2018-02-01 </td></tr>\n",
       "\t<tr><th scope=row>950</th><td>2017-05-24 </td><td>2017-05-25 </td><td> 950       </td><td>Prius      </td><td>Toyota     </td><td>225        </td><td>65         </td><td> 0.1428571 </td><td> 0.04126984</td><td>2017       </td><td>2017       </td><td>May        </td><td>May        </td><td>2017-05-01 </td></tr>\n",
       "\t<tr><th scope=row>968</th><td>2017-10-30 </td><td>2017-10-31 </td><td> 968       </td><td>Prius      </td><td>Toyota     </td><td>231        </td><td>71         </td><td> 0.1428571 </td><td> 0.04390847</td><td>2017       </td><td>2017       </td><td>Oct        </td><td>Oct        </td><td>2017-10-01 </td></tr>\n",
       "\t<tr><th scope=row>...</th><td>...</td><td>...</td><td>...</td><td>...</td><td>...</td><td>...</td><td>...</td><td>...</td><td>...</td><td>...</td><td>...</td><td>...</td><td>...</td><td>...</td></tr>\n",
       "\t<tr><th scope=row>4920</th><td>2018-01-04   </td><td>2018-06-21   </td><td>4920         </td><td>XfSeries     </td><td>Jaguar       </td><td>221          </td><td>61           </td><td>24.00000     </td><td> 6.624434    </td><td>2018         </td><td>2018         </td><td>Jan          </td><td>Jun          </td><td>2018-01-01   </td></tr>\n",
       "\t<tr><th scope=row>4951</th><td>2018-03-28   </td><td>2018-09-12   </td><td>4951         </td><td>PriusNewShape</td><td>Toyota       </td><td>212          </td><td>52           </td><td>24.00000     </td><td> 5.886792    </td><td>2018         </td><td>2018         </td><td>Mar          </td><td>Sep          </td><td>2018-03-01   </td></tr>\n",
       "\t<tr><th scope=row>4973</th><td>2018-04-13   </td><td>2018-09-28   </td><td>4973         </td><td>Prius        </td><td>Toyota       </td><td>228          </td><td>68           </td><td>24.00000     </td><td> 7.157895    </td><td>2018         </td><td>2018         </td><td>Apr          </td><td>Sep          </td><td>2018-04-01   </td></tr>\n",
       "\t<tr><th scope=row>2895</th><td>2017-02-06   </td><td>2017-07-31   </td><td>2895         </td><td>PriusPlus    </td><td>Toyota       </td><td>231          </td><td>71           </td><td>25.00000     </td><td> 7.683983    </td><td>2017         </td><td>2017         </td><td>Feb          </td><td>Jul          </td><td>2017-02-01   </td></tr>\n",
       "\t<tr><th scope=row>1244</th><td>2018-03-23   </td><td>2018-09-21   </td><td>1244         </td><td>PriusNewShape</td><td>Toyota       </td><td>221          </td><td>61           </td><td>26.00000     </td><td> 7.176471    </td><td>2018         </td><td>2018         </td><td>Mar          </td><td>Sep          </td><td>2018-03-01   </td></tr>\n",
       "\t<tr><th scope=row>3089</th><td>2018-04-23   </td><td>2018-10-22   </td><td>3089         </td><td>AurisEstate  </td><td>Toyota       </td><td>222          </td><td>62           </td><td>26.00000     </td><td> 7.261261    </td><td>2018         </td><td>2018         </td><td>Apr          </td><td>Oct          </td><td>2018-04-01   </td></tr>\n",
       "\t<tr><th scope=row>3760</th><td>2017-02-15   </td><td>2017-08-16   </td><td>3760         </td><td>Prius        </td><td>Toyota       </td><td>216          </td><td>56           </td><td>26.00000     </td><td> 6.740741    </td><td>2017         </td><td>2017         </td><td>Feb          </td><td>Aug          </td><td>2017-02-01   </td></tr>\n",
       "\t<tr><th scope=row>4712</th><td>2017-10-10   </td><td>2018-04-10   </td><td>4712         </td><td>Prius        </td><td>Toyota       </td><td>210          </td><td>50           </td><td>26.00000     </td><td> 6.190476    </td><td>2017         </td><td>2018         </td><td>Oct          </td><td>Apr          </td><td>2017-10-01   </td></tr>\n",
       "\t<tr><th scope=row>4991</th><td>2017-02-20   </td><td>2017-08-21   </td><td>4991         </td><td>Prius        </td><td>Toyota       </td><td>221          </td><td>61           </td><td>26.00000     </td><td> 7.176471    </td><td>2017         </td><td>2017         </td><td>Feb          </td><td>Aug          </td><td>2017-02-01   </td></tr>\n",
       "\t<tr><th scope=row>2199</th><td>2018-01-18   </td><td>2018-07-20   </td><td>2199         </td><td>Viano        </td><td>Mercedes     </td><td>220          </td><td>60           </td><td>26.14286     </td><td> 7.129870    </td><td>2018         </td><td>2018         </td><td>Jan          </td><td>Jul          </td><td>2018-01-01   </td></tr>\n",
       "\t<tr><th scope=row>2390</th><td>2018-02-08   </td><td>2018-08-10   </td><td>2390         </td><td>AurisEstate  </td><td>Toyota       </td><td>210          </td><td>50           </td><td>26.14286     </td><td> 6.224490    </td><td>2018         </td><td>2018         </td><td>Feb          </td><td>Aug          </td><td>2018-02-01   </td></tr>\n",
       "\t<tr><th scope=row>3079</th><td>2018-03-12   </td><td>2018-09-11   </td><td>3079         </td><td>Insight      </td><td>Honda        </td><td>211          </td><td>51           </td><td>26.14286     </td><td> 6.318890    </td><td>2018         </td><td>2018         </td><td>Mar          </td><td>Sep          </td><td>2018-03-01   </td></tr>\n",
       "\t<tr><th scope=row>971</th><td>2017-01-09   </td><td>2017-07-17   </td><td> 971         </td><td>Prius        </td><td>Toyota       </td><td>217          </td><td>57           </td><td>27.00000     </td><td> 7.092166    </td><td>2017         </td><td>2017         </td><td>Jan          </td><td>Jul          </td><td>2017-01-01   </td></tr>\n",
       "\t<tr><th scope=row>3227</th><td>2017-02-17   </td><td>2017-08-25   </td><td>3227         </td><td>PriusPlus    </td><td>Toyota       </td><td>225          </td><td>65           </td><td>27.00000     </td><td> 7.800000    </td><td>2017         </td><td>2017         </td><td>Feb          </td><td>Aug          </td><td>2017-02-01   </td></tr>\n",
       "\t<tr><th scope=row>3951</th><td>2017-09-08   </td><td>2018-04-03   </td><td>3951         </td><td>Prius        </td><td>Toyota       </td><td>203          </td><td>43           </td><td>29.57143     </td><td> 6.263899    </td><td>2017         </td><td>2018         </td><td>Sep          </td><td>Apr          </td><td>2017-09-01   </td></tr>\n",
       "\t<tr><th scope=row>1103</th><td>2017-01-26   </td><td>2017-08-24   </td><td>1103         </td><td>PriusNewShape</td><td>Toyota       </td><td>224          </td><td>64           </td><td>30.00000     </td><td> 8.571429    </td><td>2017         </td><td>2017         </td><td>Jan          </td><td>Aug          </td><td>2017-01-01   </td></tr>\n",
       "\t<tr><th scope=row>1342</th><td>2017-01-24   </td><td>2017-08-22   </td><td>1342         </td><td>Octavia      </td><td>Skoda        </td><td>222          </td><td>62           </td><td>30.00000     </td><td> 8.378378    </td><td>2017         </td><td>2017         </td><td>Jan          </td><td>Aug          </td><td>2017-01-01   </td></tr>\n",
       "\t<tr><th scope=row>2129</th><td>2017-08-25   </td><td>2018-03-23   </td><td>2129         </td><td>Prius        </td><td>Toyota       </td><td>223          </td><td>63           </td><td>30.00000     </td><td> 8.475336    </td><td>2017         </td><td>2018         </td><td>Aug          </td><td>Mar          </td><td>2017-08-01   </td></tr>\n",
       "\t<tr><th scope=row>1454</th><td>2017-01-13   </td><td>2017-08-18   </td><td>1454         </td><td>Prius        </td><td>Toyota       </td><td>218          </td><td>58           </td><td>31.00000     </td><td> 8.247706    </td><td>2017         </td><td>2017         </td><td>Jan          </td><td>Aug          </td><td>2017-01-01   </td></tr>\n",
       "\t<tr><th scope=row>3898</th><td>2017-08-21   </td><td>2018-03-26   </td><td>3898         </td><td>Prius        </td><td>Toyota       </td><td>226          </td><td>66           </td><td>31.00000     </td><td> 9.053097    </td><td>2017         </td><td>2018         </td><td>Aug          </td><td>Mar          </td><td>2017-08-01   </td></tr>\n",
       "\t<tr><th scope=row>1636</th><td>2017-08-25   </td><td>2018-04-05   </td><td>1636         </td><td>CC           </td><td>Volkswagen   </td><td>205          </td><td>45           </td><td>31.85714     </td><td> 6.993031    </td><td>2017         </td><td>2018         </td><td>Aug          </td><td>Apr          </td><td>2017-08-01   </td></tr>\n",
       "\t<tr><th scope=row>773</th><td>2017-01-09   </td><td>2017-08-21   </td><td> 773         </td><td>Prius        </td><td>Toyota       </td><td>221          </td><td>61           </td><td>32.00000     </td><td> 8.832579    </td><td>2017         </td><td>2017         </td><td>Jan          </td><td>Aug          </td><td>2017-01-01   </td></tr>\n",
       "\t<tr><th scope=row>433</th><td>2017-11-16   </td><td>2018-10-16   </td><td> 433         </td><td>Prius        </td><td>Toyota       </td><td>216          </td><td>56           </td><td>47.71429     </td><td>12.370370    </td><td>2017         </td><td>2018         </td><td>Nov          </td><td>Oct          </td><td>2017-11-01   </td></tr>\n",
       "\t<tr><th scope=row>1392</th><td>2017-11-08   </td><td>2018-10-24   </td><td>1392         </td><td>Auris        </td><td>Toyota       </td><td>224          </td><td>64           </td><td>50.00000     </td><td>14.285714    </td><td>2017         </td><td>2018         </td><td>Nov          </td><td>Oct          </td><td>2017-11-01   </td></tr>\n",
       "\t<tr><th scope=row>970</th><td>2018-04-06   </td><td>2019-03-25   </td><td> 970         </td><td>Auris        </td><td>Toyota       </td><td>225          </td><td>65           </td><td>50.42857     </td><td>14.568254    </td><td>2018         </td><td>2019         </td><td>Apr          </td><td>Mar          </td><td>2018-04-01   </td></tr>\n",
       "\t<tr><th scope=row>441</th><td>2018-02-28   </td><td>2019-02-27   </td><td> 441         </td><td>Galaxy       </td><td>Ford         </td><td>227          </td><td>67           </td><td>52.00000     </td><td>15.348018    </td><td>2018         </td><td>2019         </td><td>Feb          </td><td>Feb          </td><td>2018-02-01   </td></tr>\n",
       "\t<tr><th scope=row>3327</th><td>2018-04-02   </td><td>2019-04-01   </td><td>3327         </td><td>SClass       </td><td>MercedesBenz </td><td>201          </td><td>41           </td><td>52.00000     </td><td>10.606965    </td><td>2018         </td><td>2019         </td><td>Apr          </td><td>Apr          </td><td>2018-04-01   </td></tr>\n",
       "\t<tr><th scope=row>3600</th><td>2018-04-03   </td><td>2019-04-02   </td><td>3600         </td><td>PriusNewShape</td><td>Toyota       </td><td>202          </td><td>42           </td><td>52.00000     </td><td>10.811881    </td><td>2018         </td><td>2019         </td><td>Apr          </td><td>Apr          </td><td>2018-04-01   </td></tr>\n",
       "\t<tr><th scope=row>4249</th><td>2018-03-23   </td><td>2019-03-22   </td><td>4249         </td><td>AurisEstate  </td><td>Toyota       </td><td>222          </td><td>62           </td><td>52.00000     </td><td>14.522523    </td><td>2018         </td><td>2019         </td><td>Mar          </td><td>Mar          </td><td>2018-03-01   </td></tr>\n",
       "\t<tr><th scope=row>4992</th><td>2018-03-23   </td><td>2019-03-22   </td><td>4992         </td><td>SClass       </td><td>Mercedes     </td><td>222          </td><td>62           </td><td>52.00000     </td><td>14.522523    </td><td>2018         </td><td>2019         </td><td>Mar          </td><td>Mar          </td><td>2018-03-01   </td></tr>\n",
       "</tbody>\n",
       "</table>\n"
      ],
      "text/latex": [
       "\\begin{tabular}{r|llllllllllllll}\n",
       "  & start\\_time & end\\_time & vehicle\\_id & vehicle\\_model & vehicle\\_make & weekly\\_gmv & weekly\\_commission & no\\_weeks & total\\_commission & start\\_year & end\\_year & start\\_month & end\\_month & date\\\\\n",
       "\\hline\n",
       "\t2629 & 2017-09-27  & 2017-08-08  & 2629        & Prius       & Toyota      & 208         & 48          & -7.1428571  & -1.64835165 & 2017        & 2017        & Sep         & Aug         & 2017-09-01 \\\\\n",
       "\t1217 & 2017-11-14  & 2017-11-14  & 1217        & Sharan      & Volkswagen  & 214         & 54          &  0.0000000  &  0.00000000 & 2017        & 2017        & Nov         & Nov         & 2017-11-01 \\\\\n",
       "\t1706 & 2017-06-26  & 2017-06-26  & 1706        & Prius       & Toyota      & 226         & 66          &  0.0000000  &  0.00000000 & 2017        & 2017        & Jun         & Jun         & 2017-06-01 \\\\\n",
       "\t4490 & 2018-01-02  & 2018-01-02  & 4490        & XfSeries    & Jaguar      & 202         & 42          &  0.0000000  &  0.00000000 & 2018        & 2018        & Jan         & Jan         & 2018-01-01 \\\\\n",
       "\t24 & 2018-02-07  & 2018-02-08  &   24        & AurisEstate & Toyota      & 208         & 48          &  0.1428571  &  0.03296703 & 2018        & 2018        & Feb         & Feb         & 2018-02-01 \\\\\n",
       "\t90 & 2017-12-21  & 2017-12-22  &   90        & Prius       & Toyota      & 222         & 62          &  0.1428571  &  0.03989704 & 2017        & 2017        & Dec         & Dec         & 2017-12-01 \\\\\n",
       "\t105 & 2018-01-30  & 2018-01-31  &  105        & XfSeries    & Jaguar      & 231         & 71          &  0.1428571  &  0.04390847 & 2018        & 2018        & Jan         & Jan         & 2018-01-01 \\\\\n",
       "\t163 & 2017-08-15  & 2017-08-16  &  163        & Prius       & Toyota      & 216         & 56          &  0.1428571  &  0.03703704 & 2017        & 2017        & Aug         & Aug         & 2017-08-01 \\\\\n",
       "\t356 & 2017-06-28  & 2017-06-29  &  356        & Prius       & Toyota      & 229         & 69          &  0.1428571  &  0.04304429 & 2017        & 2017        & Jun         & Jun         & 2017-06-01 \\\\\n",
       "\t363 & 2017-05-24  & 2017-05-25  &  363        & XeType      & Jaguar      & 225         & 65          &  0.1428571  &  0.04126984 & 2017        & 2017        & May         & May         & 2017-05-01 \\\\\n",
       "\t381 & 2017-09-28  & 2017-09-29  &  381        & AurisEstate & Toyota      & 229         & 69          &  0.1428571  &  0.04304429 & 2017        & 2017        & Sep         & Sep         & 2017-09-01 \\\\\n",
       "\t414 & 2017-09-21  & 2017-09-22  &  414        & Mondeo      & Ford        & 222         & 62          &  0.1428571  &  0.03989704 & 2017        & 2017        & Sep         & Sep         & 2017-09-01 \\\\\n",
       "\t454 & 2017-12-13  & 2017-12-14  &  454        & Galaxy      & Ford        & 214         & 54          &  0.1428571  &  0.03604806 & 2017        & 2017        & Dec         & Dec         & 2017-12-01 \\\\\n",
       "\t456 & 2018-01-22  & 2018-01-23  &  456        & Galaxy      & Ford        & 223         & 63          &  0.1428571  &  0.04035874 & 2018        & 2018        & Jan         & Jan         & 2018-01-01 \\\\\n",
       "\t474 & 2017-10-24  & 2017-10-25  &  474        & Galaxy      & Ford        & 225         & 65          &  0.1428571  &  0.04126984 & 2017        & 2017        & Oct         & Oct         & 2017-10-01 \\\\\n",
       "\t484 & 2017-12-21  & 2017-12-22  &  484        & Galaxy      & Ford        & 222         & 62          &  0.1428571  &  0.03989704 & 2017        & 2017        & Dec         & Dec         & 2017-12-01 \\\\\n",
       "\t570 & 2017-09-04  & 2017-09-05  &  570        & E6          & BYD         & 205         & 45          &  0.1428571  &  0.03135889 & 2017        & 2017        & Sep         & Sep         & 2017-09-01 \\\\\n",
       "\t582 & 2018-03-22  & 2018-03-23  &  582        & EClass      & Mercedes    & 223         & 63          &  0.1428571  &  0.04035874 & 2018        & 2018        & Mar         & Mar         & 2018-03-01 \\\\\n",
       "\t711 & 2018-01-29  & 2018-01-30  &  711        & Auris       & Toyota      & 230         & 70          &  0.1428571  &  0.04347826 & 2018        & 2018        & Jan         & Jan         & 2018-01-01 \\\\\n",
       "\t737 & 2018-03-15  & 2018-03-16  &  737        & Galaxy      & Ford        & 216         & 56          &  0.1428571  &  0.03703704 & 2018        & 2018        & Mar         & Mar         & 2018-03-01 \\\\\n",
       "\t754 & 2017-02-23  & 2017-02-24  &  754        & Galaxy      & Ford        & 224         & 64          &  0.1428571  &  0.04081633 & 2017        & 2017        & Feb         & Feb         & 2017-02-01 \\\\\n",
       "\t767 & 2017-09-07  & 2017-09-08  &  767        & SClass      & Mercedes    & 208         & 48          &  0.1428571  &  0.03296703 & 2017        & 2017        & Sep         & Sep         & 2017-09-01 \\\\\n",
       "\t793 & 2017-06-12  & 2017-06-13  &  793        & Prius       & Toyota      & 213         & 53          &  0.1428571  &  0.03554661 & 2017        & 2017        & Jun         & Jun         & 2017-06-01 \\\\\n",
       "\t836 & 2017-01-05  & 2017-01-06  &  836        & Prius       & Toyota      & 206         & 46          &  0.1428571  &  0.03190014 & 2017        & 2017        & Jan         & Jan         & 2017-01-01 \\\\\n",
       "\t871 & 2017-08-28  & 2017-08-29  &  871        & Prius       & Toyota      & 229         & 69          &  0.1428571  &  0.04304429 & 2017        & 2017        & Aug         & Aug         & 2017-08-01 \\\\\n",
       "\t896 & 2017-10-19  & 2017-10-20  &  896        & Galaxy      & Ford        & 220         & 60          &  0.1428571  &  0.03896104 & 2017        & 2017        & Oct         & Oct         & 2017-10-01 \\\\\n",
       "\t904 & 2018-01-15  & 2018-01-16  &  904        & Insight     & Honda       & 216         & 56          &  0.1428571  &  0.03703704 & 2018        & 2018        & Jan         & Jan         & 2018-01-01 \\\\\n",
       "\t927 & 2018-02-20  & 2018-02-21  &  927        & Galaxy      & Ford        & 221         & 61          &  0.1428571  &  0.03943116 & 2018        & 2018        & Feb         & Feb         & 2018-02-01 \\\\\n",
       "\t950 & 2017-05-24  & 2017-05-25  &  950        & Prius       & Toyota      & 225         & 65          &  0.1428571  &  0.04126984 & 2017        & 2017        & May         & May         & 2017-05-01 \\\\\n",
       "\t968 & 2017-10-30  & 2017-10-31  &  968        & Prius       & Toyota      & 231         & 71          &  0.1428571  &  0.04390847 & 2017        & 2017        & Oct         & Oct         & 2017-10-01 \\\\\n",
       "\t... & ... & ... & ... & ... & ... & ... & ... & ... & ... & ... & ... & ... & ... & ...\\\\\n",
       "\t4920 & 2018-01-04    & 2018-06-21    & 4920          & XfSeries      & Jaguar        & 221           & 61            & 24.00000      &  6.624434     & 2018          & 2018          & Jan           & Jun           & 2018-01-01   \\\\\n",
       "\t4951 & 2018-03-28    & 2018-09-12    & 4951          & PriusNewShape & Toyota        & 212           & 52            & 24.00000      &  5.886792     & 2018          & 2018          & Mar           & Sep           & 2018-03-01   \\\\\n",
       "\t4973 & 2018-04-13    & 2018-09-28    & 4973          & Prius         & Toyota        & 228           & 68            & 24.00000      &  7.157895     & 2018          & 2018          & Apr           & Sep           & 2018-04-01   \\\\\n",
       "\t2895 & 2017-02-06    & 2017-07-31    & 2895          & PriusPlus     & Toyota        & 231           & 71            & 25.00000      &  7.683983     & 2017          & 2017          & Feb           & Jul           & 2017-02-01   \\\\\n",
       "\t1244 & 2018-03-23    & 2018-09-21    & 1244          & PriusNewShape & Toyota        & 221           & 61            & 26.00000      &  7.176471     & 2018          & 2018          & Mar           & Sep           & 2018-03-01   \\\\\n",
       "\t3089 & 2018-04-23    & 2018-10-22    & 3089          & AurisEstate   & Toyota        & 222           & 62            & 26.00000      &  7.261261     & 2018          & 2018          & Apr           & Oct           & 2018-04-01   \\\\\n",
       "\t3760 & 2017-02-15    & 2017-08-16    & 3760          & Prius         & Toyota        & 216           & 56            & 26.00000      &  6.740741     & 2017          & 2017          & Feb           & Aug           & 2017-02-01   \\\\\n",
       "\t4712 & 2017-10-10    & 2018-04-10    & 4712          & Prius         & Toyota        & 210           & 50            & 26.00000      &  6.190476     & 2017          & 2018          & Oct           & Apr           & 2017-10-01   \\\\\n",
       "\t4991 & 2017-02-20    & 2017-08-21    & 4991          & Prius         & Toyota        & 221           & 61            & 26.00000      &  7.176471     & 2017          & 2017          & Feb           & Aug           & 2017-02-01   \\\\\n",
       "\t2199 & 2018-01-18    & 2018-07-20    & 2199          & Viano         & Mercedes      & 220           & 60            & 26.14286      &  7.129870     & 2018          & 2018          & Jan           & Jul           & 2018-01-01   \\\\\n",
       "\t2390 & 2018-02-08    & 2018-08-10    & 2390          & AurisEstate   & Toyota        & 210           & 50            & 26.14286      &  6.224490     & 2018          & 2018          & Feb           & Aug           & 2018-02-01   \\\\\n",
       "\t3079 & 2018-03-12    & 2018-09-11    & 3079          & Insight       & Honda         & 211           & 51            & 26.14286      &  6.318890     & 2018          & 2018          & Mar           & Sep           & 2018-03-01   \\\\\n",
       "\t971 & 2017-01-09    & 2017-07-17    &  971          & Prius         & Toyota        & 217           & 57            & 27.00000      &  7.092166     & 2017          & 2017          & Jan           & Jul           & 2017-01-01   \\\\\n",
       "\t3227 & 2017-02-17    & 2017-08-25    & 3227          & PriusPlus     & Toyota        & 225           & 65            & 27.00000      &  7.800000     & 2017          & 2017          & Feb           & Aug           & 2017-02-01   \\\\\n",
       "\t3951 & 2017-09-08    & 2018-04-03    & 3951          & Prius         & Toyota        & 203           & 43            & 29.57143      &  6.263899     & 2017          & 2018          & Sep           & Apr           & 2017-09-01   \\\\\n",
       "\t1103 & 2017-01-26    & 2017-08-24    & 1103          & PriusNewShape & Toyota        & 224           & 64            & 30.00000      &  8.571429     & 2017          & 2017          & Jan           & Aug           & 2017-01-01   \\\\\n",
       "\t1342 & 2017-01-24    & 2017-08-22    & 1342          & Octavia       & Skoda         & 222           & 62            & 30.00000      &  8.378378     & 2017          & 2017          & Jan           & Aug           & 2017-01-01   \\\\\n",
       "\t2129 & 2017-08-25    & 2018-03-23    & 2129          & Prius         & Toyota        & 223           & 63            & 30.00000      &  8.475336     & 2017          & 2018          & Aug           & Mar           & 2017-08-01   \\\\\n",
       "\t1454 & 2017-01-13    & 2017-08-18    & 1454          & Prius         & Toyota        & 218           & 58            & 31.00000      &  8.247706     & 2017          & 2017          & Jan           & Aug           & 2017-01-01   \\\\\n",
       "\t3898 & 2017-08-21    & 2018-03-26    & 3898          & Prius         & Toyota        & 226           & 66            & 31.00000      &  9.053097     & 2017          & 2018          & Aug           & Mar           & 2017-08-01   \\\\\n",
       "\t1636 & 2017-08-25    & 2018-04-05    & 1636          & CC            & Volkswagen    & 205           & 45            & 31.85714      &  6.993031     & 2017          & 2018          & Aug           & Apr           & 2017-08-01   \\\\\n",
       "\t773 & 2017-01-09    & 2017-08-21    &  773          & Prius         & Toyota        & 221           & 61            & 32.00000      &  8.832579     & 2017          & 2017          & Jan           & Aug           & 2017-01-01   \\\\\n",
       "\t433 & 2017-11-16    & 2018-10-16    &  433          & Prius         & Toyota        & 216           & 56            & 47.71429      & 12.370370     & 2017          & 2018          & Nov           & Oct           & 2017-11-01   \\\\\n",
       "\t1392 & 2017-11-08    & 2018-10-24    & 1392          & Auris         & Toyota        & 224           & 64            & 50.00000      & 14.285714     & 2017          & 2018          & Nov           & Oct           & 2017-11-01   \\\\\n",
       "\t970 & 2018-04-06    & 2019-03-25    &  970          & Auris         & Toyota        & 225           & 65            & 50.42857      & 14.568254     & 2018          & 2019          & Apr           & Mar           & 2018-04-01   \\\\\n",
       "\t441 & 2018-02-28    & 2019-02-27    &  441          & Galaxy        & Ford          & 227           & 67            & 52.00000      & 15.348018     & 2018          & 2019          & Feb           & Feb           & 2018-02-01   \\\\\n",
       "\t3327 & 2018-04-02    & 2019-04-01    & 3327          & SClass        & MercedesBenz  & 201           & 41            & 52.00000      & 10.606965     & 2018          & 2019          & Apr           & Apr           & 2018-04-01   \\\\\n",
       "\t3600 & 2018-04-03    & 2019-04-02    & 3600          & PriusNewShape & Toyota        & 202           & 42            & 52.00000      & 10.811881     & 2018          & 2019          & Apr           & Apr           & 2018-04-01   \\\\\n",
       "\t4249 & 2018-03-23    & 2019-03-22    & 4249          & AurisEstate   & Toyota        & 222           & 62            & 52.00000      & 14.522523     & 2018          & 2019          & Mar           & Mar           & 2018-03-01   \\\\\n",
       "\t4992 & 2018-03-23    & 2019-03-22    & 4992          & SClass        & Mercedes      & 222           & 62            & 52.00000      & 14.522523     & 2018          & 2019          & Mar           & Mar           & 2018-03-01   \\\\\n",
       "\\end{tabular}\n"
      ],
      "text/markdown": [
       "\n",
       "| <!--/--> | start_time | end_time | vehicle_id | vehicle_model | vehicle_make | weekly_gmv | weekly_commission | no_weeks | total_commission | start_year | end_year | start_month | end_month | date | \n",
       "|---|---|---|---|---|---|---|---|---|---|---|---|---|---|---|---|---|---|---|---|---|---|---|---|---|---|---|---|---|---|---|---|---|---|---|---|---|---|---|---|---|---|---|---|---|---|---|---|---|---|---|---|---|---|---|---|---|---|---|---|---|\n",
       "| 2629 | 2017-09-27  | 2017-08-08  | 2629        | Prius       | Toyota      | 208         | 48          | -7.1428571  | -1.64835165 | 2017        | 2017        | Sep         | Aug         | 2017-09-01  | \n",
       "| 1217 | 2017-11-14  | 2017-11-14  | 1217        | Sharan      | Volkswagen  | 214         | 54          |  0.0000000  |  0.00000000 | 2017        | 2017        | Nov         | Nov         | 2017-11-01  | \n",
       "| 1706 | 2017-06-26  | 2017-06-26  | 1706        | Prius       | Toyota      | 226         | 66          |  0.0000000  |  0.00000000 | 2017        | 2017        | Jun         | Jun         | 2017-06-01  | \n",
       "| 4490 | 2018-01-02  | 2018-01-02  | 4490        | XfSeries    | Jaguar      | 202         | 42          |  0.0000000  |  0.00000000 | 2018        | 2018        | Jan         | Jan         | 2018-01-01  | \n",
       "| 24 | 2018-02-07  | 2018-02-08  |   24        | AurisEstate | Toyota      | 208         | 48          |  0.1428571  |  0.03296703 | 2018        | 2018        | Feb         | Feb         | 2018-02-01  | \n",
       "| 90 | 2017-12-21  | 2017-12-22  |   90        | Prius       | Toyota      | 222         | 62          |  0.1428571  |  0.03989704 | 2017        | 2017        | Dec         | Dec         | 2017-12-01  | \n",
       "| 105 | 2018-01-30  | 2018-01-31  |  105        | XfSeries    | Jaguar      | 231         | 71          |  0.1428571  |  0.04390847 | 2018        | 2018        | Jan         | Jan         | 2018-01-01  | \n",
       "| 163 | 2017-08-15  | 2017-08-16  |  163        | Prius       | Toyota      | 216         | 56          |  0.1428571  |  0.03703704 | 2017        | 2017        | Aug         | Aug         | 2017-08-01  | \n",
       "| 356 | 2017-06-28  | 2017-06-29  |  356        | Prius       | Toyota      | 229         | 69          |  0.1428571  |  0.04304429 | 2017        | 2017        | Jun         | Jun         | 2017-06-01  | \n",
       "| 363 | 2017-05-24  | 2017-05-25  |  363        | XeType      | Jaguar      | 225         | 65          |  0.1428571  |  0.04126984 | 2017        | 2017        | May         | May         | 2017-05-01  | \n",
       "| 381 | 2017-09-28  | 2017-09-29  |  381        | AurisEstate | Toyota      | 229         | 69          |  0.1428571  |  0.04304429 | 2017        | 2017        | Sep         | Sep         | 2017-09-01  | \n",
       "| 414 | 2017-09-21  | 2017-09-22  |  414        | Mondeo      | Ford        | 222         | 62          |  0.1428571  |  0.03989704 | 2017        | 2017        | Sep         | Sep         | 2017-09-01  | \n",
       "| 454 | 2017-12-13  | 2017-12-14  |  454        | Galaxy      | Ford        | 214         | 54          |  0.1428571  |  0.03604806 | 2017        | 2017        | Dec         | Dec         | 2017-12-01  | \n",
       "| 456 | 2018-01-22  | 2018-01-23  |  456        | Galaxy      | Ford        | 223         | 63          |  0.1428571  |  0.04035874 | 2018        | 2018        | Jan         | Jan         | 2018-01-01  | \n",
       "| 474 | 2017-10-24  | 2017-10-25  |  474        | Galaxy      | Ford        | 225         | 65          |  0.1428571  |  0.04126984 | 2017        | 2017        | Oct         | Oct         | 2017-10-01  | \n",
       "| 484 | 2017-12-21  | 2017-12-22  |  484        | Galaxy      | Ford        | 222         | 62          |  0.1428571  |  0.03989704 | 2017        | 2017        | Dec         | Dec         | 2017-12-01  | \n",
       "| 570 | 2017-09-04  | 2017-09-05  |  570        | E6          | BYD         | 205         | 45          |  0.1428571  |  0.03135889 | 2017        | 2017        | Sep         | Sep         | 2017-09-01  | \n",
       "| 582 | 2018-03-22  | 2018-03-23  |  582        | EClass      | Mercedes    | 223         | 63          |  0.1428571  |  0.04035874 | 2018        | 2018        | Mar         | Mar         | 2018-03-01  | \n",
       "| 711 | 2018-01-29  | 2018-01-30  |  711        | Auris       | Toyota      | 230         | 70          |  0.1428571  |  0.04347826 | 2018        | 2018        | Jan         | Jan         | 2018-01-01  | \n",
       "| 737 | 2018-03-15  | 2018-03-16  |  737        | Galaxy      | Ford        | 216         | 56          |  0.1428571  |  0.03703704 | 2018        | 2018        | Mar         | Mar         | 2018-03-01  | \n",
       "| 754 | 2017-02-23  | 2017-02-24  |  754        | Galaxy      | Ford        | 224         | 64          |  0.1428571  |  0.04081633 | 2017        | 2017        | Feb         | Feb         | 2017-02-01  | \n",
       "| 767 | 2017-09-07  | 2017-09-08  |  767        | SClass      | Mercedes    | 208         | 48          |  0.1428571  |  0.03296703 | 2017        | 2017        | Sep         | Sep         | 2017-09-01  | \n",
       "| 793 | 2017-06-12  | 2017-06-13  |  793        | Prius       | Toyota      | 213         | 53          |  0.1428571  |  0.03554661 | 2017        | 2017        | Jun         | Jun         | 2017-06-01  | \n",
       "| 836 | 2017-01-05  | 2017-01-06  |  836        | Prius       | Toyota      | 206         | 46          |  0.1428571  |  0.03190014 | 2017        | 2017        | Jan         | Jan         | 2017-01-01  | \n",
       "| 871 | 2017-08-28  | 2017-08-29  |  871        | Prius       | Toyota      | 229         | 69          |  0.1428571  |  0.04304429 | 2017        | 2017        | Aug         | Aug         | 2017-08-01  | \n",
       "| 896 | 2017-10-19  | 2017-10-20  |  896        | Galaxy      | Ford        | 220         | 60          |  0.1428571  |  0.03896104 | 2017        | 2017        | Oct         | Oct         | 2017-10-01  | \n",
       "| 904 | 2018-01-15  | 2018-01-16  |  904        | Insight     | Honda       | 216         | 56          |  0.1428571  |  0.03703704 | 2018        | 2018        | Jan         | Jan         | 2018-01-01  | \n",
       "| 927 | 2018-02-20  | 2018-02-21  |  927        | Galaxy      | Ford        | 221         | 61          |  0.1428571  |  0.03943116 | 2018        | 2018        | Feb         | Feb         | 2018-02-01  | \n",
       "| 950 | 2017-05-24  | 2017-05-25  |  950        | Prius       | Toyota      | 225         | 65          |  0.1428571  |  0.04126984 | 2017        | 2017        | May         | May         | 2017-05-01  | \n",
       "| 968 | 2017-10-30  | 2017-10-31  |  968        | Prius       | Toyota      | 231         | 71          |  0.1428571  |  0.04390847 | 2017        | 2017        | Oct         | Oct         | 2017-10-01  | \n",
       "| ... | ... | ... | ... | ... | ... | ... | ... | ... | ... | ... | ... | ... | ... | ... | \n",
       "| 4920 | 2018-01-04    | 2018-06-21    | 4920          | XfSeries      | Jaguar        | 221           | 61            | 24.00000      |  6.624434     | 2018          | 2018          | Jan           | Jun           | 2018-01-01    | \n",
       "| 4951 | 2018-03-28    | 2018-09-12    | 4951          | PriusNewShape | Toyota        | 212           | 52            | 24.00000      |  5.886792     | 2018          | 2018          | Mar           | Sep           | 2018-03-01    | \n",
       "| 4973 | 2018-04-13    | 2018-09-28    | 4973          | Prius         | Toyota        | 228           | 68            | 24.00000      |  7.157895     | 2018          | 2018          | Apr           | Sep           | 2018-04-01    | \n",
       "| 2895 | 2017-02-06    | 2017-07-31    | 2895          | PriusPlus     | Toyota        | 231           | 71            | 25.00000      |  7.683983     | 2017          | 2017          | Feb           | Jul           | 2017-02-01    | \n",
       "| 1244 | 2018-03-23    | 2018-09-21    | 1244          | PriusNewShape | Toyota        | 221           | 61            | 26.00000      |  7.176471     | 2018          | 2018          | Mar           | Sep           | 2018-03-01    | \n",
       "| 3089 | 2018-04-23    | 2018-10-22    | 3089          | AurisEstate   | Toyota        | 222           | 62            | 26.00000      |  7.261261     | 2018          | 2018          | Apr           | Oct           | 2018-04-01    | \n",
       "| 3760 | 2017-02-15    | 2017-08-16    | 3760          | Prius         | Toyota        | 216           | 56            | 26.00000      |  6.740741     | 2017          | 2017          | Feb           | Aug           | 2017-02-01    | \n",
       "| 4712 | 2017-10-10    | 2018-04-10    | 4712          | Prius         | Toyota        | 210           | 50            | 26.00000      |  6.190476     | 2017          | 2018          | Oct           | Apr           | 2017-10-01    | \n",
       "| 4991 | 2017-02-20    | 2017-08-21    | 4991          | Prius         | Toyota        | 221           | 61            | 26.00000      |  7.176471     | 2017          | 2017          | Feb           | Aug           | 2017-02-01    | \n",
       "| 2199 | 2018-01-18    | 2018-07-20    | 2199          | Viano         | Mercedes      | 220           | 60            | 26.14286      |  7.129870     | 2018          | 2018          | Jan           | Jul           | 2018-01-01    | \n",
       "| 2390 | 2018-02-08    | 2018-08-10    | 2390          | AurisEstate   | Toyota        | 210           | 50            | 26.14286      |  6.224490     | 2018          | 2018          | Feb           | Aug           | 2018-02-01    | \n",
       "| 3079 | 2018-03-12    | 2018-09-11    | 3079          | Insight       | Honda         | 211           | 51            | 26.14286      |  6.318890     | 2018          | 2018          | Mar           | Sep           | 2018-03-01    | \n",
       "| 971 | 2017-01-09    | 2017-07-17    |  971          | Prius         | Toyota        | 217           | 57            | 27.00000      |  7.092166     | 2017          | 2017          | Jan           | Jul           | 2017-01-01    | \n",
       "| 3227 | 2017-02-17    | 2017-08-25    | 3227          | PriusPlus     | Toyota        | 225           | 65            | 27.00000      |  7.800000     | 2017          | 2017          | Feb           | Aug           | 2017-02-01    | \n",
       "| 3951 | 2017-09-08    | 2018-04-03    | 3951          | Prius         | Toyota        | 203           | 43            | 29.57143      |  6.263899     | 2017          | 2018          | Sep           | Apr           | 2017-09-01    | \n",
       "| 1103 | 2017-01-26    | 2017-08-24    | 1103          | PriusNewShape | Toyota        | 224           | 64            | 30.00000      |  8.571429     | 2017          | 2017          | Jan           | Aug           | 2017-01-01    | \n",
       "| 1342 | 2017-01-24    | 2017-08-22    | 1342          | Octavia       | Skoda         | 222           | 62            | 30.00000      |  8.378378     | 2017          | 2017          | Jan           | Aug           | 2017-01-01    | \n",
       "| 2129 | 2017-08-25    | 2018-03-23    | 2129          | Prius         | Toyota        | 223           | 63            | 30.00000      |  8.475336     | 2017          | 2018          | Aug           | Mar           | 2017-08-01    | \n",
       "| 1454 | 2017-01-13    | 2017-08-18    | 1454          | Prius         | Toyota        | 218           | 58            | 31.00000      |  8.247706     | 2017          | 2017          | Jan           | Aug           | 2017-01-01    | \n",
       "| 3898 | 2017-08-21    | 2018-03-26    | 3898          | Prius         | Toyota        | 226           | 66            | 31.00000      |  9.053097     | 2017          | 2018          | Aug           | Mar           | 2017-08-01    | \n",
       "| 1636 | 2017-08-25    | 2018-04-05    | 1636          | CC            | Volkswagen    | 205           | 45            | 31.85714      |  6.993031     | 2017          | 2018          | Aug           | Apr           | 2017-08-01    | \n",
       "| 773 | 2017-01-09    | 2017-08-21    |  773          | Prius         | Toyota        | 221           | 61            | 32.00000      |  8.832579     | 2017          | 2017          | Jan           | Aug           | 2017-01-01    | \n",
       "| 433 | 2017-11-16    | 2018-10-16    |  433          | Prius         | Toyota        | 216           | 56            | 47.71429      | 12.370370     | 2017          | 2018          | Nov           | Oct           | 2017-11-01    | \n",
       "| 1392 | 2017-11-08    | 2018-10-24    | 1392          | Auris         | Toyota        | 224           | 64            | 50.00000      | 14.285714     | 2017          | 2018          | Nov           | Oct           | 2017-11-01    | \n",
       "| 970 | 2018-04-06    | 2019-03-25    |  970          | Auris         | Toyota        | 225           | 65            | 50.42857      | 14.568254     | 2018          | 2019          | Apr           | Mar           | 2018-04-01    | \n",
       "| 441 | 2018-02-28    | 2019-02-27    |  441          | Galaxy        | Ford          | 227           | 67            | 52.00000      | 15.348018     | 2018          | 2019          | Feb           | Feb           | 2018-02-01    | \n",
       "| 3327 | 2018-04-02    | 2019-04-01    | 3327          | SClass        | MercedesBenz  | 201           | 41            | 52.00000      | 10.606965     | 2018          | 2019          | Apr           | Apr           | 2018-04-01    | \n",
       "| 3600 | 2018-04-03    | 2019-04-02    | 3600          | PriusNewShape | Toyota        | 202           | 42            | 52.00000      | 10.811881     | 2018          | 2019          | Apr           | Apr           | 2018-04-01    | \n",
       "| 4249 | 2018-03-23    | 2019-03-22    | 4249          | AurisEstate   | Toyota        | 222           | 62            | 52.00000      | 14.522523     | 2018          | 2019          | Mar           | Mar           | 2018-03-01    | \n",
       "| 4992 | 2018-03-23    | 2019-03-22    | 4992          | SClass        | Mercedes      | 222           | 62            | 52.00000      | 14.522523     | 2018          | 2019          | Mar           | Mar           | 2018-03-01    | \n",
       "\n",
       "\n"
      ],
      "text/plain": [
       "     start_time end_time   vehicle_id vehicle_model vehicle_make weekly_gmv\n",
       "2629 2017-09-27 2017-08-08 2629       Prius         Toyota       208       \n",
       "1217 2017-11-14 2017-11-14 1217       Sharan        Volkswagen   214       \n",
       "1706 2017-06-26 2017-06-26 1706       Prius         Toyota       226       \n",
       "4490 2018-01-02 2018-01-02 4490       XfSeries      Jaguar       202       \n",
       "24   2018-02-07 2018-02-08   24       AurisEstate   Toyota       208       \n",
       "90   2017-12-21 2017-12-22   90       Prius         Toyota       222       \n",
       "105  2018-01-30 2018-01-31  105       XfSeries      Jaguar       231       \n",
       "163  2017-08-15 2017-08-16  163       Prius         Toyota       216       \n",
       "356  2017-06-28 2017-06-29  356       Prius         Toyota       229       \n",
       "363  2017-05-24 2017-05-25  363       XeType        Jaguar       225       \n",
       "381  2017-09-28 2017-09-29  381       AurisEstate   Toyota       229       \n",
       "414  2017-09-21 2017-09-22  414       Mondeo        Ford         222       \n",
       "454  2017-12-13 2017-12-14  454       Galaxy        Ford         214       \n",
       "456  2018-01-22 2018-01-23  456       Galaxy        Ford         223       \n",
       "474  2017-10-24 2017-10-25  474       Galaxy        Ford         225       \n",
       "484  2017-12-21 2017-12-22  484       Galaxy        Ford         222       \n",
       "570  2017-09-04 2017-09-05  570       E6            BYD          205       \n",
       "582  2018-03-22 2018-03-23  582       EClass        Mercedes     223       \n",
       "711  2018-01-29 2018-01-30  711       Auris         Toyota       230       \n",
       "737  2018-03-15 2018-03-16  737       Galaxy        Ford         216       \n",
       "754  2017-02-23 2017-02-24  754       Galaxy        Ford         224       \n",
       "767  2017-09-07 2017-09-08  767       SClass        Mercedes     208       \n",
       "793  2017-06-12 2017-06-13  793       Prius         Toyota       213       \n",
       "836  2017-01-05 2017-01-06  836       Prius         Toyota       206       \n",
       "871  2017-08-28 2017-08-29  871       Prius         Toyota       229       \n",
       "896  2017-10-19 2017-10-20  896       Galaxy        Ford         220       \n",
       "904  2018-01-15 2018-01-16  904       Insight       Honda        216       \n",
       "927  2018-02-20 2018-02-21  927       Galaxy        Ford         221       \n",
       "950  2017-05-24 2017-05-25  950       Prius         Toyota       225       \n",
       "968  2017-10-30 2017-10-31  968       Prius         Toyota       231       \n",
       "...  ...        ...        ...        ...           ...          ...       \n",
       "4920 2018-01-04 2018-06-21 4920       XfSeries      Jaguar       221       \n",
       "4951 2018-03-28 2018-09-12 4951       PriusNewShape Toyota       212       \n",
       "4973 2018-04-13 2018-09-28 4973       Prius         Toyota       228       \n",
       "2895 2017-02-06 2017-07-31 2895       PriusPlus     Toyota       231       \n",
       "1244 2018-03-23 2018-09-21 1244       PriusNewShape Toyota       221       \n",
       "3089 2018-04-23 2018-10-22 3089       AurisEstate   Toyota       222       \n",
       "3760 2017-02-15 2017-08-16 3760       Prius         Toyota       216       \n",
       "4712 2017-10-10 2018-04-10 4712       Prius         Toyota       210       \n",
       "4991 2017-02-20 2017-08-21 4991       Prius         Toyota       221       \n",
       "2199 2018-01-18 2018-07-20 2199       Viano         Mercedes     220       \n",
       "2390 2018-02-08 2018-08-10 2390       AurisEstate   Toyota       210       \n",
       "3079 2018-03-12 2018-09-11 3079       Insight       Honda        211       \n",
       "971  2017-01-09 2017-07-17  971       Prius         Toyota       217       \n",
       "3227 2017-02-17 2017-08-25 3227       PriusPlus     Toyota       225       \n",
       "3951 2017-09-08 2018-04-03 3951       Prius         Toyota       203       \n",
       "1103 2017-01-26 2017-08-24 1103       PriusNewShape Toyota       224       \n",
       "1342 2017-01-24 2017-08-22 1342       Octavia       Skoda        222       \n",
       "2129 2017-08-25 2018-03-23 2129       Prius         Toyota       223       \n",
       "1454 2017-01-13 2017-08-18 1454       Prius         Toyota       218       \n",
       "3898 2017-08-21 2018-03-26 3898       Prius         Toyota       226       \n",
       "1636 2017-08-25 2018-04-05 1636       CC            Volkswagen   205       \n",
       "773  2017-01-09 2017-08-21  773       Prius         Toyota       221       \n",
       "433  2017-11-16 2018-10-16  433       Prius         Toyota       216       \n",
       "1392 2017-11-08 2018-10-24 1392       Auris         Toyota       224       \n",
       "970  2018-04-06 2019-03-25  970       Auris         Toyota       225       \n",
       "441  2018-02-28 2019-02-27  441       Galaxy        Ford         227       \n",
       "3327 2018-04-02 2019-04-01 3327       SClass        MercedesBenz 201       \n",
       "3600 2018-04-03 2019-04-02 3600       PriusNewShape Toyota       202       \n",
       "4249 2018-03-23 2019-03-22 4249       AurisEstate   Toyota       222       \n",
       "4992 2018-03-23 2019-03-22 4992       SClass        Mercedes     222       \n",
       "     weekly_commission no_weeks   total_commission start_year end_year\n",
       "2629 48                -7.1428571 -1.64835165      2017       2017    \n",
       "1217 54                 0.0000000  0.00000000      2017       2017    \n",
       "1706 66                 0.0000000  0.00000000      2017       2017    \n",
       "4490 42                 0.0000000  0.00000000      2018       2018    \n",
       "24   48                 0.1428571  0.03296703      2018       2018    \n",
       "90   62                 0.1428571  0.03989704      2017       2017    \n",
       "105  71                 0.1428571  0.04390847      2018       2018    \n",
       "163  56                 0.1428571  0.03703704      2017       2017    \n",
       "356  69                 0.1428571  0.04304429      2017       2017    \n",
       "363  65                 0.1428571  0.04126984      2017       2017    \n",
       "381  69                 0.1428571  0.04304429      2017       2017    \n",
       "414  62                 0.1428571  0.03989704      2017       2017    \n",
       "454  54                 0.1428571  0.03604806      2017       2017    \n",
       "456  63                 0.1428571  0.04035874      2018       2018    \n",
       "474  65                 0.1428571  0.04126984      2017       2017    \n",
       "484  62                 0.1428571  0.03989704      2017       2017    \n",
       "570  45                 0.1428571  0.03135889      2017       2017    \n",
       "582  63                 0.1428571  0.04035874      2018       2018    \n",
       "711  70                 0.1428571  0.04347826      2018       2018    \n",
       "737  56                 0.1428571  0.03703704      2018       2018    \n",
       "754  64                 0.1428571  0.04081633      2017       2017    \n",
       "767  48                 0.1428571  0.03296703      2017       2017    \n",
       "793  53                 0.1428571  0.03554661      2017       2017    \n",
       "836  46                 0.1428571  0.03190014      2017       2017    \n",
       "871  69                 0.1428571  0.04304429      2017       2017    \n",
       "896  60                 0.1428571  0.03896104      2017       2017    \n",
       "904  56                 0.1428571  0.03703704      2018       2018    \n",
       "927  61                 0.1428571  0.03943116      2018       2018    \n",
       "950  65                 0.1428571  0.04126984      2017       2017    \n",
       "968  71                 0.1428571  0.04390847      2017       2017    \n",
       "...  ...               ...        ...              ...        ...     \n",
       "4920 61                24.00000    6.624434        2018       2018    \n",
       "4951 52                24.00000    5.886792        2018       2018    \n",
       "4973 68                24.00000    7.157895        2018       2018    \n",
       "2895 71                25.00000    7.683983        2017       2017    \n",
       "1244 61                26.00000    7.176471        2018       2018    \n",
       "3089 62                26.00000    7.261261        2018       2018    \n",
       "3760 56                26.00000    6.740741        2017       2017    \n",
       "4712 50                26.00000    6.190476        2017       2018    \n",
       "4991 61                26.00000    7.176471        2017       2017    \n",
       "2199 60                26.14286    7.129870        2018       2018    \n",
       "2390 50                26.14286    6.224490        2018       2018    \n",
       "3079 51                26.14286    6.318890        2018       2018    \n",
       "971  57                27.00000    7.092166        2017       2017    \n",
       "3227 65                27.00000    7.800000        2017       2017    \n",
       "3951 43                29.57143    6.263899        2017       2018    \n",
       "1103 64                30.00000    8.571429        2017       2017    \n",
       "1342 62                30.00000    8.378378        2017       2017    \n",
       "2129 63                30.00000    8.475336        2017       2018    \n",
       "1454 58                31.00000    8.247706        2017       2017    \n",
       "3898 66                31.00000    9.053097        2017       2018    \n",
       "1636 45                31.85714    6.993031        2017       2018    \n",
       "773  61                32.00000    8.832579        2017       2017    \n",
       "433  56                47.71429   12.370370        2017       2018    \n",
       "1392 64                50.00000   14.285714        2017       2018    \n",
       "970  65                50.42857   14.568254        2018       2019    \n",
       "441  67                52.00000   15.348018        2018       2019    \n",
       "3327 41                52.00000   10.606965        2018       2019    \n",
       "3600 42                52.00000   10.811881        2018       2019    \n",
       "4249 62                52.00000   14.522523        2018       2019    \n",
       "4992 62                52.00000   14.522523        2018       2019    \n",
       "     start_month end_month date      \n",
       "2629 Sep         Aug       2017-09-01\n",
       "1217 Nov         Nov       2017-11-01\n",
       "1706 Jun         Jun       2017-06-01\n",
       "4490 Jan         Jan       2018-01-01\n",
       "24   Feb         Feb       2018-02-01\n",
       "90   Dec         Dec       2017-12-01\n",
       "105  Jan         Jan       2018-01-01\n",
       "163  Aug         Aug       2017-08-01\n",
       "356  Jun         Jun       2017-06-01\n",
       "363  May         May       2017-05-01\n",
       "381  Sep         Sep       2017-09-01\n",
       "414  Sep         Sep       2017-09-01\n",
       "454  Dec         Dec       2017-12-01\n",
       "456  Jan         Jan       2018-01-01\n",
       "474  Oct         Oct       2017-10-01\n",
       "484  Dec         Dec       2017-12-01\n",
       "570  Sep         Sep       2017-09-01\n",
       "582  Mar         Mar       2018-03-01\n",
       "711  Jan         Jan       2018-01-01\n",
       "737  Mar         Mar       2018-03-01\n",
       "754  Feb         Feb       2017-02-01\n",
       "767  Sep         Sep       2017-09-01\n",
       "793  Jun         Jun       2017-06-01\n",
       "836  Jan         Jan       2017-01-01\n",
       "871  Aug         Aug       2017-08-01\n",
       "896  Oct         Oct       2017-10-01\n",
       "904  Jan         Jan       2018-01-01\n",
       "927  Feb         Feb       2018-02-01\n",
       "950  May         May       2017-05-01\n",
       "968  Oct         Oct       2017-10-01\n",
       "...  ...         ...       ...       \n",
       "4920 Jan         Jun       2018-01-01\n",
       "4951 Mar         Sep       2018-03-01\n",
       "4973 Apr         Sep       2018-04-01\n",
       "2895 Feb         Jul       2017-02-01\n",
       "1244 Mar         Sep       2018-03-01\n",
       "3089 Apr         Oct       2018-04-01\n",
       "3760 Feb         Aug       2017-02-01\n",
       "4712 Oct         Apr       2017-10-01\n",
       "4991 Feb         Aug       2017-02-01\n",
       "2199 Jan         Jul       2018-01-01\n",
       "2390 Feb         Aug       2018-02-01\n",
       "3079 Mar         Sep       2018-03-01\n",
       "971  Jan         Jul       2017-01-01\n",
       "3227 Feb         Aug       2017-02-01\n",
       "3951 Sep         Apr       2017-09-01\n",
       "1103 Jan         Aug       2017-01-01\n",
       "1342 Jan         Aug       2017-01-01\n",
       "2129 Aug         Mar       2017-08-01\n",
       "1454 Jan         Aug       2017-01-01\n",
       "3898 Aug         Mar       2017-08-01\n",
       "1636 Aug         Apr       2017-08-01\n",
       "773  Jan         Aug       2017-01-01\n",
       "433  Nov         Oct       2017-11-01\n",
       "1392 Nov         Oct       2017-11-01\n",
       "970  Apr         Mar       2018-04-01\n",
       "441  Feb         Feb       2018-02-01\n",
       "3327 Apr         Apr       2018-04-01\n",
       "3600 Apr         Apr       2018-04-01\n",
       "4249 Mar         Mar       2018-03-01\n",
       "4992 Mar         Mar       2018-03-01"
      ]
     },
     "metadata": {},
     "output_type": "display_data"
    }
   ],
   "source": [
    "# For record no. 2629, the end_time < start_time - probably an error in the data.\n",
    "bookings[order(bookings$no_weeks),] "
   ]
  },
  {
   "cell_type": "code",
   "execution_count": 1094,
   "metadata": {},
   "outputs": [
    {
     "data": {},
     "metadata": {},
     "output_type": "display_data"
    },
    {
     "data": {
      "image/png": "[encoded data removed]",
      "text/plain": [
       "plot without title"
      ]
     },
     "metadata": {},
     "output_type": "display_data"
    }
   ],
   "source": [
    "# Looking at distribution of duration of bookings for all individual models \n",
    "\n",
    "# To see which model is expected to be booked for the longest duration, the distribution of the duration data was investigated i.e. the number of weeks. Using a boxplot to compare all the data, it can be clearly seen that mean values are not the best statistic to measure the average duration given the number of outliers in the data. Mean values are marked by the red diamonds in the figure below. Median values appear to be provide a better representation of the data. Peugeot 508 appears to be the vehicle model that will be booked for the longest duration on average.\n",
    "# given median and variance.\n",
    "#Negative number of weeks value indicated previously to be an error in the dataset. \n",
    "# Prius has highest number of outliers but also the dominant model, so perhaps to be expected.\n",
    "p <- ggplot(bookings, aes_string(x=\"vehicle_model\", y=\"no_weeks\"))+ \n",
    "  geom_boxplot()\n",
    "p + theme(plot.title = element_text(color=\"black\", size=14, hjust=0.5,face=\"bold\"),\n",
    "          panel.grid.major = element_blank(), panel.grid.minor = element_blank(),\n",
    "          panel.background = element_blank(),\n",
    "          axis.line = element_line(colour = \"black\"),\n",
    "         axis.text.x = element_text(angle = 90, hjust = 0))  + ggtitle(\"Boxplot showing distribution of data for Vehicle Models\")  + stat_summary(fun.y=mean, geom=\"point\", shape=23, size=4,color=\"red\")"
   ]
  },
  {
   "cell_type": "code",
   "execution_count": 1075,
   "metadata": {},
   "outputs": [],
   "source": [
    "# Summaries bookings data using median number of weeks and frequency of bookings for each vehicle model and make \n",
    "df2 <- bookings %>% \n",
    "  group_by(vehicle_model, vehicle_make) %>%\n",
    "  summarise(Frequency = n(), avg_weeks = median(no_weeks))"
   ]
  },
  {
   "cell_type": "code",
   "execution_count": 1076,
   "metadata": {
    "scrolled": true
   },
   "outputs": [
    {
     "data": {
      "text/html": [
       "<table>\n",
       "<thead><tr><th scope=col>vehicle_model</th><th scope=col>vehicle_make</th><th scope=col>Frequency</th><th scope=col>avg_weeks</th></tr></thead>\n",
       "<tbody>\n",
       "\t<tr><td>SClass       </td><td>MercedesBenz </td><td>   2         </td><td>27.500000    </td></tr>\n",
       "\t<tr><td>Q3           </td><td>Audi         </td><td>   1         </td><td>12.000000    </td></tr>\n",
       "\t<tr><td>Berlingo     </td><td>Citroen      </td><td>   1         </td><td> 9.571429    </td></tr>\n",
       "\t<tr><td>508          </td><td>Peugeot      </td><td>   6         </td><td> 9.428571    </td></tr>\n",
       "\t<tr><td>Rapid        </td><td>Skoda        </td><td>  30         </td><td> 8.000000    </td></tr>\n",
       "\t<tr><td>Astra        </td><td>Vauxhall     </td><td>  16         </td><td> 6.214286    </td></tr>\n",
       "\t<tr><td>Exeo         </td><td>Seat         </td><td>   4         </td><td> 6.000000    </td></tr>\n",
       "\t<tr><td>5008         </td><td>Peugeot      </td><td>   1         </td><td> 5.857143    </td></tr>\n",
       "\t<tr><td>IoniqHybrid  </td><td>Hyundai      </td><td>  18         </td><td> 4.500000    </td></tr>\n",
       "\t<tr><td>Prius        </td><td>Toyota       </td><td>2116         </td><td> 4.000000    </td></tr>\n",
       "\t<tr><td>PriusNewShape</td><td>Toyota       </td><td> 352         </td><td> 4.000000    </td></tr>\n",
       "\t<tr><td>AurisEstate  </td><td>Toyota       </td><td> 211         </td><td> 4.000000    </td></tr>\n",
       "\t<tr><td>Auris        </td><td>Toyota       </td><td> 151         </td><td> 4.000000    </td></tr>\n",
       "\t<tr><td>XfSeries     </td><td>Jaguar       </td><td>  94         </td><td> 4.000000    </td></tr>\n",
       "\t<tr><td>Passat       </td><td>Volkswagen   </td><td>  82         </td><td> 4.000000    </td></tr>\n",
       "\t<tr><td>Mondeo       </td><td>Ford         </td><td>  71         </td><td> 4.000000    </td></tr>\n",
       "\t<tr><td>Alhambra     </td><td>Seat         </td><td>  69         </td><td> 4.000000    </td></tr>\n",
       "\t<tr><td>PriusPlus    </td><td>Toyota       </td><td>  62         </td><td> 4.000000    </td></tr>\n",
       "\t<tr><td>Superb       </td><td>Skoda        </td><td>  44         </td><td> 4.000000    </td></tr>\n",
       "\t<tr><td>Kodiaq       </td><td>Skoda        </td><td>  11         </td><td> 4.000000    </td></tr>\n",
       "\t<tr><td>Toledo       </td><td>Seat         </td><td>   7         </td><td> 4.000000    </td></tr>\n",
       "\t<tr><td>VClass       </td><td>Mercedes     </td><td>   4         </td><td> 4.000000    </td></tr>\n",
       "\t<tr><td>Avensis      </td><td>Toyota       </td><td>   3         </td><td> 4.000000    </td></tr>\n",
       "\t<tr><td>I40          </td><td>Hyundai      </td><td>   3         </td><td> 4.000000    </td></tr>\n",
       "\t<tr><td>SMax         </td><td>Ford         </td><td>   3         </td><td> 4.000000    </td></tr>\n",
       "\t<tr><td>Yeti         </td><td>Skoda        </td><td>   3         </td><td> 4.000000    </td></tr>\n",
       "\t<tr><td>E6           </td><td>BYD          </td><td>  38         </td><td> 3.785714    </td></tr>\n",
       "\t<tr><td>Octavia      </td><td>Skoda        </td><td> 127         </td><td> 3.714286    </td></tr>\n",
       "\t<tr><td>GS300H       </td><td>Volkswagen   </td><td>   8         </td><td> 3.571429    </td></tr>\n",
       "\t<tr><td>Qashqai      </td><td>Nissan       </td><td>   5         </td><td> 3.571429    </td></tr>\n",
       "\t<tr><td>...</td><td>...</td><td>...</td><td>...</td></tr>\n",
       "\t<tr><td>5Series       </td><td>BMW           </td><td>  1           </td><td>3.0000000     </td></tr>\n",
       "\t<tr><td>Galaxy        </td><td>Ford          </td><td>397           </td><td>2.8571429     </td></tr>\n",
       "\t<tr><td>Insignia      </td><td>Vauxhall      </td><td>139           </td><td>2.7142857     </td></tr>\n",
       "\t<tr><td>A4            </td><td>Audi          </td><td>  6           </td><td>2.6428571     </td></tr>\n",
       "\t<tr><td>GS300H        </td><td>Lexus         </td><td>  4           </td><td>2.5000000     </td></tr>\n",
       "\t<tr><td>ZafiraExclusiv</td><td>Vauxhall      </td><td>  2           </td><td>2.5000000     </td></tr>\n",
       "\t<tr><td>Jetta         </td><td>Volkswagen    </td><td>  9           </td><td>2.2857143     </td></tr>\n",
       "\t<tr><td>Insight       </td><td>Honda         </td><td>198           </td><td>2.0000000     </td></tr>\n",
       "\t<tr><td>CClass        </td><td>Mercedes      </td><td> 55           </td><td>2.0000000     </td></tr>\n",
       "\t<tr><td>C4GrandPicasso</td><td>Citroen       </td><td> 44           </td><td>2.0000000     </td></tr>\n",
       "\t<tr><td>Caddy         </td><td>Volkswagen    </td><td> 25           </td><td>2.0000000     </td></tr>\n",
       "\t<tr><td>SClass        </td><td>Mercedes      </td><td> 14           </td><td>2.0000000     </td></tr>\n",
       "\t<tr><td>Golf          </td><td>Volkswagen    </td><td>  4           </td><td>2.0000000     </td></tr>\n",
       "\t<tr><td>Is300         </td><td>Lexus         </td><td>  3           </td><td>2.0000000     </td></tr>\n",
       "\t<tr><td>Leaf          </td><td>Nissan        </td><td>  3           </td><td>2.0000000     </td></tr>\n",
       "\t<tr><td>Partner       </td><td>Peugeot       </td><td>  3           </td><td>2.0000000     </td></tr>\n",
       "\t<tr><td>Scenic        </td><td>Renault       </td><td>  3           </td><td>2.0000000     </td></tr>\n",
       "\t<tr><td>2Series       </td><td>BMW           </td><td>  6           </td><td>1.2142857     </td></tr>\n",
       "\t<tr><td>Zafira        </td><td>Vauxhall      </td><td> 49           </td><td>1.0000000     </td></tr>\n",
       "\t<tr><td>Transporter   </td><td>Volkswagen    </td><td>  8           </td><td>1.0000000     </td></tr>\n",
       "\t<tr><td>XeType        </td><td>Jaguar        </td><td>  5           </td><td>1.0000000     </td></tr>\n",
       "\t<tr><td>3Series       </td><td>BMW           </td><td>  3           </td><td>1.0000000     </td></tr>\n",
       "\t<tr><td>Laguna        </td><td>Renault       </td><td>  3           </td><td>1.0000000     </td></tr>\n",
       "\t<tr><td>ModelS        </td><td>Tesla         </td><td>  3           </td><td>1.0000000     </td></tr>\n",
       "\t<tr><td>CMax          </td><td>Ford          </td><td>  2           </td><td>0.9285714     </td></tr>\n",
       "\t<tr><td>RangeRover    </td><td>LandRover     </td><td>  1           </td><td>0.8571429     </td></tr>\n",
       "\t<tr><td>Viano         </td><td>Mercedes      </td><td>  3           </td><td>0.7142857     </td></tr>\n",
       "\t<tr><td>Focus         </td><td>Ford          </td><td>  1           </td><td>0.7142857     </td></tr>\n",
       "\t<tr><td>Transit       </td><td>Ford          </td><td>  3           </td><td>0.4285714     </td></tr>\n",
       "\t<tr><td>A8            </td><td>Audi          </td><td>  1           </td><td>0.1428571     </td></tr>\n",
       "</tbody>\n",
       "</table>\n"
      ],
      "text/latex": [
       "\\begin{tabular}{r|llll}\n",
       " vehicle\\_model & vehicle\\_make & Frequency & avg\\_weeks\\\\\n",
       "\\hline\n",
       "\t SClass        & MercedesBenz  &    2          & 27.500000    \\\\\n",
       "\t Q3            & Audi          &    1          & 12.000000    \\\\\n",
       "\t Berlingo      & Citroen       &    1          &  9.571429    \\\\\n",
       "\t 508           & Peugeot       &    6          &  9.428571    \\\\\n",
       "\t Rapid         & Skoda         &   30          &  8.000000    \\\\\n",
       "\t Astra         & Vauxhall      &   16          &  6.214286    \\\\\n",
       "\t Exeo          & Seat          &    4          &  6.000000    \\\\\n",
       "\t 5008          & Peugeot       &    1          &  5.857143    \\\\\n",
       "\t IoniqHybrid   & Hyundai       &   18          &  4.500000    \\\\\n",
       "\t Prius         & Toyota        & 2116          &  4.000000    \\\\\n",
       "\t PriusNewShape & Toyota        &  352          &  4.000000    \\\\\n",
       "\t AurisEstate   & Toyota        &  211          &  4.000000    \\\\\n",
       "\t Auris         & Toyota        &  151          &  4.000000    \\\\\n",
       "\t XfSeries      & Jaguar        &   94          &  4.000000    \\\\\n",
       "\t Passat        & Volkswagen    &   82          &  4.000000    \\\\\n",
       "\t Mondeo        & Ford          &   71          &  4.000000    \\\\\n",
       "\t Alhambra      & Seat          &   69          &  4.000000    \\\\\n",
       "\t PriusPlus     & Toyota        &   62          &  4.000000    \\\\\n",
       "\t Superb        & Skoda         &   44          &  4.000000    \\\\\n",
       "\t Kodiaq        & Skoda         &   11          &  4.000000    \\\\\n",
       "\t Toledo        & Seat          &    7          &  4.000000    \\\\\n",
       "\t VClass        & Mercedes      &    4          &  4.000000    \\\\\n",
       "\t Avensis       & Toyota        &    3          &  4.000000    \\\\\n",
       "\t I40           & Hyundai       &    3          &  4.000000    \\\\\n",
       "\t SMax          & Ford          &    3          &  4.000000    \\\\\n",
       "\t Yeti          & Skoda         &    3          &  4.000000    \\\\\n",
       "\t E6            & BYD           &   38          &  3.785714    \\\\\n",
       "\t Octavia       & Skoda         &  127          &  3.714286    \\\\\n",
       "\t GS300H        & Volkswagen    &    8          &  3.571429    \\\\\n",
       "\t Qashqai       & Nissan        &    5          &  3.571429    \\\\\n",
       "\t ... & ... & ... & ...\\\\\n",
       "\t 5Series        & BMW            &   1            & 3.0000000     \\\\\n",
       "\t Galaxy         & Ford           & 397            & 2.8571429     \\\\\n",
       "\t Insignia       & Vauxhall       & 139            & 2.7142857     \\\\\n",
       "\t A4             & Audi           &   6            & 2.6428571     \\\\\n",
       "\t GS300H         & Lexus          &   4            & 2.5000000     \\\\\n",
       "\t ZafiraExclusiv & Vauxhall       &   2            & 2.5000000     \\\\\n",
       "\t Jetta          & Volkswagen     &   9            & 2.2857143     \\\\\n",
       "\t Insight        & Honda          & 198            & 2.0000000     \\\\\n",
       "\t CClass         & Mercedes       &  55            & 2.0000000     \\\\\n",
       "\t C4GrandPicasso & Citroen        &  44            & 2.0000000     \\\\\n",
       "\t Caddy          & Volkswagen     &  25            & 2.0000000     \\\\\n",
       "\t SClass         & Mercedes       &  14            & 2.0000000     \\\\\n",
       "\t Golf           & Volkswagen     &   4            & 2.0000000     \\\\\n",
       "\t Is300          & Lexus          &   3            & 2.0000000     \\\\\n",
       "\t Leaf           & Nissan         &   3            & 2.0000000     \\\\\n",
       "\t Partner        & Peugeot        &   3            & 2.0000000     \\\\\n",
       "\t Scenic         & Renault        &   3            & 2.0000000     \\\\\n",
       "\t 2Series        & BMW            &   6            & 1.2142857     \\\\\n",
       "\t Zafira         & Vauxhall       &  49            & 1.0000000     \\\\\n",
       "\t Transporter    & Volkswagen     &   8            & 1.0000000     \\\\\n",
       "\t XeType         & Jaguar         &   5            & 1.0000000     \\\\\n",
       "\t 3Series        & BMW            &   3            & 1.0000000     \\\\\n",
       "\t Laguna         & Renault        &   3            & 1.0000000     \\\\\n",
       "\t ModelS         & Tesla          &   3            & 1.0000000     \\\\\n",
       "\t CMax           & Ford           &   2            & 0.9285714     \\\\\n",
       "\t RangeRover     & LandRover      &   1            & 0.8571429     \\\\\n",
       "\t Viano          & Mercedes       &   3            & 0.7142857     \\\\\n",
       "\t Focus          & Ford           &   1            & 0.7142857     \\\\\n",
       "\t Transit        & Ford           &   3            & 0.4285714     \\\\\n",
       "\t A8             & Audi           &   1            & 0.1428571     \\\\\n",
       "\\end{tabular}\n"
      ],
      "text/markdown": [
       "\n",
       "vehicle_model | vehicle_make | Frequency | avg_weeks | \n",
       "|---|---|---|---|---|---|---|---|---|---|---|---|---|---|---|---|---|---|---|---|---|---|---|---|---|---|---|---|---|---|---|---|---|---|---|---|---|---|---|---|---|---|---|---|---|---|---|---|---|---|---|---|---|---|---|---|---|---|---|---|---|\n",
       "| SClass        | MercedesBenz  |    2          | 27.500000     | \n",
       "| Q3            | Audi          |    1          | 12.000000     | \n",
       "| Berlingo      | Citroen       |    1          |  9.571429     | \n",
       "| 508           | Peugeot       |    6          |  9.428571     | \n",
       "| Rapid         | Skoda         |   30          |  8.000000     | \n",
       "| Astra         | Vauxhall      |   16          |  6.214286     | \n",
       "| Exeo          | Seat          |    4          |  6.000000     | \n",
       "| 5008          | Peugeot       |    1          |  5.857143     | \n",
       "| IoniqHybrid   | Hyundai       |   18          |  4.500000     | \n",
       "| Prius         | Toyota        | 2116          |  4.000000     | \n",
       "| PriusNewShape | Toyota        |  352          |  4.000000     | \n",
       "| AurisEstate   | Toyota        |  211          |  4.000000     | \n",
       "| Auris         | Toyota        |  151          |  4.000000     | \n",
       "| XfSeries      | Jaguar        |   94          |  4.000000     | \n",
       "| Passat        | Volkswagen    |   82          |  4.000000     | \n",
       "| Mondeo        | Ford          |   71          |  4.000000     | \n",
       "| Alhambra      | Seat          |   69          |  4.000000     | \n",
       "| PriusPlus     | Toyota        |   62          |  4.000000     | \n",
       "| Superb        | Skoda         |   44          |  4.000000     | \n",
       "| Kodiaq        | Skoda         |   11          |  4.000000     | \n",
       "| Toledo        | Seat          |    7          |  4.000000     | \n",
       "| VClass        | Mercedes      |    4          |  4.000000     | \n",
       "| Avensis       | Toyota        |    3          |  4.000000     | \n",
       "| I40           | Hyundai       |    3          |  4.000000     | \n",
       "| SMax          | Ford          |    3          |  4.000000     | \n",
       "| Yeti          | Skoda         |    3          |  4.000000     | \n",
       "| E6            | BYD           |   38          |  3.785714     | \n",
       "| Octavia       | Skoda         |  127          |  3.714286     | \n",
       "| GS300H        | Volkswagen    |    8          |  3.571429     | \n",
       "| Qashqai       | Nissan        |    5          |  3.571429     | \n",
       "| ... | ... | ... | ... | \n",
       "| 5Series        | BMW            |   1            | 3.0000000      | \n",
       "| Galaxy         | Ford           | 397            | 2.8571429      | \n",
       "| Insignia       | Vauxhall       | 139            | 2.7142857      | \n",
       "| A4             | Audi           |   6            | 2.6428571      | \n",
       "| GS300H         | Lexus          |   4            | 2.5000000      | \n",
       "| ZafiraExclusiv | Vauxhall       |   2            | 2.5000000      | \n",
       "| Jetta          | Volkswagen     |   9            | 2.2857143      | \n",
       "| Insight        | Honda          | 198            | 2.0000000      | \n",
       "| CClass         | Mercedes       |  55            | 2.0000000      | \n",
       "| C4GrandPicasso | Citroen        |  44            | 2.0000000      | \n",
       "| Caddy          | Volkswagen     |  25            | 2.0000000      | \n",
       "| SClass         | Mercedes       |  14            | 2.0000000      | \n",
       "| Golf           | Volkswagen     |   4            | 2.0000000      | \n",
       "| Is300          | Lexus          |   3            | 2.0000000      | \n",
       "| Leaf           | Nissan         |   3            | 2.0000000      | \n",
       "| Partner        | Peugeot        |   3            | 2.0000000      | \n",
       "| Scenic         | Renault        |   3            | 2.0000000      | \n",
       "| 2Series        | BMW            |   6            | 1.2142857      | \n",
       "| Zafira         | Vauxhall       |  49            | 1.0000000      | \n",
       "| Transporter    | Volkswagen     |   8            | 1.0000000      | \n",
       "| XeType         | Jaguar         |   5            | 1.0000000      | \n",
       "| 3Series        | BMW            |   3            | 1.0000000      | \n",
       "| Laguna         | Renault        |   3            | 1.0000000      | \n",
       "| ModelS         | Tesla          |   3            | 1.0000000      | \n",
       "| CMax           | Ford           |   2            | 0.9285714      | \n",
       "| RangeRover     | LandRover      |   1            | 0.8571429      | \n",
       "| Viano          | Mercedes       |   3            | 0.7142857      | \n",
       "| Focus          | Ford           |   1            | 0.7142857      | \n",
       "| Transit        | Ford           |   3            | 0.4285714      | \n",
       "| A8             | Audi           |   1            | 0.1428571      | \n",
       "\n",
       "\n"
      ],
      "text/plain": [
       "    vehicle_model  vehicle_make Frequency avg_weeks\n",
       "1   SClass         MercedesBenz    2      27.500000\n",
       "2   Q3             Audi            1      12.000000\n",
       "3   Berlingo       Citroen         1       9.571429\n",
       "4   508            Peugeot         6       9.428571\n",
       "5   Rapid          Skoda          30       8.000000\n",
       "6   Astra          Vauxhall       16       6.214286\n",
       "7   Exeo           Seat            4       6.000000\n",
       "8   5008           Peugeot         1       5.857143\n",
       "9   IoniqHybrid    Hyundai        18       4.500000\n",
       "10  Prius          Toyota       2116       4.000000\n",
       "11  PriusNewShape  Toyota        352       4.000000\n",
       "12  AurisEstate    Toyota        211       4.000000\n",
       "13  Auris          Toyota        151       4.000000\n",
       "14  XfSeries       Jaguar         94       4.000000\n",
       "15  Passat         Volkswagen     82       4.000000\n",
       "16  Mondeo         Ford           71       4.000000\n",
       "17  Alhambra       Seat           69       4.000000\n",
       "18  PriusPlus      Toyota         62       4.000000\n",
       "19  Superb         Skoda          44       4.000000\n",
       "20  Kodiaq         Skoda          11       4.000000\n",
       "21  Toledo         Seat            7       4.000000\n",
       "22  VClass         Mercedes        4       4.000000\n",
       "23  Avensis        Toyota          3       4.000000\n",
       "24  I40            Hyundai         3       4.000000\n",
       "25  SMax           Ford            3       4.000000\n",
       "26  Yeti           Skoda           3       4.000000\n",
       "27  E6             BYD            38       3.785714\n",
       "28  Octavia        Skoda         127       3.714286\n",
       "29  GS300H         Volkswagen      8       3.571429\n",
       "30  Qashqai        Nissan          5       3.571429\n",
       "... ...            ...          ...       ...      \n",
       "41  5Series        BMW            1       3.0000000\n",
       "42  Galaxy         Ford         397       2.8571429\n",
       "43  Insignia       Vauxhall     139       2.7142857\n",
       "44  A4             Audi           6       2.6428571\n",
       "45  GS300H         Lexus          4       2.5000000\n",
       "46  ZafiraExclusiv Vauxhall       2       2.5000000\n",
       "47  Jetta          Volkswagen     9       2.2857143\n",
       "48  Insight        Honda        198       2.0000000\n",
       "49  CClass         Mercedes      55       2.0000000\n",
       "50  C4GrandPicasso Citroen       44       2.0000000\n",
       "51  Caddy          Volkswagen    25       2.0000000\n",
       "52  SClass         Mercedes      14       2.0000000\n",
       "53  Golf           Volkswagen     4       2.0000000\n",
       "54  Is300          Lexus          3       2.0000000\n",
       "55  Leaf           Nissan         3       2.0000000\n",
       "56  Partner        Peugeot        3       2.0000000\n",
       "57  Scenic         Renault        3       2.0000000\n",
       "58  2Series        BMW            6       1.2142857\n",
       "59  Zafira         Vauxhall      49       1.0000000\n",
       "60  Transporter    Volkswagen     8       1.0000000\n",
       "61  XeType         Jaguar         5       1.0000000\n",
       "62  3Series        BMW            3       1.0000000\n",
       "63  Laguna         Renault        3       1.0000000\n",
       "64  ModelS         Tesla          3       1.0000000\n",
       "65  CMax           Ford           2       0.9285714\n",
       "66  RangeRover     LandRover      1       0.8571429\n",
       "67  Viano          Mercedes       3       0.7142857\n",
       "68  Focus          Ford           1       0.7142857\n",
       "69  Transit        Ford           3       0.4285714\n",
       "70  A8             Audi           1       0.1428571"
      ]
     },
     "metadata": {},
     "output_type": "display_data"
    }
   ],
   "source": [
    "# Mercedes Benz S Class on average has the longest duration of bookings however their frequency is low. In terms of \n",
    "#more frequently bought cars, Peugeut 508, Skoda Rapid and Vauxhall Astra can be expected to be booked out for the longest\n",
    "#time. \n",
    "df2[order(-df2$avg_weeks,-df2$Frequency),] "
   ]
  },
  {
   "cell_type": "code",
   "execution_count": 1077,
   "metadata": {},
   "outputs": [],
   "source": [
    "#Fibonnaci Sequence\n",
    "fibonaci <- function(n) {\n",
    "    if (n == 0){\n",
    "         return(0)\n",
    "    } else if (n==1) {\n",
    "         return(1)\n",
    "    } else {\n",
    "         fibonaci(n-1) + fibonaci(n-2)\n",
    "    }\n",
    "}"
   ]
  },
  {
   "cell_type": "code",
   "execution_count": 1078,
   "metadata": {},
   "outputs": [
    {
     "data": {
      "text/html": [
       "610"
      ],
      "text/latex": [
       "610"
      ],
      "text/markdown": [
       "610"
      ],
      "text/plain": [
       "[1] 610"
      ]
     },
     "metadata": {},
     "output_type": "display_data"
    }
   ],
   "source": [
    "fibonaci(15)"
   ]
  },
  {
   "cell_type": "code",
   "execution_count": 1079,
   "metadata": {},
   "outputs": [],
   "source": [
    "#Number of Live Bookings Function - based on completely untouched bookings data \n",
    "live_bookings <- function(date) {\n",
    "    print(date)\n",
    "    bookings$start_time <- as.Date(bookings$start_time, format= \"%d/%m/%Y\")\n",
    "    bookings$end_time <- as.Date(bookings$end_time, format= \"%d/%m/%Y\")\n",
    "    count <- count(subset(bookings, subset = (date >=start_time & date <= end_time)))\n",
    "    print(paste(\"Number of live bookings:\", count))\n",
    "}"
   ]
  },
  {
   "cell_type": "code",
   "execution_count": 1080,
   "metadata": {},
   "outputs": [
    {
     "name": "stdout",
     "output_type": "stream",
     "text": [
      "[1] \"2018/01/12\"\n",
      "[1] \"Number of live bookings: 133\"\n"
     ]
    }
   ],
   "source": [
    "live_bookings(date)"
   ]
  },
  {
   "cell_type": "code",
   "execution_count": 1081,
   "metadata": {},
   "outputs": [],
   "source": [
    "haversine <- function(lat1,lon1, lat2,lon2) {\n",
    "    #Degrees to Radians Conversion\n",
    "    deg2rad <- function(degree) {\n",
    "    return(degree*pi/180)\n",
    "    }\n",
    "    \n",
    "    #Latitude/Longitude Coordinates of London\n",
    "    lat1<- deg2rad(lat1)\n",
    "    lon1 <- deg2rad(lon1)\n",
    "    #Latitude/Longitude Coordinates of Paris\n",
    "    lat2<- deg2rad(lat2)\n",
    "    lon2 <- deg2rad(lon2)\n",
    "    # Earth's Radius in km \n",
    "    earth_radius <- 6371\n",
    "    # Find difference between longitude and latitudes of both points \n",
    "    delta_lat <- lat2-lat1\n",
    "    delta_lon <- lon2-lon1\n",
    "    \n",
    "    a <- sin(delta_lat/2)^2 + cos(lat1)*cos(lat2)*sin(delta_lon/2)^2\n",
    "    c <- 2*atan2(sqrt(a),sqrt(1-a))\n",
    "    d <- earth_radius * c\n",
    "    \n",
    "    print(paste(\"The Distance between the two points is: \", signif(d,3),\"km\", sep=\"\"))\n",
    "}"
   ]
  },
  {
   "cell_type": "code",
   "execution_count": 1082,
   "metadata": {},
   "outputs": [
    {
     "name": "stdout",
     "output_type": "stream",
     "text": [
      "[1] \"The Distance between the two points is: 344km\"\n"
     ]
    }
   ],
   "source": [
    "haversine(51.509865,-0.1257,48.8534,2.3488)"
   ]
  },
  {
   "cell_type": "markdown",
   "metadata": {},
   "source": [
    "## Bonus Question!- Data Visualisation\n",
    "\n",
    "Using the cohorts data set, generate as closely as possible the following chart. Please use a plotting library such as ggplot (R) or seaborn (python). Alternatively, you may use excel. (Hint: The official Drover green has hex code #50FF7D)\n"
   ]
  },
  {
   "cell_type": "code",
   "execution_count": 1083,
   "metadata": {},
   "outputs": [],
   "source": [
    "cohort = read.csv(\"cohort_data_data_analyst_test.csv\")"
   ]
  },
  {
   "cell_type": "code",
   "execution_count": 1084,
   "metadata": {},
   "outputs": [],
   "source": [
    "cohort$cohort_month <- months(as.Date(cohort$cohort_start, format= \"%y/%m/%d\"))"
   ]
  },
  {
   "cell_type": "code",
   "execution_count": 1085,
   "metadata": {},
   "outputs": [],
   "source": [
    "cohort$cohort_month <- substr(cohort$cohort_month, 1, 3)\n",
    "cohort$cohort_year <- substr(cohort$cohort_year, 3, 4)"
   ]
  },
  {
   "cell_type": "code",
   "execution_count": 1086,
   "metadata": {},
   "outputs": [],
   "source": [
    "cohort$Cohort <- paste(cohort$cohort_month,\"-\",cohort$cohort_year,sep=\"\")"
   ]
  },
  {
   "cell_type": "code",
   "execution_count": 1087,
   "metadata": {},
   "outputs": [],
   "source": [
    "counts <- as.data.frame(table(cohort$cohort))\n",
    "colnames(counts) <- c(\"cohort\", \"Frequency\")"
   ]
  },
  {
   "cell_type": "code",
   "execution_count": 1088,
   "metadata": {},
   "outputs": [],
   "source": [
    "data <- merge(counts,cohort)"
   ]
  },
  {
   "cell_type": "code",
   "execution_count": 1089,
   "metadata": {},
   "outputs": [],
   "source": [
    "keeps <- c(\"Cohort\", \"Frequency\")\n",
    "data <- data[keeps]"
   ]
  },
  {
   "cell_type": "code",
   "execution_count": 1090,
   "metadata": {},
   "outputs": [],
   "source": [
    "data <- unique(data)"
   ]
  },
  {
   "cell_type": "code",
   "execution_count": 1091,
   "metadata": {},
   "outputs": [],
   "source": [
    "# lock in factor level order\n",
    "data$Cohort <- factor(data$Cohort, levels = data$Cohort)"
   ]
  },
  {
   "cell_type": "code",
   "execution_count": 1092,
   "metadata": {},
   "outputs": [
    {
     "data": {},
     "metadata": {},
     "output_type": "display_data"
    },
    {
     "data": {
      "image/png": "[encoded data removed]",
      "text/plain": [
       "plot without title"
      ]
     },
     "metadata": {},
     "output_type": "display_data"
    }
   ],
   "source": [
    "# Cohort Plot\n",
    "p<-ggplot(data=data, aes(x=Cohort, y=Frequency)) + geom_bar(stat=\"identity\", fill=\"#50FF7D\") +labs(x=\"Cohort\", \n",
    "        title=\"Number of drivers per cohort\",\n",
    "              subtitle=\"Cohort defined as month in which  driver's first booking started\")+ geom_text(aes(label=Frequency),vjust=-0.3, size=3.5) + \n",
    "theme_minimal()\n",
    "p + theme(panel.grid.major = element_blank(), panel.grid.minor = element_blank(),\n",
    "         axis.text.x = element_text(angle = 90, hjust = 0),\n",
    "         axis.text.y=element_blank(),\n",
    "         plot.title = element_text(hjust = 0.5), plot.subtitle = element_text(hjust=0.5))  + ylab(NULL)"
   ]
  }
 ],
 "metadata": {
  "kernelspec": {
   "display_name": "R",
   "language": "R",
   "name": "ir"
  },
  "language_info": {
   "codemirror_mode": "r",
   "file_extension": ".r",
   "mimetype": "text/x-r-source",
   "name": "R",
   "pygments_lexer": "r",
   "version": "3.5.1"
  }
 },
 "nbformat": 4,
 "nbformat_minor": 2
}
